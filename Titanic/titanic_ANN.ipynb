{
 "cells": [
  {
   "cell_type": "code",
   "execution_count": 1,
   "id": "ca6136f8",
   "metadata": {
    "_cell_guid": "b1076dfc-b9ad-4769-8c92-a6c4dae69d19",
    "_uuid": "8f2839f25d086af736a60e9eeb907d3b93b6e0e5",
    "execution": {
     "iopub.execute_input": "2022-02-06T06:03:53.004651Z",
     "iopub.status.busy": "2022-02-06T06:03:53.002830Z",
     "iopub.status.idle": "2022-02-06T06:03:54.102341Z",
     "shell.execute_reply": "2022-02-06T06:03:54.101534Z",
     "shell.execute_reply.started": "2022-02-06T05:56:20.719202Z"
    },
    "papermill": {
     "duration": 1.149152,
     "end_time": "2022-02-06T06:03:54.102509",
     "exception": false,
     "start_time": "2022-02-06T06:03:52.953357",
     "status": "completed"
    },
    "tags": []
   },
   "outputs": [
    {
     "name": "stdout",
     "output_type": "stream",
     "text": [
      "/kaggle/input/titanic/train.csv\n",
      "/kaggle/input/titanic/test.csv\n",
      "/kaggle/input/titanic/gender_submission.csv\n"
     ]
    }
   ],
   "source": [
    "# This Python 3 environment comes with many helpful analytics libraries installed\n",
    "# It is defined by the kaggle/python Docker image: https://github.com/kaggle/docker-python\n",
    "# For example, here's several helpful packages to load\n",
    "\n",
    "import numpy as np # linear algebra\n",
    "import pandas as pd # data processing, CSV file I/O (e.g. pd.read_csv)\n",
    "import seaborn as sns\n",
    "import matplotlib.pyplot as plt\n",
    "\n",
    "# Input data files are available in the read-only \"../input/\" directory\n",
    "# For example, running this (by clicking run or pressing Shift+Enter) will list all files under the input directory\n",
    "\n",
    "import os\n",
    "for dirname, _, filenames in os.walk('/kaggle/input'):\n",
    "    for filename in filenames:\n",
    "        print(os.path.join(dirname, filename))\n",
    "\n",
    "# You can write up to 20GB to the current directory (/kaggle/working/) that gets preserved as output when you create a version using \"Save & Run All\" \n",
    "# You can also write temporary files to /kaggle/temp/, but they won't be saved outside of the current session"
   ]
  },
  {
   "cell_type": "markdown",
   "id": "a79a7946",
   "metadata": {
    "papermill": {
     "duration": 0.044418,
     "end_time": "2022-02-06T06:03:54.191027",
     "exception": false,
     "start_time": "2022-02-06T06:03:54.146609",
     "status": "completed"
    },
    "tags": []
   },
   "source": [
    "# Extraction and Analysis "
   ]
  },
  {
   "cell_type": "code",
   "execution_count": 2,
   "id": "a3cced5a",
   "metadata": {
    "execution": {
     "iopub.execute_input": "2022-02-06T06:03:54.286568Z",
     "iopub.status.busy": "2022-02-06T06:03:54.285812Z",
     "iopub.status.idle": "2022-02-06T06:03:54.305140Z",
     "shell.execute_reply": "2022-02-06T06:03:54.304528Z",
     "shell.execute_reply.started": "2022-02-06T05:56:20.734580Z"
    },
    "papermill": {
     "duration": 0.068612,
     "end_time": "2022-02-06T06:03:54.305297",
     "exception": false,
     "start_time": "2022-02-06T06:03:54.236685",
     "status": "completed"
    },
    "tags": []
   },
   "outputs": [],
   "source": [
    "titanic_df = pd.read_csv('/kaggle/input/titanic/train.csv')"
   ]
  },
  {
   "cell_type": "code",
   "execution_count": 3,
   "id": "4e7e144a",
   "metadata": {
    "execution": {
     "iopub.execute_input": "2022-02-06T06:03:54.402673Z",
     "iopub.status.busy": "2022-02-06T06:03:54.401661Z",
     "iopub.status.idle": "2022-02-06T06:03:54.420685Z",
     "shell.execute_reply": "2022-02-06T06:03:54.421229Z",
     "shell.execute_reply.started": "2022-02-06T05:56:20.763855Z"
    },
    "papermill": {
     "duration": 0.07217,
     "end_time": "2022-02-06T06:03:54.421405",
     "exception": false,
     "start_time": "2022-02-06T06:03:54.349235",
     "status": "completed"
    },
    "tags": []
   },
   "outputs": [
    {
     "data": {
      "text/html": [
       "<div>\n",
       "<style scoped>\n",
       "    .dataframe tbody tr th:only-of-type {\n",
       "        vertical-align: middle;\n",
       "    }\n",
       "\n",
       "    .dataframe tbody tr th {\n",
       "        vertical-align: top;\n",
       "    }\n",
       "\n",
       "    .dataframe thead th {\n",
       "        text-align: right;\n",
       "    }\n",
       "</style>\n",
       "<table border=\"1\" class=\"dataframe\">\n",
       "  <thead>\n",
       "    <tr style=\"text-align: right;\">\n",
       "      <th></th>\n",
       "      <th>PassengerId</th>\n",
       "      <th>Survived</th>\n",
       "      <th>Pclass</th>\n",
       "      <th>Name</th>\n",
       "      <th>Sex</th>\n",
       "      <th>Age</th>\n",
       "      <th>SibSp</th>\n",
       "      <th>Parch</th>\n",
       "      <th>Ticket</th>\n",
       "      <th>Fare</th>\n",
       "      <th>Cabin</th>\n",
       "      <th>Embarked</th>\n",
       "    </tr>\n",
       "  </thead>\n",
       "  <tbody>\n",
       "    <tr>\n",
       "      <th>0</th>\n",
       "      <td>1</td>\n",
       "      <td>0</td>\n",
       "      <td>3</td>\n",
       "      <td>Braund, Mr. Owen Harris</td>\n",
       "      <td>male</td>\n",
       "      <td>22.0</td>\n",
       "      <td>1</td>\n",
       "      <td>0</td>\n",
       "      <td>A/5 21171</td>\n",
       "      <td>7.2500</td>\n",
       "      <td>NaN</td>\n",
       "      <td>S</td>\n",
       "    </tr>\n",
       "    <tr>\n",
       "      <th>1</th>\n",
       "      <td>2</td>\n",
       "      <td>1</td>\n",
       "      <td>1</td>\n",
       "      <td>Cumings, Mrs. John Bradley (Florence Briggs Th...</td>\n",
       "      <td>female</td>\n",
       "      <td>38.0</td>\n",
       "      <td>1</td>\n",
       "      <td>0</td>\n",
       "      <td>PC 17599</td>\n",
       "      <td>71.2833</td>\n",
       "      <td>C85</td>\n",
       "      <td>C</td>\n",
       "    </tr>\n",
       "    <tr>\n",
       "      <th>2</th>\n",
       "      <td>3</td>\n",
       "      <td>1</td>\n",
       "      <td>3</td>\n",
       "      <td>Heikkinen, Miss. Laina</td>\n",
       "      <td>female</td>\n",
       "      <td>26.0</td>\n",
       "      <td>0</td>\n",
       "      <td>0</td>\n",
       "      <td>STON/O2. 3101282</td>\n",
       "      <td>7.9250</td>\n",
       "      <td>NaN</td>\n",
       "      <td>S</td>\n",
       "    </tr>\n",
       "    <tr>\n",
       "      <th>3</th>\n",
       "      <td>4</td>\n",
       "      <td>1</td>\n",
       "      <td>1</td>\n",
       "      <td>Futrelle, Mrs. Jacques Heath (Lily May Peel)</td>\n",
       "      <td>female</td>\n",
       "      <td>35.0</td>\n",
       "      <td>1</td>\n",
       "      <td>0</td>\n",
       "      <td>113803</td>\n",
       "      <td>53.1000</td>\n",
       "      <td>C123</td>\n",
       "      <td>S</td>\n",
       "    </tr>\n",
       "    <tr>\n",
       "      <th>4</th>\n",
       "      <td>5</td>\n",
       "      <td>0</td>\n",
       "      <td>3</td>\n",
       "      <td>Allen, Mr. William Henry</td>\n",
       "      <td>male</td>\n",
       "      <td>35.0</td>\n",
       "      <td>0</td>\n",
       "      <td>0</td>\n",
       "      <td>373450</td>\n",
       "      <td>8.0500</td>\n",
       "      <td>NaN</td>\n",
       "      <td>S</td>\n",
       "    </tr>\n",
       "  </tbody>\n",
       "</table>\n",
       "</div>"
      ],
      "text/plain": [
       "   PassengerId  Survived  Pclass  \\\n",
       "0            1         0       3   \n",
       "1            2         1       1   \n",
       "2            3         1       3   \n",
       "3            4         1       1   \n",
       "4            5         0       3   \n",
       "\n",
       "                                                Name     Sex   Age  SibSp  \\\n",
       "0                            Braund, Mr. Owen Harris    male  22.0      1   \n",
       "1  Cumings, Mrs. John Bradley (Florence Briggs Th...  female  38.0      1   \n",
       "2                             Heikkinen, Miss. Laina  female  26.0      0   \n",
       "3       Futrelle, Mrs. Jacques Heath (Lily May Peel)  female  35.0      1   \n",
       "4                           Allen, Mr. William Henry    male  35.0      0   \n",
       "\n",
       "   Parch            Ticket     Fare Cabin Embarked  \n",
       "0      0         A/5 21171   7.2500   NaN        S  \n",
       "1      0          PC 17599  71.2833   C85        C  \n",
       "2      0  STON/O2. 3101282   7.9250   NaN        S  \n",
       "3      0            113803  53.1000  C123        S  \n",
       "4      0            373450   8.0500   NaN        S  "
      ]
     },
     "execution_count": 3,
     "metadata": {},
     "output_type": "execute_result"
    }
   ],
   "source": [
    "titanic_df.head()"
   ]
  },
  {
   "cell_type": "code",
   "execution_count": 4,
   "id": "f610915c",
   "metadata": {
    "execution": {
     "iopub.execute_input": "2022-02-06T06:03:54.518517Z",
     "iopub.status.busy": "2022-02-06T06:03:54.517793Z",
     "iopub.status.idle": "2022-02-06T06:03:54.520388Z",
     "shell.execute_reply": "2022-02-06T06:03:54.520894Z",
     "shell.execute_reply.started": "2022-02-06T05:56:20.784515Z"
    },
    "papermill": {
     "duration": 0.055717,
     "end_time": "2022-02-06T06:03:54.521070",
     "exception": false,
     "start_time": "2022-02-06T06:03:54.465353",
     "status": "completed"
    },
    "tags": []
   },
   "outputs": [
    {
     "data": {
      "text/plain": [
       "PassengerId      0\n",
       "Survived         0\n",
       "Pclass           0\n",
       "Name             0\n",
       "Sex              0\n",
       "Age            177\n",
       "SibSp            0\n",
       "Parch            0\n",
       "Ticket           0\n",
       "Fare             0\n",
       "Cabin          687\n",
       "Embarked         2\n",
       "dtype: int64"
      ]
     },
     "execution_count": 4,
     "metadata": {},
     "output_type": "execute_result"
    }
   ],
   "source": [
    "titanic_df.isnull().sum()"
   ]
  },
  {
   "cell_type": "markdown",
   "id": "16b7a0fc",
   "metadata": {
    "papermill": {
     "duration": 0.045399,
     "end_time": "2022-02-06T06:03:54.610724",
     "exception": false,
     "start_time": "2022-02-06T06:03:54.565325",
     "status": "completed"
    },
    "tags": []
   },
   "source": [
    "#### **I see that Age, Cabin and Emnarked have all some null value. Let's try fill out those missing values**"
   ]
  },
  {
   "cell_type": "code",
   "execution_count": 5,
   "id": "78baace7",
   "metadata": {
    "execution": {
     "iopub.execute_input": "2022-02-06T06:03:54.704473Z",
     "iopub.status.busy": "2022-02-06T06:03:54.703849Z",
     "iopub.status.idle": "2022-02-06T06:03:54.716692Z",
     "shell.execute_reply": "2022-02-06T06:03:54.717273Z",
     "shell.execute_reply.started": "2022-02-06T05:56:20.797579Z"
    },
    "papermill": {
     "duration": 0.062793,
     "end_time": "2022-02-06T06:03:54.717447",
     "exception": false,
     "start_time": "2022-02-06T06:03:54.654654",
     "status": "completed"
    },
    "tags": []
   },
   "outputs": [
    {
     "data": {
      "text/plain": [
       "count    714.000000\n",
       "mean      29.699118\n",
       "std       14.526497\n",
       "min        0.420000\n",
       "25%       20.125000\n",
       "50%       28.000000\n",
       "75%       38.000000\n",
       "max       80.000000\n",
       "Name: Age, dtype: float64"
      ]
     },
     "execution_count": 5,
     "metadata": {},
     "output_type": "execute_result"
    }
   ],
   "source": [
    "titanic_df.Age.describe()"
   ]
  },
  {
   "cell_type": "markdown",
   "id": "d12b7dc9",
   "metadata": {
    "papermill": {
     "duration": 0.044161,
     "end_time": "2022-02-06T06:03:54.806107",
     "exception": false,
     "start_time": "2022-02-06T06:03:54.761946",
     "status": "completed"
    },
    "tags": []
   },
   "source": []
  },
  {
   "cell_type": "markdown",
   "id": "24b3035d",
   "metadata": {
    "papermill": {
     "duration": 0.044993,
     "end_time": "2022-02-06T06:03:54.895448",
     "exception": false,
     "start_time": "2022-02-06T06:03:54.850455",
     "status": "completed"
    },
    "tags": []
   },
   "source": [
    "#### **Ok as the age has a standard devition of 14, we cannot fill out the the missing values with mean and also there are 177 values we cannot simply remove the missing rows from the table. Hence, we need to remove the whole columns itself** ####"
   ]
  },
  {
   "cell_type": "code",
   "execution_count": 6,
   "id": "45a58bf3",
   "metadata": {
    "execution": {
     "iopub.execute_input": "2022-02-06T06:03:54.996213Z",
     "iopub.status.busy": "2022-02-06T06:03:54.995335Z",
     "iopub.status.idle": "2022-02-06T06:03:54.998106Z",
     "shell.execute_reply": "2022-02-06T06:03:54.997623Z",
     "shell.execute_reply.started": "2022-02-06T05:56:20.813908Z"
    },
    "papermill": {
     "duration": 0.057241,
     "end_time": "2022-02-06T06:03:54.998264",
     "exception": false,
     "start_time": "2022-02-06T06:03:54.941023",
     "status": "completed"
    },
    "tags": []
   },
   "outputs": [],
   "source": [
    "titanic_df.drop('Age', inplace = True, axis = 1)"
   ]
  },
  {
   "cell_type": "markdown",
   "id": "9203f90a",
   "metadata": {
    "papermill": {
     "duration": 0.043937,
     "end_time": "2022-02-06T06:03:55.086613",
     "exception": false,
     "start_time": "2022-02-06T06:03:55.042676",
     "status": "completed"
    },
    "tags": []
   },
   "source": [
    "#### **Let's take look at Cabin** ####"
   ]
  },
  {
   "cell_type": "markdown",
   "id": "7c3078e6",
   "metadata": {
    "papermill": {
     "duration": 0.044171,
     "end_time": "2022-02-06T06:03:55.175096",
     "exception": false,
     "start_time": "2022-02-06T06:03:55.130925",
     "status": "completed"
    },
    "tags": []
   },
   "source": []
  },
  {
   "cell_type": "code",
   "execution_count": 7,
   "id": "736de480",
   "metadata": {
    "execution": {
     "iopub.execute_input": "2022-02-06T06:03:55.272290Z",
     "iopub.status.busy": "2022-02-06T06:03:55.269799Z",
     "iopub.status.idle": "2022-02-06T06:03:55.277123Z",
     "shell.execute_reply": "2022-02-06T06:03:55.276602Z",
     "shell.execute_reply.started": "2022-02-06T05:56:20.827283Z"
    },
    "papermill": {
     "duration": 0.057734,
     "end_time": "2022-02-06T06:03:55.277269",
     "exception": false,
     "start_time": "2022-02-06T06:03:55.219535",
     "status": "completed"
    },
    "tags": []
   },
   "outputs": [
    {
     "data": {
      "text/plain": [
       "count         204\n",
       "unique        147\n",
       "top       B96 B98\n",
       "freq            4\n",
       "Name: Cabin, dtype: object"
      ]
     },
     "execution_count": 7,
     "metadata": {},
     "output_type": "execute_result"
    }
   ],
   "source": [
    "titanic_df.Cabin.describe()"
   ]
  },
  {
   "cell_type": "code",
   "execution_count": 8,
   "id": "94036708",
   "metadata": {
    "execution": {
     "iopub.execute_input": "2022-02-06T06:03:55.377204Z",
     "iopub.status.busy": "2022-02-06T06:03:55.376484Z",
     "iopub.status.idle": "2022-02-06T06:03:55.379165Z",
     "shell.execute_reply": "2022-02-06T06:03:55.379666Z",
     "shell.execute_reply.started": "2022-02-06T05:56:20.849409Z"
    },
    "papermill": {
     "duration": 0.056126,
     "end_time": "2022-02-06T06:03:55.379846",
     "exception": false,
     "start_time": "2022-02-06T06:03:55.323720",
     "status": "completed"
    },
    "tags": []
   },
   "outputs": [
    {
     "data": {
      "text/plain": [
       "B96 B98        4\n",
       "G6             4\n",
       "C23 C25 C27    4\n",
       "C22 C26        3\n",
       "F33            3\n",
       "              ..\n",
       "E34            1\n",
       "C7             1\n",
       "C54            1\n",
       "E36            1\n",
       "C148           1\n",
       "Name: Cabin, Length: 147, dtype: int64"
      ]
     },
     "execution_count": 8,
     "metadata": {},
     "output_type": "execute_result"
    }
   ],
   "source": [
    "titanic_df.Cabin.value_counts()"
   ]
  },
  {
   "cell_type": "code",
   "execution_count": 9,
   "id": "fd03c889",
   "metadata": {
    "execution": {
     "iopub.execute_input": "2022-02-06T06:03:55.474741Z",
     "iopub.status.busy": "2022-02-06T06:03:55.473993Z",
     "iopub.status.idle": "2022-02-06T06:03:55.480259Z",
     "shell.execute_reply": "2022-02-06T06:03:55.480849Z",
     "shell.execute_reply.started": "2022-02-06T05:56:20.859512Z"
    },
    "papermill": {
     "duration": 0.055367,
     "end_time": "2022-02-06T06:03:55.481029",
     "exception": false,
     "start_time": "2022-02-06T06:03:55.425662",
     "status": "completed"
    },
    "tags": []
   },
   "outputs": [
    {
     "data": {
      "text/plain": [
       "147"
      ]
     },
     "execution_count": 9,
     "metadata": {},
     "output_type": "execute_result"
    }
   ],
   "source": [
    "titanic_df.Cabin.nunique()"
   ]
  },
  {
   "cell_type": "markdown",
   "id": "b5e22164",
   "metadata": {
    "papermill": {
     "duration": 0.045621,
     "end_time": "2022-02-06T06:03:55.572401",
     "exception": false,
     "start_time": "2022-02-06T06:03:55.526780",
     "status": "completed"
    },
    "tags": []
   },
   "source": [
    "#### **It seems the number of unique values are 147 out 158 non null cabin values which is about 93% from the available data. Hence, need to drop this column as well** ####"
   ]
  },
  {
   "cell_type": "code",
   "execution_count": 10,
   "id": "20c21b3d",
   "metadata": {
    "execution": {
     "iopub.execute_input": "2022-02-06T06:03:55.667343Z",
     "iopub.status.busy": "2022-02-06T06:03:55.666691Z",
     "iopub.status.idle": "2022-02-06T06:03:55.671446Z",
     "shell.execute_reply": "2022-02-06T06:03:55.671964Z",
     "shell.execute_reply.started": "2022-02-06T05:56:20.875327Z"
    },
    "papermill": {
     "duration": 0.053973,
     "end_time": "2022-02-06T06:03:55.672137",
     "exception": false,
     "start_time": "2022-02-06T06:03:55.618164",
     "status": "completed"
    },
    "tags": []
   },
   "outputs": [],
   "source": [
    "titanic_df.drop('Cabin', inplace = True, axis = 1)"
   ]
  },
  {
   "cell_type": "markdown",
   "id": "a31f20ff",
   "metadata": {
    "papermill": {
     "duration": 0.045809,
     "end_time": "2022-02-06T06:03:55.763669",
     "exception": false,
     "start_time": "2022-02-06T06:03:55.717860",
     "status": "completed"
    },
    "tags": []
   },
   "source": [
    "#### **The number of embarked rows that have null values are 2 which very low, therefore instead of dropping the whole column we just drop the empty rows** #### "
   ]
  },
  {
   "cell_type": "code",
   "execution_count": 11,
   "id": "5204f9d4",
   "metadata": {
    "execution": {
     "iopub.execute_input": "2022-02-06T06:03:55.859958Z",
     "iopub.status.busy": "2022-02-06T06:03:55.859247Z",
     "iopub.status.idle": "2022-02-06T06:03:55.861922Z",
     "shell.execute_reply": "2022-02-06T06:03:55.862478Z",
     "shell.execute_reply.started": "2022-02-06T05:56:20.889384Z"
    },
    "papermill": {
     "duration": 0.053363,
     "end_time": "2022-02-06T06:03:55.862702",
     "exception": false,
     "start_time": "2022-02-06T06:03:55.809339",
     "status": "completed"
    },
    "tags": []
   },
   "outputs": [],
   "source": [
    "#titanic_df.dropna()"
   ]
  },
  {
   "cell_type": "markdown",
   "id": "f8332d75",
   "metadata": {
    "papermill": {
     "duration": 0.045901,
     "end_time": "2022-02-06T06:03:55.954148",
     "exception": false,
     "start_time": "2022-02-06T06:03:55.908247",
     "status": "completed"
    },
    "tags": []
   },
   "source": [
    "# EDA"
   ]
  },
  {
   "cell_type": "code",
   "execution_count": 12,
   "id": "e6a3200d",
   "metadata": {
    "execution": {
     "iopub.execute_input": "2022-02-06T06:03:56.049473Z",
     "iopub.status.busy": "2022-02-06T06:03:56.048857Z",
     "iopub.status.idle": "2022-02-06T06:03:56.053178Z",
     "shell.execute_reply": "2022-02-06T06:03:56.052668Z",
     "shell.execute_reply.started": "2022-02-06T05:56:20.904888Z"
    },
    "papermill": {
     "duration": 0.053071,
     "end_time": "2022-02-06T06:03:56.053313",
     "exception": false,
     "start_time": "2022-02-06T06:03:56.000242",
     "status": "completed"
    },
    "tags": []
   },
   "outputs": [],
   "source": [
    "sns.set_style('darkgrid')"
   ]
  },
  {
   "cell_type": "code",
   "execution_count": 13,
   "id": "79791ccd",
   "metadata": {
    "execution": {
     "iopub.execute_input": "2022-02-06T06:03:56.154769Z",
     "iopub.status.busy": "2022-02-06T06:03:56.153155Z",
     "iopub.status.idle": "2022-02-06T06:03:56.403402Z",
     "shell.execute_reply": "2022-02-06T06:03:56.402687Z",
     "shell.execute_reply.started": "2022-02-06T05:56:20.920487Z"
    },
    "papermill": {
     "duration": 0.303812,
     "end_time": "2022-02-06T06:03:56.403574",
     "exception": false,
     "start_time": "2022-02-06T06:03:56.099762",
     "status": "completed"
    },
    "tags": []
   },
   "outputs": [
    {
     "data": {
      "text/plain": [
       "<AxesSubplot:xlabel='Survived', ylabel='Fare'>"
      ]
     },
     "execution_count": 13,
     "metadata": {},
     "output_type": "execute_result"
    },
    {
     "data": {
      "image/png": "[encoded data removed]",
      "text/plain": [
       "<Figure size 432x288 with 1 Axes>"
      ]
     },
     "metadata": {},
     "output_type": "display_data"
    }
   ],
   "source": [
    "sns.boxplot(y = 'Fare' , x = 'Survived' , data = titanic_df)"
   ]
  },
  {
   "cell_type": "markdown",
   "id": "1671d4de",
   "metadata": {
    "papermill": {
     "duration": 0.046733,
     "end_time": "2022-02-06T06:03:56.497365",
     "exception": false,
     "start_time": "2022-02-06T06:03:56.450632",
     "status": "completed"
    },
    "tags": []
   },
   "source": [
    "#### **It seems the fare is slightly co-related but we may get some patterns on that** ####"
   ]
  },
  {
   "cell_type": "code",
   "execution_count": 14,
   "id": "28502678",
   "metadata": {
    "execution": {
     "iopub.execute_input": "2022-02-06T06:03:56.594671Z",
     "iopub.status.busy": "2022-02-06T06:03:56.594012Z",
     "iopub.status.idle": "2022-02-06T06:03:56.841036Z",
     "shell.execute_reply": "2022-02-06T06:03:56.840294Z",
     "shell.execute_reply.started": "2022-02-06T05:56:21.158634Z"
    },
    "papermill": {
     "duration": 0.296905,
     "end_time": "2022-02-06T06:03:56.841188",
     "exception": false,
     "start_time": "2022-02-06T06:03:56.544283",
     "status": "completed"
    },
    "tags": []
   },
   "outputs": [
    {
     "data": {
      "text/plain": [
       "<AxesSubplot:xlabel='Embarked', ylabel='count'>"
      ]
     },
     "execution_count": 14,
     "metadata": {},
     "output_type": "execute_result"
    },
    {
     "data": {
      "image/png": "[encoded data removed]",
      "text/plain": [
       "<Figure size 432x288 with 1 Axes>"
      ]
     },
     "metadata": {},
     "output_type": "display_data"
    }
   ],
   "source": [
    "sns.countplot(x = 'Embarked', hue = 'Survived' , data = titanic_df)"
   ]
  },
  {
   "cell_type": "code",
   "execution_count": 15,
   "id": "3a71644b",
   "metadata": {
    "execution": {
     "iopub.execute_input": "2022-02-06T06:03:56.943826Z",
     "iopub.status.busy": "2022-02-06T06:03:56.943050Z",
     "iopub.status.idle": "2022-02-06T06:03:57.258132Z",
     "shell.execute_reply": "2022-02-06T06:03:57.258702Z",
     "shell.execute_reply.started": "2022-02-06T05:56:21.430553Z"
    },
    "papermill": {
     "duration": 0.36994,
     "end_time": "2022-02-06T06:03:57.258893",
     "exception": false,
     "start_time": "2022-02-06T06:03:56.888953",
     "status": "completed"
    },
    "tags": []
   },
   "outputs": [
    {
     "data": {
      "text/plain": [
       "<AxesSubplot:xlabel='SibSp', ylabel='count'>"
      ]
     },
     "execution_count": 15,
     "metadata": {},
     "output_type": "execute_result"
    },
    {
     "data": {
      "image/png": "[encoded data removed]",
      "text/plain": [
       "<Figure size 432x288 with 1 Axes>"
      ]
     },
     "metadata": {},
     "output_type": "display_data"
    }
   ],
   "source": [
    "sns.countplot(x = 'SibSp', hue = 'Survived' , data = titanic_df)"
   ]
  },
  {
   "cell_type": "code",
   "execution_count": 16,
   "id": "96977315",
   "metadata": {
    "execution": {
     "iopub.execute_input": "2022-02-06T06:03:57.364118Z",
     "iopub.status.busy": "2022-02-06T06:03:57.361198Z",
     "iopub.status.idle": "2022-02-06T06:03:57.605051Z",
     "shell.execute_reply": "2022-02-06T06:03:57.604452Z",
     "shell.execute_reply.started": "2022-02-06T05:56:21.755055Z"
    },
    "papermill": {
     "duration": 0.29642,
     "end_time": "2022-02-06T06:03:57.605193",
     "exception": false,
     "start_time": "2022-02-06T06:03:57.308773",
     "status": "completed"
    },
    "tags": []
   },
   "outputs": [
    {
     "data": {
      "text/plain": [
       "<AxesSubplot:xlabel='Pclass', ylabel='count'>"
      ]
     },
     "execution_count": 16,
     "metadata": {},
     "output_type": "execute_result"
    },
    {
     "data": {
      "image/png": "[encoded data removed]",
      "text/plain": [
       "<Figure size 432x288 with 1 Axes>"
      ]
     },
     "metadata": {},
     "output_type": "display_data"
    }
   ],
   "source": [
    "sns.countplot(x = 'Pclass', hue = 'Survived' , data = titanic_df)"
   ]
  },
  {
   "cell_type": "code",
   "execution_count": 17,
   "id": "39fda486",
   "metadata": {
    "execution": {
     "iopub.execute_input": "2022-02-06T06:03:57.710034Z",
     "iopub.status.busy": "2022-02-06T06:03:57.709294Z",
     "iopub.status.idle": "2022-02-06T06:03:57.999927Z",
     "shell.execute_reply": "2022-02-06T06:03:58.000440Z",
     "shell.execute_reply.started": "2022-02-06T05:57:21.779393Z"
    },
    "papermill": {
     "duration": 0.345124,
     "end_time": "2022-02-06T06:03:58.000656",
     "exception": false,
     "start_time": "2022-02-06T06:03:57.655532",
     "status": "completed"
    },
    "tags": []
   },
   "outputs": [
    {
     "data": {
      "text/plain": [
       "<AxesSubplot:xlabel='Parch', ylabel='count'>"
      ]
     },
     "execution_count": 17,
     "metadata": {},
     "output_type": "execute_result"
    },
    {
     "data": {
      "image/png": "[encoded data removed]",
      "text/plain": [
       "<Figure size 432x288 with 1 Axes>"
      ]
     },
     "metadata": {},
     "output_type": "display_data"
    }
   ],
   "source": [
    "sns.countplot(x = 'Parch', hue = 'Survived' , data = titanic_df)"
   ]
  },
  {
   "cell_type": "code",
   "execution_count": 18,
   "id": "431e3ce2",
   "metadata": {
    "execution": {
     "iopub.execute_input": "2022-02-06T06:03:58.112968Z",
     "iopub.status.busy": "2022-02-06T06:03:58.112239Z",
     "iopub.status.idle": "2022-02-06T06:03:58.325557Z",
     "shell.execute_reply": "2022-02-06T06:03:58.324977Z",
     "shell.execute_reply.started": "2022-02-06T05:57:22.090965Z"
    },
    "papermill": {
     "duration": 0.271522,
     "end_time": "2022-02-06T06:03:58.325718",
     "exception": false,
     "start_time": "2022-02-06T06:03:58.054196",
     "status": "completed"
    },
    "tags": []
   },
   "outputs": [
    {
     "data": {
      "text/plain": [
       "<AxesSubplot:xlabel='Sex', ylabel='count'>"
      ]
     },
     "execution_count": 18,
     "metadata": {},
     "output_type": "execute_result"
    },
    {
     "data": {
      "image/png": "[encoded data removed]",
      "text/plain": [
       "<Figure size 432x288 with 1 Axes>"
      ]
     },
     "metadata": {},
     "output_type": "display_data"
    }
   ],
   "source": [
    "sns.countplot(x = 'Sex', hue = 'Survived' , data = titanic_df)"
   ]
  },
  {
   "cell_type": "markdown",
   "id": "ceff5bdc",
   "metadata": {
    "papermill": {
     "duration": 0.05244,
     "end_time": "2022-02-06T06:03:58.430070",
     "exception": false,
     "start_time": "2022-02-06T06:03:58.377630",
     "status": "completed"
    },
    "tags": []
   },
   "source": [
    "#### **The above features seems to have co-relation so we should be including it** ####"
   ]
  },
  {
   "cell_type": "code",
   "execution_count": 19,
   "id": "c4e9442f",
   "metadata": {
    "execution": {
     "iopub.execute_input": "2022-02-06T06:03:58.541376Z",
     "iopub.status.busy": "2022-02-06T06:03:58.540648Z",
     "iopub.status.idle": "2022-02-06T06:03:58.556910Z",
     "shell.execute_reply": "2022-02-06T06:03:58.556021Z",
     "shell.execute_reply.started": "2022-02-06T05:57:22.324301Z"
    },
    "papermill": {
     "duration": 0.075237,
     "end_time": "2022-02-06T06:03:58.557173",
     "exception": false,
     "start_time": "2022-02-06T06:03:58.481936",
     "status": "completed"
    },
    "tags": []
   },
   "outputs": [
    {
     "name": "stdout",
     "output_type": "stream",
     "text": [
      "<class 'pandas.core.frame.DataFrame'>\n",
      "RangeIndex: 891 entries, 0 to 890\n",
      "Data columns (total 10 columns):\n",
      " #   Column       Non-Null Count  Dtype  \n",
      "---  ------       --------------  -----  \n",
      " 0   PassengerId  891 non-null    int64  \n",
      " 1   Survived     891 non-null    int64  \n",
      " 2   Pclass       891 non-null    int64  \n",
      " 3   Name         891 non-null    object \n",
      " 4   Sex          891 non-null    object \n",
      " 5   SibSp        891 non-null    int64  \n",
      " 6   Parch        891 non-null    int64  \n",
      " 7   Ticket       891 non-null    object \n",
      " 8   Fare         891 non-null    float64\n",
      " 9   Embarked     889 non-null    object \n",
      "dtypes: float64(1), int64(5), object(4)\n",
      "memory usage: 69.7+ KB\n"
     ]
    }
   ],
   "source": [
    "titanic_df.info()"
   ]
  },
  {
   "cell_type": "markdown",
   "id": "36c08e7e",
   "metadata": {
    "papermill": {
     "duration": 0.053263,
     "end_time": "2022-02-06T06:03:58.665627",
     "exception": false,
     "start_time": "2022-02-06T06:03:58.612364",
     "status": "completed"
    },
    "tags": []
   },
   "source": [
    "#### **The ticket feature has majority unique values and it is string value,hence we need to drop this column** ####"
   ]
  },
  {
   "cell_type": "code",
   "execution_count": 20,
   "id": "a1a623f5",
   "metadata": {
    "execution": {
     "iopub.execute_input": "2022-02-06T06:03:58.776157Z",
     "iopub.status.busy": "2022-02-06T06:03:58.774954Z",
     "iopub.status.idle": "2022-02-06T06:03:58.780485Z",
     "shell.execute_reply": "2022-02-06T06:03:58.781081Z",
     "shell.execute_reply.started": "2022-02-06T05:57:22.343282Z"
    },
    "papermill": {
     "duration": 0.062442,
     "end_time": "2022-02-06T06:03:58.781255",
     "exception": false,
     "start_time": "2022-02-06T06:03:58.718813",
     "status": "completed"
    },
    "tags": []
   },
   "outputs": [],
   "source": [
    "titanic_df.drop('Ticket', inplace = True, axis =1)"
   ]
  },
  {
   "cell_type": "markdown",
   "id": "e2d674e4",
   "metadata": {
    "papermill": {
     "duration": 0.053159,
     "end_time": "2022-02-06T06:03:58.887646",
     "exception": false,
     "start_time": "2022-02-06T06:03:58.834487",
     "status": "completed"
    },
    "tags": []
   },
   "source": [
    "#### **The passengerId and Name are use for identification thus I am removing the columns** ####"
   ]
  },
  {
   "cell_type": "code",
   "execution_count": 21,
   "id": "79d86aa5",
   "metadata": {
    "execution": {
     "iopub.execute_input": "2022-02-06T06:03:58.997659Z",
     "iopub.status.busy": "2022-02-06T06:03:58.996600Z",
     "iopub.status.idle": "2022-02-06T06:03:59.002279Z",
     "shell.execute_reply": "2022-02-06T06:03:59.003001Z",
     "shell.execute_reply.started": "2022-02-06T05:57:22.352599Z"
    },
    "papermill": {
     "duration": 0.062596,
     "end_time": "2022-02-06T06:03:59.003203",
     "exception": false,
     "start_time": "2022-02-06T06:03:58.940607",
     "status": "completed"
    },
    "tags": []
   },
   "outputs": [],
   "source": [
    "titanic_df.drop(['PassengerId', 'Name'] , inplace = True, axis =1)"
   ]
  },
  {
   "cell_type": "markdown",
   "id": "c6bc3804",
   "metadata": {
    "papermill": {
     "duration": 0.053479,
     "end_time": "2022-02-06T06:03:59.109307",
     "exception": false,
     "start_time": "2022-02-06T06:03:59.055828",
     "status": "completed"
    },
    "tags": []
   },
   "source": [
    "# Modeling"
   ]
  },
  {
   "cell_type": "markdown",
   "id": "da311d7a",
   "metadata": {
    "papermill": {
     "duration": 0.052642,
     "end_time": "2022-02-06T06:03:59.215432",
     "exception": false,
     "start_time": "2022-02-06T06:03:59.162790",
     "status": "completed"
    },
    "tags": []
   },
   "source": [
    "#### **I will use various models to predtict the outcome(each model will have seprate file)** ####"
   ]
  },
  {
   "cell_type": "code",
   "execution_count": 22,
   "id": "9fc5d23c",
   "metadata": {
    "execution": {
     "iopub.execute_input": "2022-02-06T06:03:59.326221Z",
     "iopub.status.busy": "2022-02-06T06:03:59.324588Z",
     "iopub.status.idle": "2022-02-06T06:03:59.518956Z",
     "shell.execute_reply": "2022-02-06T06:03:59.518277Z",
     "shell.execute_reply.started": "2022-02-06T05:57:22.368285Z"
    },
    "papermill": {
     "duration": 0.251475,
     "end_time": "2022-02-06T06:03:59.519105",
     "exception": false,
     "start_time": "2022-02-06T06:03:59.267630",
     "status": "completed"
    },
    "tags": []
   },
   "outputs": [],
   "source": [
    "from sklearn.model_selection import train_test_split"
   ]
  },
  {
   "cell_type": "code",
   "execution_count": 23,
   "id": "b3232216",
   "metadata": {
    "execution": {
     "iopub.execute_input": "2022-02-06T06:03:59.631699Z",
     "iopub.status.busy": "2022-02-06T06:03:59.631011Z",
     "iopub.status.idle": "2022-02-06T06:03:59.638364Z",
     "shell.execute_reply": "2022-02-06T06:03:59.637815Z",
     "shell.execute_reply.started": "2022-02-06T05:57:22.380491Z"
    },
    "papermill": {
     "duration": 0.067357,
     "end_time": "2022-02-06T06:03:59.638514",
     "exception": false,
     "start_time": "2022-02-06T06:03:59.571157",
     "status": "completed"
    },
    "tags": []
   },
   "outputs": [],
   "source": [
    "#test_data = pd.read_csv(\"/kaggle/input/titanic/test.csv\")\n",
    "#test_data.dropna()\n",
    "\n",
    "\n",
    "features = [\"Pclass\", \"Sex\", \"SibSp\", \"Parch\"]\n",
    "#X = pd.get_dummies(titanic_df[features])\n",
    "#X_test = pd.get_dummies(test_data[features])\n",
    "\n",
    "X = pd.get_dummies(titanic_df[features]).values\n",
    "y = titanic_df[\"Survived\"].values"
   ]
  },
  {
   "cell_type": "code",
   "execution_count": 24,
   "id": "9b02481b",
   "metadata": {
    "execution": {
     "iopub.execute_input": "2022-02-06T06:03:59.751764Z",
     "iopub.status.busy": "2022-02-06T06:03:59.748035Z",
     "iopub.status.idle": "2022-02-06T06:03:59.754434Z",
     "shell.execute_reply": "2022-02-06T06:03:59.753875Z",
     "shell.execute_reply.started": "2022-02-06T05:57:22.406214Z"
    },
    "papermill": {
     "duration": 0.062621,
     "end_time": "2022-02-06T06:03:59.754607",
     "exception": false,
     "start_time": "2022-02-06T06:03:59.691986",
     "status": "completed"
    },
    "tags": []
   },
   "outputs": [],
   "source": [
    "X_train, X_test, y_train, y_test = train_test_split(X, y, test_size=0.3, random_state=42)"
   ]
  },
  {
   "cell_type": "code",
   "execution_count": 25,
   "id": "de68ecb1",
   "metadata": {
    "execution": {
     "iopub.execute_input": "2022-02-06T06:03:59.865588Z",
     "iopub.status.busy": "2022-02-06T06:03:59.864882Z",
     "iopub.status.idle": "2022-02-06T06:04:06.041774Z",
     "shell.execute_reply": "2022-02-06T06:04:06.041167Z",
     "shell.execute_reply.started": "2022-02-06T05:57:22.423059Z"
    },
    "papermill": {
     "duration": 6.233942,
     "end_time": "2022-02-06T06:04:06.041935",
     "exception": false,
     "start_time": "2022-02-06T06:03:59.807993",
     "status": "completed"
    },
    "tags": []
   },
   "outputs": [],
   "source": [
    "import tensorflow as tf\n",
    "from tensorflow.keras.models import Sequential\n",
    "from tensorflow.keras.layers import Dense, Activation,Dropout,LeakyReLU\n",
    "from tensorflow.keras import layers\n",
    "from tensorflow.keras import regularizers\n"
   ]
  },
  {
   "cell_type": "code",
   "execution_count": 26,
   "id": "e82e144c",
   "metadata": {
    "execution": {
     "iopub.execute_input": "2022-02-06T06:04:06.151536Z",
     "iopub.status.busy": "2022-02-06T06:04:06.150869Z",
     "iopub.status.idle": "2022-02-06T06:04:06.152408Z",
     "shell.execute_reply": "2022-02-06T06:04:06.152934Z",
     "shell.execute_reply.started": "2022-02-06T05:57:22.439198Z"
    },
    "papermill": {
     "duration": 0.058812,
     "end_time": "2022-02-06T06:04:06.153123",
     "exception": false,
     "start_time": "2022-02-06T06:04:06.094311",
     "status": "completed"
    },
    "tags": []
   },
   "outputs": [],
   "source": [
    "#from sklearn.preprocessing import MinMaxScaler"
   ]
  },
  {
   "cell_type": "code",
   "execution_count": 27,
   "id": "1b43de65",
   "metadata": {
    "execution": {
     "iopub.execute_input": "2022-02-06T06:04:06.261701Z",
     "iopub.status.busy": "2022-02-06T06:04:06.261021Z",
     "iopub.status.idle": "2022-02-06T06:04:06.263998Z",
     "shell.execute_reply": "2022-02-06T06:04:06.264599Z",
     "shell.execute_reply.started": "2022-02-06T05:57:22.454220Z"
    },
    "papermill": {
     "duration": 0.059181,
     "end_time": "2022-02-06T06:04:06.264771",
     "exception": false,
     "start_time": "2022-02-06T06:04:06.205590",
     "status": "completed"
    },
    "tags": []
   },
   "outputs": [],
   "source": [
    "#scaler = MinMaxScaler()"
   ]
  },
  {
   "cell_type": "code",
   "execution_count": 28,
   "id": "38a6d5a8",
   "metadata": {
    "execution": {
     "iopub.execute_input": "2022-02-06T06:04:06.372750Z",
     "iopub.status.busy": "2022-02-06T06:04:06.372106Z",
     "iopub.status.idle": "2022-02-06T06:04:06.375003Z",
     "shell.execute_reply": "2022-02-06T06:04:06.375600Z",
     "shell.execute_reply.started": "2022-02-06T05:57:22.468205Z"
    },
    "papermill": {
     "duration": 0.058323,
     "end_time": "2022-02-06T06:04:06.375774",
     "exception": false,
     "start_time": "2022-02-06T06:04:06.317451",
     "status": "completed"
    },
    "tags": []
   },
   "outputs": [],
   "source": [
    "#scaler.fit(X_train)"
   ]
  },
  {
   "cell_type": "code",
   "execution_count": 29,
   "id": "a02950ef",
   "metadata": {
    "execution": {
     "iopub.execute_input": "2022-02-06T06:04:06.483344Z",
     "iopub.status.busy": "2022-02-06T06:04:06.482715Z",
     "iopub.status.idle": "2022-02-06T06:04:06.485620Z",
     "shell.execute_reply": "2022-02-06T06:04:06.486200Z",
     "shell.execute_reply.started": "2022-02-06T05:57:22.483820Z"
    },
    "papermill": {
     "duration": 0.058502,
     "end_time": "2022-02-06T06:04:06.486367",
     "exception": false,
     "start_time": "2022-02-06T06:04:06.427865",
     "status": "completed"
    },
    "tags": []
   },
   "outputs": [],
   "source": [
    "#X_train = scaler.transform(X_train)\n",
    "#X_test = scaler.transform(X_test)"
   ]
  },
  {
   "cell_type": "code",
   "execution_count": 30,
   "id": "178bbb71",
   "metadata": {
    "execution": {
     "iopub.execute_input": "2022-02-06T06:04:06.594891Z",
     "iopub.status.busy": "2022-02-06T06:04:06.594255Z",
     "iopub.status.idle": "2022-02-06T06:04:06.686682Z",
     "shell.execute_reply": "2022-02-06T06:04:06.687470Z",
     "shell.execute_reply.started": "2022-02-06T05:57:22.497255Z"
    },
    "papermill": {
     "duration": 0.149065,
     "end_time": "2022-02-06T06:04:06.687723",
     "exception": false,
     "start_time": "2022-02-06T06:04:06.538658",
     "status": "completed"
    },
    "tags": []
   },
   "outputs": [
    {
     "name": "stderr",
     "output_type": "stream",
     "text": [
      "\n",
      "User settings:\n",
      "\n",
      "   KMP_AFFINITY=granularity=fine,noverbose,compact,1,0\n",
      "   KMP_BLOCKTIME=0\n",
      "   KMP_DUPLICATE_LIB_OK=True\n",
      "   KMP_INIT_AT_FORK=FALSE\n",
      "   KMP_SETTINGS=1\n",
      "   KMP_WARNINGS=0\n",
      "\n",
      "Effective settings:\n",
      "\n",
      "   KMP_ABORT_DELAY=0\n",
      "   KMP_ADAPTIVE_LOCK_PROPS='1,1024'\n",
      "   KMP_ALIGN_ALLOC=64\n",
      "   KMP_ALL_THREADPRIVATE=128\n",
      "   KMP_ATOMIC_MODE=2\n",
      "   KMP_BLOCKTIME=0\n",
      "   KMP_CPUINFO_FILE: value is not defined\n",
      "   KMP_DETERMINISTIC_REDUCTION=false\n",
      "   KMP_DEVICE_THREAD_LIMIT=2147483647\n",
      "   KMP_DISP_NUM_BUFFERS=7\n",
      "   KMP_DUPLICATE_LIB_OK=true\n",
      "   KMP_ENABLE_TASK_THROTTLING=true\n",
      "   KMP_FORCE_REDUCTION: value is not defined\n",
      "   KMP_FOREIGN_THREADS_THREADPRIVATE=true\n",
      "   KMP_FORKJOIN_BARRIER='2,2'\n",
      "   KMP_FORKJOIN_BARRIER_PATTERN='hyper,hyper'\n",
      "   KMP_GTID_MODE=3\n",
      "   KMP_HANDLE_SIGNALS=false\n",
      "   KMP_HOT_TEAMS_MAX_LEVEL=1\n",
      "   KMP_HOT_TEAMS_MODE=0\n",
      "   KMP_INIT_AT_FORK=true\n",
      "   KMP_LIBRARY=throughput\n",
      "   KMP_LOCK_KIND=queuing\n",
      "   KMP_MALLOC_POOL_INCR=1M\n",
      "   KMP_NUM_LOCKS_IN_BLOCK=1\n",
      "   KMP_PLAIN_BARRIER='2,2'\n",
      "   KMP_PLAIN_BARRIER_PATTERN='hyper,hyper'\n",
      "   KMP_REDUCTION_BARRIER='1,1'\n",
      "   KMP_REDUCTION_BARRIER_PATTERN='hyper,hyper'\n",
      "   KMP_SCHEDULE='static,balanced;guided,iterative'\n",
      "   KMP_SETTINGS=true\n",
      "   KMP_SPIN_BACKOFF_PARAMS='4096,100'\n",
      "   KMP_STACKOFFSET=64\n",
      "   KMP_STACKPAD=0\n",
      "   KMP_STACKSIZE=8M\n",
      "   KMP_STORAGE_MAP=false\n",
      "   KMP_TASKING=2\n",
      "   KMP_TASKLOOP_MIN_TASKS=0\n",
      "   KMP_TASK_STEALING_CONSTRAINT=1\n",
      "   KMP_TEAMS_THREAD_LIMIT=4\n",
      "   KMP_TOPOLOGY_METHOD=all\n",
      "   KMP_USE_YIELD=1\n",
      "   KMP_VERSION=false\n",
      "   KMP_WARNINGS=false\n",
      "   OMP_AFFINITY_FORMAT='OMP: pid %P tid %i thread %n bound to OS proc set {%A}'\n",
      "   OMP_ALLOCATOR=omp_default_mem_alloc\n",
      "   OMP_CANCELLATION=false\n",
      "   OMP_DEFAULT_DEVICE=0\n",
      "   OMP_DISPLAY_AFFINITY=false\n",
      "   OMP_DISPLAY_ENV=false\n",
      "   OMP_DYNAMIC=false\n",
      "   OMP_MAX_ACTIVE_LEVELS=1\n",
      "   OMP_MAX_TASK_PRIORITY=0\n",
      "   OMP_NESTED: deprecated; max-active-levels-var=1\n",
      "   OMP_NUM_THREADS: value is not defined\n",
      "   OMP_PLACES: value is not defined\n",
      "   OMP_PROC_BIND='intel'\n",
      "   OMP_SCHEDULE='static'\n",
      "   OMP_STACKSIZE=8M\n",
      "   OMP_TARGET_OFFLOAD=DEFAULT\n",
      "   OMP_THREAD_LIMIT=2147483647\n",
      "   OMP_WAIT_POLICY=PASSIVE\n",
      "   KMP_AFFINITY='noverbose,warnings,respect,granularity=fine,compact,1,0'\n",
      "\n",
      "2022-02-06 06:04:06.634881: I tensorflow/core/common_runtime/process_util.cc:146] Creating new thread pool with default inter op setting: 2. Tune using inter_op_parallelism_threads for best performance.\n"
     ]
    }
   ],
   "source": [
    "leaky_relu = LeakyReLU(alpha=0.01)\n",
    "\n",
    "initializer = tf.keras.initializers.RandomUniform(minval = 0, maxval = 0.7,seed =100)\n",
    "\n",
    "\n",
    "model = Sequential()\n",
    "\n",
    "\n",
    "model.add(Dense(units=4,activation='leaky_relu', kernel_initializer = initializer))\n",
    "\n",
    "model.add(Dense(units=2,activation='leaky_relu', kernel_initializer = initializer))\n",
    "model.add(Dropout(0.5))\n",
    "\n",
    "model.add(Dense(units=1,activation='sigmoid'))\n",
    "\n",
    "model.compile(loss='binary_crossentropy', optimizer='adam')"
   ]
  },
  {
   "cell_type": "code",
   "execution_count": 31,
   "id": "0982739d",
   "metadata": {
    "execution": {
     "iopub.execute_input": "2022-02-06T06:04:06.799223Z",
     "iopub.status.busy": "2022-02-06T06:04:06.798207Z",
     "iopub.status.idle": "2022-02-06T06:04:06.802215Z",
     "shell.execute_reply": "2022-02-06T06:04:06.802874Z",
     "shell.execute_reply.started": "2022-02-06T05:57:22.527608Z"
    },
    "papermill": {
     "duration": 0.061202,
     "end_time": "2022-02-06T06:04:06.803059",
     "exception": false,
     "start_time": "2022-02-06T06:04:06.741857",
     "status": "completed"
    },
    "tags": []
   },
   "outputs": [],
   "source": [
    "from tensorflow.keras.callbacks import EarlyStopping"
   ]
  },
  {
   "cell_type": "code",
   "execution_count": 32,
   "id": "d521b328",
   "metadata": {
    "execution": {
     "iopub.execute_input": "2022-02-06T06:04:06.915156Z",
     "iopub.status.busy": "2022-02-06T06:04:06.914454Z",
     "iopub.status.idle": "2022-02-06T06:04:06.916403Z",
     "shell.execute_reply": "2022-02-06T06:04:06.916913Z",
     "shell.execute_reply.started": "2022-02-06T05:57:22.533652Z"
    },
    "papermill": {
     "duration": 0.059984,
     "end_time": "2022-02-06T06:04:06.917108",
     "exception": false,
     "start_time": "2022-02-06T06:04:06.857124",
     "status": "completed"
    },
    "tags": []
   },
   "outputs": [],
   "source": [
    "early_stop = EarlyStopping(monitor='val_loss', mode='min', verbose=1, patience=50)"
   ]
  },
  {
   "cell_type": "code",
   "execution_count": 33,
   "id": "cd403872",
   "metadata": {
    "execution": {
     "iopub.execute_input": "2022-02-06T06:04:07.027003Z",
     "iopub.status.busy": "2022-02-06T06:04:07.024477Z",
     "iopub.status.idle": "2022-02-06T06:04:38.513968Z",
     "shell.execute_reply": "2022-02-06T06:04:38.514427Z",
     "shell.execute_reply.started": "2022-02-06T05:57:22.547167Z"
    },
    "papermill": {
     "duration": 31.544945,
     "end_time": "2022-02-06T06:04:38.514625",
     "exception": false,
     "start_time": "2022-02-06T06:04:06.969680",
     "status": "completed"
    },
    "tags": []
   },
   "outputs": [
    {
     "name": "stderr",
     "output_type": "stream",
     "text": [
      "2022-02-06 06:04:07.110020: I tensorflow/compiler/mlir/mlir_graph_optimization_pass.cc:185] None of the MLIR Optimization Passes are enabled (registered 2)\n"
     ]
    },
    {
     "name": "stdout",
     "output_type": "stream",
     "text": [
      "Epoch 1/2000\n",
      "20/20 [==============================] - 1s 23ms/step - loss: 1.1347 - val_loss: 0.8633\n",
      "Epoch 2/2000\n",
      "20/20 [==============================] - 0s 3ms/step - loss: 1.0477 - val_loss: 0.7944\n",
      "Epoch 3/2000\n",
      "20/20 [==============================] - 0s 3ms/step - loss: 0.9180 - val_loss: 0.7475\n",
      "Epoch 4/2000\n",
      "20/20 [==============================] - 0s 3ms/step - loss: 0.8332 - val_loss: 0.7174\n",
      "Epoch 5/2000\n",
      "20/20 [==============================] - 0s 3ms/step - loss: 0.7952 - val_loss: 0.6975\n",
      "Epoch 6/2000\n",
      "20/20 [==============================] - 0s 3ms/step - loss: 0.7667 - val_loss: 0.6829\n",
      "Epoch 7/2000\n",
      "20/20 [==============================] - 0s 3ms/step - loss: 0.7425 - val_loss: 0.6744\n",
      "Epoch 8/2000\n",
      "20/20 [==============================] - 0s 3ms/step - loss: 0.7200 - val_loss: 0.6685\n",
      "Epoch 9/2000\n",
      "20/20 [==============================] - 0s 4ms/step - loss: 0.6975 - val_loss: 0.6648\n",
      "Epoch 10/2000\n",
      "20/20 [==============================] - 0s 3ms/step - loss: 0.6859 - val_loss: 0.6617\n",
      "Epoch 11/2000\n",
      "20/20 [==============================] - 0s 4ms/step - loss: 0.6753 - val_loss: 0.6596\n",
      "Epoch 12/2000\n",
      "20/20 [==============================] - 0s 3ms/step - loss: 0.6795 - val_loss: 0.6580\n",
      "Epoch 13/2000\n",
      "20/20 [==============================] - 0s 3ms/step - loss: 0.6635 - val_loss: 0.6563\n",
      "Epoch 14/2000\n",
      "20/20 [==============================] - 0s 3ms/step - loss: 0.6776 - val_loss: 0.6551\n",
      "Epoch 15/2000\n",
      "20/20 [==============================] - 0s 3ms/step - loss: 0.6895 - val_loss: 0.6537\n",
      "Epoch 16/2000\n",
      "20/20 [==============================] - 0s 4ms/step - loss: 0.6751 - val_loss: 0.6525\n",
      "Epoch 17/2000\n",
      "20/20 [==============================] - 0s 3ms/step - loss: 0.6594 - val_loss: 0.6509\n",
      "Epoch 18/2000\n",
      "20/20 [==============================] - 0s 3ms/step - loss: 0.6718 - val_loss: 0.6492\n",
      "Epoch 19/2000\n",
      "20/20 [==============================] - 0s 3ms/step - loss: 0.6618 - val_loss: 0.6469\n",
      "Epoch 20/2000\n",
      "20/20 [==============================] - 0s 4ms/step - loss: 0.6615 - val_loss: 0.6441\n",
      "Epoch 21/2000\n",
      "20/20 [==============================] - 0s 3ms/step - loss: 0.6532 - val_loss: 0.6409\n",
      "Epoch 22/2000\n",
      "20/20 [==============================] - 0s 4ms/step - loss: 0.6369 - val_loss: 0.6377\n",
      "Epoch 23/2000\n",
      "20/20 [==============================] - 0s 3ms/step - loss: 0.6476 - val_loss: 0.6338\n",
      "Epoch 24/2000\n",
      "20/20 [==============================] - 0s 3ms/step - loss: 0.6521 - val_loss: 0.6310\n",
      "Epoch 25/2000\n",
      "20/20 [==============================] - 0s 3ms/step - loss: 0.6318 - val_loss: 0.6276\n",
      "Epoch 26/2000\n",
      "20/20 [==============================] - 0s 3ms/step - loss: 0.6374 - val_loss: 0.6231\n",
      "Epoch 27/2000\n",
      "20/20 [==============================] - 0s 3ms/step - loss: 0.6341 - val_loss: 0.6195\n",
      "Epoch 28/2000\n",
      "20/20 [==============================] - 0s 3ms/step - loss: 0.6359 - val_loss: 0.6161\n",
      "Epoch 29/2000\n",
      "20/20 [==============================] - 0s 3ms/step - loss: 0.6195 - val_loss: 0.6122\n",
      "Epoch 30/2000\n",
      "20/20 [==============================] - 0s 3ms/step - loss: 0.6177 - val_loss: 0.6072\n",
      "Epoch 31/2000\n",
      "20/20 [==============================] - 0s 3ms/step - loss: 0.6153 - val_loss: 0.6029\n",
      "Epoch 32/2000\n",
      "20/20 [==============================] - 0s 3ms/step - loss: 0.6258 - val_loss: 0.5999\n",
      "Epoch 33/2000\n",
      "20/20 [==============================] - 0s 3ms/step - loss: 0.6171 - val_loss: 0.5961\n",
      "Epoch 34/2000\n",
      "20/20 [==============================] - 0s 3ms/step - loss: 0.6114 - val_loss: 0.5925\n",
      "Epoch 35/2000\n",
      "20/20 [==============================] - 0s 3ms/step - loss: 0.5992 - val_loss: 0.5881\n",
      "Epoch 36/2000\n",
      "20/20 [==============================] - 0s 3ms/step - loss: 0.6015 - val_loss: 0.5835\n",
      "Epoch 37/2000\n",
      "20/20 [==============================] - 0s 3ms/step - loss: 0.6045 - val_loss: 0.5802\n",
      "Epoch 38/2000\n",
      "20/20 [==============================] - 0s 4ms/step - loss: 0.5978 - val_loss: 0.5770\n",
      "Epoch 39/2000\n",
      "20/20 [==============================] - 0s 3ms/step - loss: 0.6093 - val_loss: 0.5748\n",
      "Epoch 40/2000\n",
      "20/20 [==============================] - 0s 3ms/step - loss: 0.5916 - val_loss: 0.5730\n",
      "Epoch 41/2000\n",
      "20/20 [==============================] - 0s 4ms/step - loss: 0.5976 - val_loss: 0.5701\n",
      "Epoch 42/2000\n",
      "20/20 [==============================] - 0s 3ms/step - loss: 0.5982 - val_loss: 0.5691\n",
      "Epoch 43/2000\n",
      "20/20 [==============================] - 0s 3ms/step - loss: 0.5898 - val_loss: 0.5670\n",
      "Epoch 44/2000\n",
      "20/20 [==============================] - 0s 4ms/step - loss: 0.6025 - val_loss: 0.5653\n",
      "Epoch 45/2000\n",
      "20/20 [==============================] - 0s 3ms/step - loss: 0.5934 - val_loss: 0.5639\n",
      "Epoch 46/2000\n",
      "20/20 [==============================] - 0s 3ms/step - loss: 0.5894 - val_loss: 0.5620\n",
      "Epoch 47/2000\n",
      "20/20 [==============================] - 0s 3ms/step - loss: 0.5962 - val_loss: 0.5610\n",
      "Epoch 48/2000\n",
      "20/20 [==============================] - 0s 3ms/step - loss: 0.5797 - val_loss: 0.5593\n",
      "Epoch 49/2000\n",
      "20/20 [==============================] - 0s 3ms/step - loss: 0.5898 - val_loss: 0.5580\n",
      "Epoch 50/2000\n",
      "20/20 [==============================] - 0s 3ms/step - loss: 0.5735 - val_loss: 0.5548\n",
      "Epoch 51/2000\n",
      "20/20 [==============================] - 0s 3ms/step - loss: 0.5922 - val_loss: 0.5535\n",
      "Epoch 52/2000\n",
      "20/20 [==============================] - 0s 3ms/step - loss: 0.5797 - val_loss: 0.5532\n",
      "Epoch 53/2000\n",
      "20/20 [==============================] - 0s 4ms/step - loss: 0.5940 - val_loss: 0.5529\n",
      "Epoch 54/2000\n",
      "20/20 [==============================] - 0s 4ms/step - loss: 0.5765 - val_loss: 0.5512\n",
      "Epoch 55/2000\n",
      "20/20 [==============================] - 0s 4ms/step - loss: 0.5866 - val_loss: 0.5504\n",
      "Epoch 56/2000\n",
      "20/20 [==============================] - 0s 3ms/step - loss: 0.5820 - val_loss: 0.5493\n",
      "Epoch 57/2000\n",
      "20/20 [==============================] - 0s 3ms/step - loss: 0.5845 - val_loss: 0.5483\n",
      "Epoch 58/2000\n",
      "20/20 [==============================] - 0s 3ms/step - loss: 0.5754 - val_loss: 0.5473\n",
      "Epoch 59/2000\n",
      "20/20 [==============================] - 0s 3ms/step - loss: 0.5730 - val_loss: 0.5461\n",
      "Epoch 60/2000\n",
      "20/20 [==============================] - 0s 4ms/step - loss: 0.5790 - val_loss: 0.5438\n",
      "Epoch 61/2000\n",
      "20/20 [==============================] - 0s 3ms/step - loss: 0.5717 - val_loss: 0.5419\n",
      "Epoch 62/2000\n",
      "20/20 [==============================] - 0s 3ms/step - loss: 0.5789 - val_loss: 0.5415\n",
      "Epoch 63/2000\n",
      "20/20 [==============================] - 0s 3ms/step - loss: 0.5801 - val_loss: 0.5410\n",
      "Epoch 64/2000\n",
      "20/20 [==============================] - 0s 3ms/step - loss: 0.5799 - val_loss: 0.5405\n",
      "Epoch 65/2000\n",
      "20/20 [==============================] - 0s 3ms/step - loss: 0.5633 - val_loss: 0.5390\n",
      "Epoch 66/2000\n",
      "20/20 [==============================] - 0s 4ms/step - loss: 0.5670 - val_loss: 0.5368\n",
      "Epoch 67/2000\n",
      "20/20 [==============================] - 0s 4ms/step - loss: 0.5686 - val_loss: 0.5354\n",
      "Epoch 68/2000\n",
      "20/20 [==============================] - 0s 3ms/step - loss: 0.5543 - val_loss: 0.5330\n",
      "Epoch 69/2000\n",
      "20/20 [==============================] - 0s 3ms/step - loss: 0.5831 - val_loss: 0.5324\n",
      "Epoch 70/2000\n",
      "20/20 [==============================] - 0s 3ms/step - loss: 0.5635 - val_loss: 0.5322\n",
      "Epoch 71/2000\n",
      "20/20 [==============================] - 0s 3ms/step - loss: 0.5673 - val_loss: 0.5307\n",
      "Epoch 72/2000\n",
      "20/20 [==============================] - 0s 3ms/step - loss: 0.5793 - val_loss: 0.5296\n",
      "Epoch 73/2000\n",
      "20/20 [==============================] - 0s 3ms/step - loss: 0.5615 - val_loss: 0.5291\n",
      "Epoch 74/2000\n",
      "20/20 [==============================] - 0s 3ms/step - loss: 0.5792 - val_loss: 0.5293\n",
      "Epoch 75/2000\n",
      "20/20 [==============================] - 0s 3ms/step - loss: 0.5768 - val_loss: 0.5291\n",
      "Epoch 76/2000\n",
      "20/20 [==============================] - 0s 3ms/step - loss: 0.5687 - val_loss: 0.5284\n",
      "Epoch 77/2000\n",
      "20/20 [==============================] - 0s 3ms/step - loss: 0.5548 - val_loss: 0.5267\n",
      "Epoch 78/2000\n",
      "20/20 [==============================] - 0s 3ms/step - loss: 0.5693 - val_loss: 0.5254\n",
      "Epoch 79/2000\n",
      "20/20 [==============================] - 0s 3ms/step - loss: 0.5681 - val_loss: 0.5246\n",
      "Epoch 80/2000\n",
      "20/20 [==============================] - 0s 3ms/step - loss: 0.5628 - val_loss: 0.5228\n",
      "Epoch 81/2000\n",
      "20/20 [==============================] - 0s 5ms/step - loss: 0.5616 - val_loss: 0.5216\n",
      "Epoch 82/2000\n",
      "20/20 [==============================] - 0s 3ms/step - loss: 0.5603 - val_loss: 0.5219\n",
      "Epoch 83/2000\n",
      "20/20 [==============================] - 0s 3ms/step - loss: 0.5588 - val_loss: 0.5206\n",
      "Epoch 84/2000\n",
      "20/20 [==============================] - 0s 3ms/step - loss: 0.5611 - val_loss: 0.5196\n",
      "Epoch 85/2000\n",
      "20/20 [==============================] - 0s 3ms/step - loss: 0.5665 - val_loss: 0.5190\n",
      "Epoch 86/2000\n",
      "20/20 [==============================] - 0s 3ms/step - loss: 0.5605 - val_loss: 0.5191\n",
      "Epoch 87/2000\n",
      "20/20 [==============================] - 0s 3ms/step - loss: 0.5541 - val_loss: 0.5182\n",
      "Epoch 88/2000\n",
      "20/20 [==============================] - 0s 3ms/step - loss: 0.5663 - val_loss: 0.5164\n",
      "Epoch 89/2000\n",
      "20/20 [==============================] - 0s 3ms/step - loss: 0.5552 - val_loss: 0.5140\n",
      "Epoch 90/2000\n",
      "20/20 [==============================] - 0s 3ms/step - loss: 0.5612 - val_loss: 0.5130\n",
      "Epoch 91/2000\n",
      "20/20 [==============================] - 0s 3ms/step - loss: 0.5676 - val_loss: 0.5132\n",
      "Epoch 92/2000\n",
      "20/20 [==============================] - 0s 3ms/step - loss: 0.5600 - val_loss: 0.5153\n",
      "Epoch 93/2000\n",
      "20/20 [==============================] - 0s 3ms/step - loss: 0.5462 - val_loss: 0.5125\n",
      "Epoch 94/2000\n",
      "20/20 [==============================] - 0s 3ms/step - loss: 0.5494 - val_loss: 0.5104\n",
      "Epoch 95/2000\n",
      "20/20 [==============================] - 0s 3ms/step - loss: 0.5622 - val_loss: 0.5091\n",
      "Epoch 96/2000\n",
      "20/20 [==============================] - 0s 3ms/step - loss: 0.5426 - val_loss: 0.5077\n",
      "Epoch 97/2000\n",
      "20/20 [==============================] - 0s 3ms/step - loss: 0.5492 - val_loss: 0.5079\n",
      "Epoch 98/2000\n",
      "20/20 [==============================] - 0s 3ms/step - loss: 0.5315 - val_loss: 0.5057\n",
      "Epoch 99/2000\n",
      "20/20 [==============================] - 0s 3ms/step - loss: 0.5603 - val_loss: 0.5043\n",
      "Epoch 100/2000\n",
      "20/20 [==============================] - 0s 3ms/step - loss: 0.5456 - val_loss: 0.5029\n",
      "Epoch 101/2000\n",
      "20/20 [==============================] - 0s 3ms/step - loss: 0.5406 - val_loss: 0.5011\n",
      "Epoch 102/2000\n",
      "20/20 [==============================] - 0s 3ms/step - loss: 0.5377 - val_loss: 0.5013\n",
      "Epoch 103/2000\n",
      "20/20 [==============================] - 0s 3ms/step - loss: 0.5586 - val_loss: 0.5006\n",
      "Epoch 104/2000\n",
      "20/20 [==============================] - 0s 3ms/step - loss: 0.5484 - val_loss: 0.4990\n",
      "Epoch 105/2000\n",
      "20/20 [==============================] - 0s 3ms/step - loss: 0.5491 - val_loss: 0.5007\n",
      "Epoch 106/2000\n",
      "20/20 [==============================] - 0s 3ms/step - loss: 0.5493 - val_loss: 0.4978\n",
      "Epoch 107/2000\n",
      "20/20 [==============================] - 0s 3ms/step - loss: 0.5486 - val_loss: 0.4977\n",
      "Epoch 108/2000\n",
      "20/20 [==============================] - 0s 3ms/step - loss: 0.5469 - val_loss: 0.4963\n",
      "Epoch 109/2000\n",
      "20/20 [==============================] - 0s 3ms/step - loss: 0.5536 - val_loss: 0.4965\n",
      "Epoch 110/2000\n",
      "20/20 [==============================] - 0s 3ms/step - loss: 0.5706 - val_loss: 0.4991\n",
      "Epoch 111/2000\n",
      "20/20 [==============================] - 0s 3ms/step - loss: 0.5471 - val_loss: 0.4983\n",
      "Epoch 112/2000\n",
      "20/20 [==============================] - 0s 3ms/step - loss: 0.5607 - val_loss: 0.4974\n",
      "Epoch 113/2000\n",
      "20/20 [==============================] - 0s 3ms/step - loss: 0.5341 - val_loss: 0.4955\n",
      "Epoch 114/2000\n",
      "20/20 [==============================] - 0s 3ms/step - loss: 0.5320 - val_loss: 0.4941\n",
      "Epoch 115/2000\n",
      "20/20 [==============================] - 0s 3ms/step - loss: 0.5608 - val_loss: 0.4931\n",
      "Epoch 116/2000\n",
      "20/20 [==============================] - 0s 3ms/step - loss: 0.5452 - val_loss: 0.4910\n",
      "Epoch 117/2000\n",
      "20/20 [==============================] - 0s 3ms/step - loss: 0.5308 - val_loss: 0.4907\n",
      "Epoch 118/2000\n",
      "20/20 [==============================] - 0s 3ms/step - loss: 0.5435 - val_loss: 0.4895\n",
      "Epoch 119/2000\n",
      "20/20 [==============================] - 0s 3ms/step - loss: 0.5745 - val_loss: 0.4910\n",
      "Epoch 120/2000\n",
      "20/20 [==============================] - 0s 3ms/step - loss: 0.5479 - val_loss: 0.4925\n",
      "Epoch 121/2000\n",
      "20/20 [==============================] - 0s 3ms/step - loss: 0.5218 - val_loss: 0.4896\n",
      "Epoch 122/2000\n",
      "20/20 [==============================] - 0s 3ms/step - loss: 0.5451 - val_loss: 0.4870\n",
      "Epoch 123/2000\n",
      "20/20 [==============================] - 0s 3ms/step - loss: 0.5299 - val_loss: 0.4867\n",
      "Epoch 124/2000\n",
      "20/20 [==============================] - 0s 3ms/step - loss: 0.5358 - val_loss: 0.4861\n",
      "Epoch 125/2000\n",
      "20/20 [==============================] - 0s 3ms/step - loss: 0.5429 - val_loss: 0.4853\n",
      "Epoch 126/2000\n",
      "20/20 [==============================] - 0s 3ms/step - loss: 0.5269 - val_loss: 0.4853\n",
      "Epoch 127/2000\n",
      "20/20 [==============================] - 0s 3ms/step - loss: 0.5265 - val_loss: 0.4841\n",
      "Epoch 128/2000\n",
      "20/20 [==============================] - 0s 3ms/step - loss: 0.5196 - val_loss: 0.4813\n",
      "Epoch 129/2000\n",
      "20/20 [==============================] - 0s 3ms/step - loss: 0.5353 - val_loss: 0.4818\n",
      "Epoch 130/2000\n",
      "20/20 [==============================] - 0s 3ms/step - loss: 0.5479 - val_loss: 0.4807\n",
      "Epoch 131/2000\n",
      "20/20 [==============================] - 0s 3ms/step - loss: 0.5247 - val_loss: 0.4778\n",
      "Epoch 132/2000\n",
      "20/20 [==============================] - 0s 3ms/step - loss: 0.5231 - val_loss: 0.4752\n",
      "Epoch 133/2000\n",
      "20/20 [==============================] - 0s 3ms/step - loss: 0.5479 - val_loss: 0.4751\n",
      "Epoch 134/2000\n",
      "20/20 [==============================] - 0s 3ms/step - loss: 0.5337 - val_loss: 0.4749\n",
      "Epoch 135/2000\n",
      "20/20 [==============================] - 0s 3ms/step - loss: 0.5388 - val_loss: 0.4785\n",
      "Epoch 136/2000\n",
      "20/20 [==============================] - 0s 3ms/step - loss: 0.5350 - val_loss: 0.4784\n",
      "Epoch 137/2000\n",
      "20/20 [==============================] - 0s 3ms/step - loss: 0.5246 - val_loss: 0.4777\n",
      "Epoch 138/2000\n",
      "20/20 [==============================] - 0s 3ms/step - loss: 0.5297 - val_loss: 0.4750\n",
      "Epoch 139/2000\n",
      "20/20 [==============================] - 0s 3ms/step - loss: 0.5294 - val_loss: 0.4733\n",
      "Epoch 140/2000\n",
      "20/20 [==============================] - 0s 3ms/step - loss: 0.5574 - val_loss: 0.4727\n",
      "Epoch 141/2000\n",
      "20/20 [==============================] - 0s 4ms/step - loss: 0.5345 - val_loss: 0.4730\n",
      "Epoch 142/2000\n",
      "20/20 [==============================] - 0s 3ms/step - loss: 0.5282 - val_loss: 0.4735\n",
      "Epoch 143/2000\n",
      "20/20 [==============================] - 0s 3ms/step - loss: 0.5413 - val_loss: 0.4731\n",
      "Epoch 144/2000\n",
      "20/20 [==============================] - 0s 3ms/step - loss: 0.5252 - val_loss: 0.4715\n",
      "Epoch 145/2000\n",
      "20/20 [==============================] - 0s 3ms/step - loss: 0.5324 - val_loss: 0.4739\n",
      "Epoch 146/2000\n",
      "20/20 [==============================] - 0s 3ms/step - loss: 0.5299 - val_loss: 0.4740\n",
      "Epoch 147/2000\n",
      "20/20 [==============================] - 0s 3ms/step - loss: 0.5086 - val_loss: 0.4718\n",
      "Epoch 148/2000\n",
      "20/20 [==============================] - 0s 3ms/step - loss: 0.5485 - val_loss: 0.4717\n",
      "Epoch 149/2000\n",
      "20/20 [==============================] - 0s 3ms/step - loss: 0.5512 - val_loss: 0.4725\n",
      "Epoch 150/2000\n",
      "20/20 [==============================] - 0s 3ms/step - loss: 0.5143 - val_loss: 0.4718\n",
      "Epoch 151/2000\n",
      "20/20 [==============================] - 0s 3ms/step - loss: 0.5337 - val_loss: 0.4709\n",
      "Epoch 152/2000\n",
      "20/20 [==============================] - 0s 3ms/step - loss: 0.5224 - val_loss: 0.4691\n",
      "Epoch 153/2000\n",
      "20/20 [==============================] - 0s 3ms/step - loss: 0.5325 - val_loss: 0.4693\n",
      "Epoch 154/2000\n",
      "20/20 [==============================] - 0s 3ms/step - loss: 0.5531 - val_loss: 0.4696\n",
      "Epoch 155/2000\n",
      "20/20 [==============================] - 0s 3ms/step - loss: 0.5350 - val_loss: 0.4703\n",
      "Epoch 156/2000\n",
      "20/20 [==============================] - 0s 3ms/step - loss: 0.5421 - val_loss: 0.4699\n",
      "Epoch 157/2000\n",
      "20/20 [==============================] - 0s 3ms/step - loss: 0.5406 - val_loss: 0.4679\n",
      "Epoch 158/2000\n",
      "20/20 [==============================] - 0s 3ms/step - loss: 0.5404 - val_loss: 0.4688\n",
      "Epoch 159/2000\n",
      "20/20 [==============================] - 0s 3ms/step - loss: 0.5276 - val_loss: 0.4692\n",
      "Epoch 160/2000\n",
      "20/20 [==============================] - 0s 3ms/step - loss: 0.5136 - val_loss: 0.4675\n",
      "Epoch 161/2000\n",
      "20/20 [==============================] - 0s 3ms/step - loss: 0.5253 - val_loss: 0.4669\n",
      "Epoch 162/2000\n",
      "20/20 [==============================] - 0s 3ms/step - loss: 0.5323 - val_loss: 0.4670\n",
      "Epoch 163/2000\n",
      "20/20 [==============================] - 0s 3ms/step - loss: 0.5227 - val_loss: 0.4662\n",
      "Epoch 164/2000\n",
      "20/20 [==============================] - 0s 3ms/step - loss: 0.5264 - val_loss: 0.4675\n",
      "Epoch 165/2000\n",
      "20/20 [==============================] - 0s 3ms/step - loss: 0.5301 - val_loss: 0.4713\n",
      "Epoch 166/2000\n",
      "20/20 [==============================] - 0s 3ms/step - loss: 0.5196 - val_loss: 0.4677\n",
      "Epoch 167/2000\n",
      "20/20 [==============================] - 0s 3ms/step - loss: 0.5390 - val_loss: 0.4665\n",
      "Epoch 168/2000\n",
      "20/20 [==============================] - 0s 3ms/step - loss: 0.5339 - val_loss: 0.4670\n",
      "Epoch 169/2000\n",
      "20/20 [==============================] - 0s 4ms/step - loss: 0.4939 - val_loss: 0.4646\n",
      "Epoch 170/2000\n",
      "20/20 [==============================] - 0s 4ms/step - loss: 0.5368 - val_loss: 0.4621\n",
      "Epoch 171/2000\n",
      "20/20 [==============================] - 0s 3ms/step - loss: 0.5428 - val_loss: 0.4626\n",
      "Epoch 172/2000\n",
      "20/20 [==============================] - 0s 3ms/step - loss: 0.5330 - val_loss: 0.4621\n",
      "Epoch 173/2000\n",
      "20/20 [==============================] - 0s 4ms/step - loss: 0.5270 - val_loss: 0.4631\n",
      "Epoch 174/2000\n",
      "20/20 [==============================] - 0s 4ms/step - loss: 0.5273 - val_loss: 0.4650\n",
      "Epoch 175/2000\n",
      "20/20 [==============================] - 0s 3ms/step - loss: 0.5206 - val_loss: 0.4645\n",
      "Epoch 176/2000\n",
      "20/20 [==============================] - 0s 3ms/step - loss: 0.5235 - val_loss: 0.4647\n",
      "Epoch 177/2000\n",
      "20/20 [==============================] - 0s 3ms/step - loss: 0.5253 - val_loss: 0.4614\n",
      "Epoch 178/2000\n",
      "20/20 [==============================] - 0s 3ms/step - loss: 0.5297 - val_loss: 0.4609\n",
      "Epoch 179/2000\n",
      "20/20 [==============================] - 0s 3ms/step - loss: 0.5301 - val_loss: 0.4623\n",
      "Epoch 180/2000\n",
      "20/20 [==============================] - 0s 3ms/step - loss: 0.5440 - val_loss: 0.4620\n",
      "Epoch 181/2000\n",
      "20/20 [==============================] - 0s 3ms/step - loss: 0.5280 - val_loss: 0.4599\n",
      "Epoch 182/2000\n",
      "20/20 [==============================] - 0s 4ms/step - loss: 0.5323 - val_loss: 0.4594\n",
      "Epoch 183/2000\n",
      "20/20 [==============================] - 0s 4ms/step - loss: 0.5176 - val_loss: 0.4593\n",
      "Epoch 184/2000\n",
      "20/20 [==============================] - 0s 4ms/step - loss: 0.5153 - val_loss: 0.4574\n",
      "Epoch 185/2000\n",
      "20/20 [==============================] - 0s 3ms/step - loss: 0.5149 - val_loss: 0.4574\n",
      "Epoch 186/2000\n",
      "20/20 [==============================] - 0s 3ms/step - loss: 0.5190 - val_loss: 0.4574\n",
      "Epoch 187/2000\n",
      "20/20 [==============================] - 0s 4ms/step - loss: 0.5254 - val_loss: 0.4583\n",
      "Epoch 188/2000\n",
      "20/20 [==============================] - 0s 3ms/step - loss: 0.5109 - val_loss: 0.4584\n",
      "Epoch 189/2000\n",
      "20/20 [==============================] - 0s 3ms/step - loss: 0.5144 - val_loss: 0.4560\n",
      "Epoch 190/2000\n",
      "20/20 [==============================] - 0s 3ms/step - loss: 0.5281 - val_loss: 0.4571\n",
      "Epoch 191/2000\n",
      "20/20 [==============================] - 0s 3ms/step - loss: 0.5255 - val_loss: 0.4574\n",
      "Epoch 192/2000\n",
      "20/20 [==============================] - 0s 3ms/step - loss: 0.5383 - val_loss: 0.4593\n",
      "Epoch 193/2000\n",
      "20/20 [==============================] - 0s 3ms/step - loss: 0.5503 - val_loss: 0.4618\n",
      "Epoch 194/2000\n",
      "20/20 [==============================] - 0s 3ms/step - loss: 0.5081 - val_loss: 0.4608\n",
      "Epoch 195/2000\n",
      "20/20 [==============================] - 0s 3ms/step - loss: 0.5326 - val_loss: 0.4601\n",
      "Epoch 196/2000\n",
      "20/20 [==============================] - 0s 3ms/step - loss: 0.5318 - val_loss: 0.4594\n",
      "Epoch 197/2000\n",
      "20/20 [==============================] - 0s 3ms/step - loss: 0.5214 - val_loss: 0.4592\n",
      "Epoch 198/2000\n",
      "20/20 [==============================] - 0s 3ms/step - loss: 0.5166 - val_loss: 0.4607\n",
      "Epoch 199/2000\n",
      "20/20 [==============================] - 0s 3ms/step - loss: 0.5192 - val_loss: 0.4577\n",
      "Epoch 200/2000\n",
      "20/20 [==============================] - 0s 3ms/step - loss: 0.5292 - val_loss: 0.4574\n",
      "Epoch 201/2000\n",
      "20/20 [==============================] - 0s 3ms/step - loss: 0.5237 - val_loss: 0.4583\n",
      "Epoch 202/2000\n",
      "20/20 [==============================] - 0s 3ms/step - loss: 0.5175 - val_loss: 0.4563\n",
      "Epoch 203/2000\n",
      "20/20 [==============================] - 0s 3ms/step - loss: 0.5161 - val_loss: 0.4565\n",
      "Epoch 204/2000\n",
      "20/20 [==============================] - 0s 3ms/step - loss: 0.5374 - val_loss: 0.4566\n",
      "Epoch 205/2000\n",
      "20/20 [==============================] - 0s 3ms/step - loss: 0.5250 - val_loss: 0.4565\n",
      "Epoch 206/2000\n",
      "20/20 [==============================] - 0s 3ms/step - loss: 0.5134 - val_loss: 0.4577\n",
      "Epoch 207/2000\n",
      "20/20 [==============================] - 0s 3ms/step - loss: 0.5180 - val_loss: 0.4559\n",
      "Epoch 208/2000\n",
      "20/20 [==============================] - 0s 3ms/step - loss: 0.5451 - val_loss: 0.4558\n",
      "Epoch 209/2000\n",
      "20/20 [==============================] - 0s 3ms/step - loss: 0.5302 - val_loss: 0.4566\n",
      "Epoch 210/2000\n",
      "20/20 [==============================] - 0s 3ms/step - loss: 0.5167 - val_loss: 0.4558\n",
      "Epoch 211/2000\n",
      "20/20 [==============================] - 0s 3ms/step - loss: 0.5402 - val_loss: 0.4567\n",
      "Epoch 212/2000\n",
      "20/20 [==============================] - 0s 3ms/step - loss: 0.5375 - val_loss: 0.4594\n",
      "Epoch 213/2000\n",
      "20/20 [==============================] - 0s 3ms/step - loss: 0.5185 - val_loss: 0.4576\n",
      "Epoch 214/2000\n",
      "20/20 [==============================] - 0s 3ms/step - loss: 0.5275 - val_loss: 0.4563\n",
      "Epoch 215/2000\n",
      "20/20 [==============================] - 0s 3ms/step - loss: 0.5440 - val_loss: 0.4562\n",
      "Epoch 216/2000\n",
      "20/20 [==============================] - 0s 3ms/step - loss: 0.5378 - val_loss: 0.4576\n",
      "Epoch 217/2000\n",
      "20/20 [==============================] - 0s 3ms/step - loss: 0.5270 - val_loss: 0.4581\n",
      "Epoch 218/2000\n",
      "20/20 [==============================] - 0s 3ms/step - loss: 0.5319 - val_loss: 0.4590\n",
      "Epoch 219/2000\n",
      "20/20 [==============================] - 0s 3ms/step - loss: 0.5331 - val_loss: 0.4577\n",
      "Epoch 220/2000\n",
      "20/20 [==============================] - 0s 3ms/step - loss: 0.5296 - val_loss: 0.4575\n",
      "Epoch 221/2000\n",
      "20/20 [==============================] - 0s 3ms/step - loss: 0.5162 - val_loss: 0.4570\n",
      "Epoch 222/2000\n",
      "20/20 [==============================] - 0s 3ms/step - loss: 0.5180 - val_loss: 0.4555\n",
      "Epoch 223/2000\n",
      "20/20 [==============================] - 0s 3ms/step - loss: 0.5212 - val_loss: 0.4561\n",
      "Epoch 224/2000\n",
      "20/20 [==============================] - 0s 3ms/step - loss: 0.5361 - val_loss: 0.4556\n",
      "Epoch 225/2000\n",
      "20/20 [==============================] - 0s 3ms/step - loss: 0.5216 - val_loss: 0.4559\n",
      "Epoch 226/2000\n",
      "20/20 [==============================] - 0s 3ms/step - loss: 0.5168 - val_loss: 0.4556\n",
      "Epoch 227/2000\n",
      "20/20 [==============================] - 0s 4ms/step - loss: 0.5087 - val_loss: 0.4538\n",
      "Epoch 228/2000\n",
      "20/20 [==============================] - 0s 3ms/step - loss: 0.5515 - val_loss: 0.4533\n",
      "Epoch 229/2000\n",
      "20/20 [==============================] - 0s 3ms/step - loss: 0.5108 - val_loss: 0.4556\n",
      "Epoch 230/2000\n",
      "20/20 [==============================] - 0s 3ms/step - loss: 0.5467 - val_loss: 0.4555\n",
      "Epoch 231/2000\n",
      "20/20 [==============================] - 0s 3ms/step - loss: 0.5219 - val_loss: 0.4541\n",
      "Epoch 232/2000\n",
      "20/20 [==============================] - 0s 3ms/step - loss: 0.5137 - val_loss: 0.4527\n",
      "Epoch 233/2000\n",
      "20/20 [==============================] - 0s 3ms/step - loss: 0.5032 - val_loss: 0.4505\n",
      "Epoch 234/2000\n",
      "20/20 [==============================] - 0s 3ms/step - loss: 0.5355 - val_loss: 0.4517\n",
      "Epoch 235/2000\n",
      "20/20 [==============================] - 0s 3ms/step - loss: 0.5191 - val_loss: 0.4534\n",
      "Epoch 236/2000\n",
      "20/20 [==============================] - 0s 3ms/step - loss: 0.5229 - val_loss: 0.4525\n",
      "Epoch 237/2000\n",
      "20/20 [==============================] - 0s 3ms/step - loss: 0.5210 - val_loss: 0.4532\n",
      "Epoch 238/2000\n",
      "20/20 [==============================] - 0s 3ms/step - loss: 0.5234 - val_loss: 0.4519\n",
      "Epoch 239/2000\n",
      "20/20 [==============================] - 0s 4ms/step - loss: 0.5141 - val_loss: 0.4520\n",
      "Epoch 240/2000\n",
      "20/20 [==============================] - 0s 3ms/step - loss: 0.5400 - val_loss: 0.4508\n",
      "Epoch 241/2000\n",
      "20/20 [==============================] - 0s 3ms/step - loss: 0.5229 - val_loss: 0.4528\n",
      "Epoch 242/2000\n",
      "20/20 [==============================] - 0s 5ms/step - loss: 0.5484 - val_loss: 0.4536\n",
      "Epoch 243/2000\n",
      "20/20 [==============================] - 0s 3ms/step - loss: 0.5226 - val_loss: 0.4550\n",
      "Epoch 244/2000\n",
      "20/20 [==============================] - 0s 3ms/step - loss: 0.5311 - val_loss: 0.4545\n",
      "Epoch 245/2000\n",
      "20/20 [==============================] - 0s 3ms/step - loss: 0.5357 - val_loss: 0.4534\n",
      "Epoch 246/2000\n",
      "20/20 [==============================] - 0s 3ms/step - loss: 0.5103 - val_loss: 0.4531\n",
      "Epoch 247/2000\n",
      "20/20 [==============================] - 0s 3ms/step - loss: 0.5017 - val_loss: 0.4517\n",
      "Epoch 248/2000\n",
      "20/20 [==============================] - 0s 3ms/step - loss: 0.5274 - val_loss: 0.4519\n",
      "Epoch 249/2000\n",
      "20/20 [==============================] - 0s 3ms/step - loss: 0.5307 - val_loss: 0.4531\n",
      "Epoch 250/2000\n",
      "20/20 [==============================] - 0s 3ms/step - loss: 0.5098 - val_loss: 0.4518\n",
      "Epoch 251/2000\n",
      "20/20 [==============================] - 0s 3ms/step - loss: 0.5174 - val_loss: 0.4505\n",
      "Epoch 252/2000\n",
      "20/20 [==============================] - 0s 3ms/step - loss: 0.5257 - val_loss: 0.4503\n",
      "Epoch 253/2000\n",
      "20/20 [==============================] - 0s 3ms/step - loss: 0.5077 - val_loss: 0.4497\n",
      "Epoch 254/2000\n",
      "20/20 [==============================] - 0s 3ms/step - loss: 0.5112 - val_loss: 0.4495\n",
      "Epoch 255/2000\n",
      "20/20 [==============================] - 0s 3ms/step - loss: 0.4906 - val_loss: 0.4494\n",
      "Epoch 256/2000\n",
      "20/20 [==============================] - 0s 3ms/step - loss: 0.5049 - val_loss: 0.4481\n",
      "Epoch 257/2000\n",
      "20/20 [==============================] - 0s 3ms/step - loss: 0.5102 - val_loss: 0.4476\n",
      "Epoch 258/2000\n",
      "20/20 [==============================] - 0s 3ms/step - loss: 0.5184 - val_loss: 0.4495\n",
      "Epoch 259/2000\n",
      "20/20 [==============================] - 0s 3ms/step - loss: 0.5206 - val_loss: 0.4501\n",
      "Epoch 260/2000\n",
      "20/20 [==============================] - 0s 3ms/step - loss: 0.5193 - val_loss: 0.4496\n",
      "Epoch 261/2000\n",
      "20/20 [==============================] - 0s 3ms/step - loss: 0.5169 - val_loss: 0.4504\n",
      "Epoch 262/2000\n",
      "20/20 [==============================] - 0s 3ms/step - loss: 0.5266 - val_loss: 0.4500\n",
      "Epoch 263/2000\n",
      "20/20 [==============================] - 0s 3ms/step - loss: 0.5136 - val_loss: 0.4499\n",
      "Epoch 264/2000\n",
      "20/20 [==============================] - 0s 3ms/step - loss: 0.5114 - val_loss: 0.4497\n",
      "Epoch 265/2000\n",
      "20/20 [==============================] - 0s 3ms/step - loss: 0.5405 - val_loss: 0.4506\n",
      "Epoch 266/2000\n",
      "20/20 [==============================] - 0s 3ms/step - loss: 0.5151 - val_loss: 0.4503\n",
      "Epoch 267/2000\n",
      "20/20 [==============================] - 0s 3ms/step - loss: 0.5297 - val_loss: 0.4484\n",
      "Epoch 268/2000\n",
      "20/20 [==============================] - 0s 3ms/step - loss: 0.5140 - val_loss: 0.4484\n",
      "Epoch 269/2000\n",
      "20/20 [==============================] - 0s 3ms/step - loss: 0.5065 - val_loss: 0.4500\n",
      "Epoch 270/2000\n",
      "20/20 [==============================] - 0s 3ms/step - loss: 0.5276 - val_loss: 0.4498\n",
      "Epoch 271/2000\n",
      "20/20 [==============================] - 0s 3ms/step - loss: 0.5092 - val_loss: 0.4490\n",
      "Epoch 272/2000\n",
      "20/20 [==============================] - 0s 3ms/step - loss: 0.5354 - val_loss: 0.4495\n",
      "Epoch 273/2000\n",
      "20/20 [==============================] - 0s 3ms/step - loss: 0.4953 - val_loss: 0.4494\n",
      "Epoch 274/2000\n",
      "20/20 [==============================] - 0s 3ms/step - loss: 0.5138 - val_loss: 0.4490\n",
      "Epoch 275/2000\n",
      "20/20 [==============================] - 0s 3ms/step - loss: 0.5048 - val_loss: 0.4482\n",
      "Epoch 276/2000\n",
      "20/20 [==============================] - 0s 3ms/step - loss: 0.5047 - val_loss: 0.4474\n",
      "Epoch 277/2000\n",
      "20/20 [==============================] - 0s 3ms/step - loss: 0.5003 - val_loss: 0.4473\n",
      "Epoch 278/2000\n",
      "20/20 [==============================] - 0s 3ms/step - loss: 0.5052 - val_loss: 0.4462\n",
      "Epoch 279/2000\n",
      "20/20 [==============================] - 0s 3ms/step - loss: 0.5287 - val_loss: 0.4466\n",
      "Epoch 280/2000\n",
      "20/20 [==============================] - 0s 3ms/step - loss: 0.5198 - val_loss: 0.4492\n",
      "Epoch 281/2000\n",
      "20/20 [==============================] - 0s 3ms/step - loss: 0.5159 - val_loss: 0.4499\n",
      "Epoch 282/2000\n",
      "20/20 [==============================] - 0s 3ms/step - loss: 0.5323 - val_loss: 0.4507\n",
      "Epoch 283/2000\n",
      "20/20 [==============================] - 0s 3ms/step - loss: 0.5031 - val_loss: 0.4509\n",
      "Epoch 284/2000\n",
      "20/20 [==============================] - 0s 3ms/step - loss: 0.5103 - val_loss: 0.4502\n",
      "Epoch 285/2000\n",
      "20/20 [==============================] - 0s 3ms/step - loss: 0.4920 - val_loss: 0.4480\n",
      "Epoch 286/2000\n",
      "20/20 [==============================] - 0s 3ms/step - loss: 0.5158 - val_loss: 0.4472\n",
      "Epoch 287/2000\n",
      "20/20 [==============================] - 0s 3ms/step - loss: 0.5064 - val_loss: 0.4468\n",
      "Epoch 288/2000\n",
      "20/20 [==============================] - 0s 3ms/step - loss: 0.5164 - val_loss: 0.4465\n",
      "Epoch 289/2000\n",
      "20/20 [==============================] - 0s 3ms/step - loss: 0.5329 - val_loss: 0.4477\n",
      "Epoch 290/2000\n",
      "20/20 [==============================] - 0s 3ms/step - loss: 0.5162 - val_loss: 0.4479\n",
      "Epoch 291/2000\n",
      "20/20 [==============================] - 0s 3ms/step - loss: 0.5430 - val_loss: 0.4481\n",
      "Epoch 292/2000\n",
      "20/20 [==============================] - 0s 3ms/step - loss: 0.5341 - val_loss: 0.4486\n",
      "Epoch 293/2000\n",
      "20/20 [==============================] - 0s 3ms/step - loss: 0.5140 - val_loss: 0.4491\n",
      "Epoch 294/2000\n",
      "20/20 [==============================] - 0s 3ms/step - loss: 0.5192 - val_loss: 0.4488\n",
      "Epoch 295/2000\n",
      "20/20 [==============================] - 0s 3ms/step - loss: 0.4990 - val_loss: 0.4479\n",
      "Epoch 296/2000\n",
      "20/20 [==============================] - 0s 3ms/step - loss: 0.5198 - val_loss: 0.4479\n",
      "Epoch 297/2000\n",
      "20/20 [==============================] - 0s 3ms/step - loss: 0.5200 - val_loss: 0.4471\n",
      "Epoch 298/2000\n",
      "20/20 [==============================] - 0s 3ms/step - loss: 0.4900 - val_loss: 0.4467\n",
      "Epoch 299/2000\n",
      "20/20 [==============================] - 0s 3ms/step - loss: 0.5210 - val_loss: 0.4463\n",
      "Epoch 300/2000\n",
      "20/20 [==============================] - 0s 3ms/step - loss: 0.5318 - val_loss: 0.4461\n",
      "Epoch 301/2000\n",
      "20/20 [==============================] - 0s 3ms/step - loss: 0.5282 - val_loss: 0.4470\n",
      "Epoch 302/2000\n",
      "20/20 [==============================] - 0s 3ms/step - loss: 0.5020 - val_loss: 0.4475\n",
      "Epoch 303/2000\n",
      "20/20 [==============================] - 0s 3ms/step - loss: 0.5304 - val_loss: 0.4482\n",
      "Epoch 304/2000\n",
      "20/20 [==============================] - 0s 3ms/step - loss: 0.5116 - val_loss: 0.4481\n",
      "Epoch 305/2000\n",
      "20/20 [==============================] - 0s 3ms/step - loss: 0.5209 - val_loss: 0.4480\n",
      "Epoch 306/2000\n",
      "20/20 [==============================] - 0s 4ms/step - loss: 0.5206 - val_loss: 0.4474\n",
      "Epoch 307/2000\n",
      "20/20 [==============================] - 0s 3ms/step - loss: 0.5076 - val_loss: 0.4464\n",
      "Epoch 308/2000\n",
      "20/20 [==============================] - 0s 3ms/step - loss: 0.5215 - val_loss: 0.4469\n",
      "Epoch 309/2000\n",
      "20/20 [==============================] - 0s 3ms/step - loss: 0.5194 - val_loss: 0.4474\n",
      "Epoch 310/2000\n",
      "20/20 [==============================] - 0s 3ms/step - loss: 0.5155 - val_loss: 0.4473\n",
      "Epoch 311/2000\n",
      "20/20 [==============================] - 0s 3ms/step - loss: 0.5018 - val_loss: 0.4475\n",
      "Epoch 312/2000\n",
      "20/20 [==============================] - 0s 3ms/step - loss: 0.5213 - val_loss: 0.4475\n",
      "Epoch 313/2000\n",
      "20/20 [==============================] - 0s 3ms/step - loss: 0.5143 - val_loss: 0.4476\n",
      "Epoch 314/2000\n",
      "20/20 [==============================] - 0s 3ms/step - loss: 0.5124 - val_loss: 0.4478\n",
      "Epoch 315/2000\n",
      "20/20 [==============================] - 0s 3ms/step - loss: 0.5131 - val_loss: 0.4488\n",
      "Epoch 316/2000\n",
      "20/20 [==============================] - 0s 3ms/step - loss: 0.5246 - val_loss: 0.4487\n",
      "Epoch 317/2000\n",
      "20/20 [==============================] - 0s 3ms/step - loss: 0.4970 - val_loss: 0.4465\n",
      "Epoch 318/2000\n",
      "20/20 [==============================] - 0s 3ms/step - loss: 0.5183 - val_loss: 0.4473\n",
      "Epoch 319/2000\n",
      "20/20 [==============================] - 0s 3ms/step - loss: 0.5153 - val_loss: 0.4464\n",
      "Epoch 320/2000\n",
      "20/20 [==============================] - 0s 3ms/step - loss: 0.5175 - val_loss: 0.4463\n",
      "Epoch 321/2000\n",
      "20/20 [==============================] - 0s 3ms/step - loss: 0.5150 - val_loss: 0.4463\n",
      "Epoch 322/2000\n",
      "20/20 [==============================] - 0s 3ms/step - loss: 0.5238 - val_loss: 0.4456\n",
      "Epoch 323/2000\n",
      "20/20 [==============================] - 0s 3ms/step - loss: 0.5120 - val_loss: 0.4466\n",
      "Epoch 324/2000\n",
      "20/20 [==============================] - 0s 3ms/step - loss: 0.5100 - val_loss: 0.4469\n",
      "Epoch 325/2000\n",
      "20/20 [==============================] - 0s 3ms/step - loss: 0.5141 - val_loss: 0.4459\n",
      "Epoch 326/2000\n",
      "20/20 [==============================] - 0s 3ms/step - loss: 0.5270 - val_loss: 0.4463\n",
      "Epoch 327/2000\n",
      "20/20 [==============================] - 0s 3ms/step - loss: 0.5063 - val_loss: 0.4470\n",
      "Epoch 328/2000\n",
      "20/20 [==============================] - 0s 3ms/step - loss: 0.5070 - val_loss: 0.4471\n",
      "Epoch 329/2000\n",
      "20/20 [==============================] - 0s 3ms/step - loss: 0.5205 - val_loss: 0.4479\n",
      "Epoch 330/2000\n",
      "20/20 [==============================] - 0s 3ms/step - loss: 0.5241 - val_loss: 0.4481\n",
      "Epoch 331/2000\n",
      "20/20 [==============================] - 0s 3ms/step - loss: 0.5189 - val_loss: 0.4488\n",
      "Epoch 332/2000\n",
      "20/20 [==============================] - 0s 3ms/step - loss: 0.5040 - val_loss: 0.4488\n",
      "Epoch 333/2000\n",
      "20/20 [==============================] - 0s 3ms/step - loss: 0.5146 - val_loss: 0.4485\n",
      "Epoch 334/2000\n",
      "20/20 [==============================] - 0s 3ms/step - loss: 0.5092 - val_loss: 0.4475\n",
      "Epoch 335/2000\n",
      "20/20 [==============================] - 0s 3ms/step - loss: 0.5040 - val_loss: 0.4467\n",
      "Epoch 336/2000\n",
      "20/20 [==============================] - 0s 3ms/step - loss: 0.5126 - val_loss: 0.4471\n",
      "Epoch 337/2000\n",
      "20/20 [==============================] - 0s 3ms/step - loss: 0.5204 - val_loss: 0.4478\n",
      "Epoch 338/2000\n",
      "20/20 [==============================] - 0s 3ms/step - loss: 0.5165 - val_loss: 0.4466\n",
      "Epoch 339/2000\n",
      "20/20 [==============================] - 0s 3ms/step - loss: 0.5261 - val_loss: 0.4475\n",
      "Epoch 340/2000\n",
      "20/20 [==============================] - 0s 3ms/step - loss: 0.5326 - val_loss: 0.4483\n",
      "Epoch 341/2000\n",
      "20/20 [==============================] - 0s 3ms/step - loss: 0.5262 - val_loss: 0.4488\n",
      "Epoch 342/2000\n",
      "20/20 [==============================] - 0s 3ms/step - loss: 0.5156 - val_loss: 0.4476\n",
      "Epoch 343/2000\n",
      "20/20 [==============================] - 0s 3ms/step - loss: 0.5004 - val_loss: 0.4478\n",
      "Epoch 344/2000\n",
      "20/20 [==============================] - 0s 3ms/step - loss: 0.5174 - val_loss: 0.4478\n",
      "Epoch 345/2000\n",
      "20/20 [==============================] - 0s 3ms/step - loss: 0.5167 - val_loss: 0.4484\n",
      "Epoch 346/2000\n",
      "20/20 [==============================] - 0s 3ms/step - loss: 0.5171 - val_loss: 0.4491\n",
      "Epoch 347/2000\n",
      "20/20 [==============================] - 0s 3ms/step - loss: 0.5286 - val_loss: 0.4489\n",
      "Epoch 348/2000\n",
      "20/20 [==============================] - 0s 3ms/step - loss: 0.5146 - val_loss: 0.4472\n",
      "Epoch 349/2000\n",
      "20/20 [==============================] - 0s 3ms/step - loss: 0.5108 - val_loss: 0.4463\n",
      "Epoch 350/2000\n",
      "20/20 [==============================] - 0s 3ms/step - loss: 0.5240 - val_loss: 0.4465\n",
      "Epoch 351/2000\n",
      "20/20 [==============================] - 0s 3ms/step - loss: 0.4933 - val_loss: 0.4462\n",
      "Epoch 352/2000\n",
      "20/20 [==============================] - 0s 3ms/step - loss: 0.5064 - val_loss: 0.4468\n",
      "Epoch 353/2000\n",
      "20/20 [==============================] - 0s 3ms/step - loss: 0.5249 - val_loss: 0.4460\n",
      "Epoch 354/2000\n",
      "20/20 [==============================] - 0s 3ms/step - loss: 0.4857 - val_loss: 0.4446\n",
      "Epoch 355/2000\n",
      "20/20 [==============================] - 0s 3ms/step - loss: 0.5027 - val_loss: 0.4449\n",
      "Epoch 356/2000\n",
      "20/20 [==============================] - 0s 3ms/step - loss: 0.5142 - val_loss: 0.4450\n",
      "Epoch 357/2000\n",
      "20/20 [==============================] - 0s 3ms/step - loss: 0.5174 - val_loss: 0.4448\n",
      "Epoch 358/2000\n",
      "20/20 [==============================] - 0s 3ms/step - loss: 0.5251 - val_loss: 0.4449\n",
      "Epoch 359/2000\n",
      "20/20 [==============================] - 0s 4ms/step - loss: 0.4994 - val_loss: 0.4449\n",
      "Epoch 360/2000\n",
      "20/20 [==============================] - 0s 4ms/step - loss: 0.5246 - val_loss: 0.4465\n",
      "Epoch 361/2000\n",
      "20/20 [==============================] - 0s 3ms/step - loss: 0.5221 - val_loss: 0.4482\n",
      "Epoch 362/2000\n",
      "20/20 [==============================] - 0s 4ms/step - loss: 0.5047 - val_loss: 0.4471\n",
      "Epoch 363/2000\n",
      "20/20 [==============================] - 0s 3ms/step - loss: 0.5117 - val_loss: 0.4461\n",
      "Epoch 364/2000\n",
      "20/20 [==============================] - 0s 3ms/step - loss: 0.5111 - val_loss: 0.4467\n",
      "Epoch 365/2000\n",
      "20/20 [==============================] - 0s 3ms/step - loss: 0.4990 - val_loss: 0.4462\n",
      "Epoch 366/2000\n",
      "20/20 [==============================] - 0s 4ms/step - loss: 0.5119 - val_loss: 0.4458\n",
      "Epoch 367/2000\n",
      "20/20 [==============================] - 0s 5ms/step - loss: 0.5142 - val_loss: 0.4455\n",
      "Epoch 368/2000\n",
      "20/20 [==============================] - 0s 7ms/step - loss: 0.5044 - val_loss: 0.4450\n",
      "Epoch 369/2000\n",
      "20/20 [==============================] - 0s 4ms/step - loss: 0.5167 - val_loss: 0.4447\n",
      "Epoch 370/2000\n",
      "20/20 [==============================] - 0s 5ms/step - loss: 0.5062 - val_loss: 0.4446\n",
      "Epoch 371/2000\n",
      "20/20 [==============================] - 0s 4ms/step - loss: 0.4939 - val_loss: 0.4437\n",
      "Epoch 372/2000\n",
      "20/20 [==============================] - 0s 6ms/step - loss: 0.5075 - val_loss: 0.4435\n",
      "Epoch 373/2000\n",
      "20/20 [==============================] - 0s 8ms/step - loss: 0.5284 - val_loss: 0.4445\n",
      "Epoch 374/2000\n",
      "20/20 [==============================] - 0s 4ms/step - loss: 0.5156 - val_loss: 0.4449\n",
      "Epoch 375/2000\n",
      "20/20 [==============================] - 0s 3ms/step - loss: 0.5076 - val_loss: 0.4450\n",
      "Epoch 376/2000\n",
      "20/20 [==============================] - 0s 3ms/step - loss: 0.5108 - val_loss: 0.4439\n",
      "Epoch 377/2000\n",
      "20/20 [==============================] - 0s 3ms/step - loss: 0.5314 - val_loss: 0.4459\n",
      "Epoch 378/2000\n",
      "20/20 [==============================] - 0s 3ms/step - loss: 0.5164 - val_loss: 0.4460\n",
      "Epoch 379/2000\n",
      "20/20 [==============================] - 0s 3ms/step - loss: 0.5092 - val_loss: 0.4455\n",
      "Epoch 380/2000\n",
      "20/20 [==============================] - 0s 3ms/step - loss: 0.5374 - val_loss: 0.4460\n",
      "Epoch 381/2000\n",
      "20/20 [==============================] - 0s 3ms/step - loss: 0.5292 - val_loss: 0.4474\n",
      "Epoch 382/2000\n",
      "20/20 [==============================] - 0s 3ms/step - loss: 0.4902 - val_loss: 0.4450\n",
      "Epoch 383/2000\n",
      "20/20 [==============================] - 0s 3ms/step - loss: 0.5324 - val_loss: 0.4453\n",
      "Epoch 384/2000\n",
      "20/20 [==============================] - 0s 3ms/step - loss: 0.5042 - val_loss: 0.4451\n",
      "Epoch 385/2000\n",
      "20/20 [==============================] - 0s 4ms/step - loss: 0.5267 - val_loss: 0.4458\n",
      "Epoch 386/2000\n",
      "20/20 [==============================] - 0s 4ms/step - loss: 0.4841 - val_loss: 0.4442\n",
      "Epoch 387/2000\n",
      "20/20 [==============================] - 0s 4ms/step - loss: 0.4933 - val_loss: 0.4433\n",
      "Epoch 388/2000\n",
      "20/20 [==============================] - 0s 4ms/step - loss: 0.5103 - val_loss: 0.4427\n",
      "Epoch 389/2000\n",
      "20/20 [==============================] - 0s 3ms/step - loss: 0.5128 - val_loss: 0.4442\n",
      "Epoch 390/2000\n",
      "20/20 [==============================] - 0s 3ms/step - loss: 0.5291 - val_loss: 0.4445\n",
      "Epoch 391/2000\n",
      "20/20 [==============================] - 0s 4ms/step - loss: 0.4982 - val_loss: 0.4455\n",
      "Epoch 392/2000\n",
      "20/20 [==============================] - 0s 3ms/step - loss: 0.5274 - val_loss: 0.4454\n",
      "Epoch 393/2000\n",
      "20/20 [==============================] - 0s 4ms/step - loss: 0.5268 - val_loss: 0.4455\n",
      "Epoch 394/2000\n",
      "20/20 [==============================] - 0s 3ms/step - loss: 0.5045 - val_loss: 0.4453\n",
      "Epoch 395/2000\n",
      "20/20 [==============================] - 0s 3ms/step - loss: 0.5131 - val_loss: 0.4455\n",
      "Epoch 396/2000\n",
      "20/20 [==============================] - 0s 4ms/step - loss: 0.5152 - val_loss: 0.4469\n",
      "Epoch 397/2000\n",
      "20/20 [==============================] - 0s 3ms/step - loss: 0.5313 - val_loss: 0.4479\n",
      "Epoch 398/2000\n",
      "20/20 [==============================] - 0s 3ms/step - loss: 0.5382 - val_loss: 0.4488\n",
      "Epoch 399/2000\n",
      "20/20 [==============================] - 0s 4ms/step - loss: 0.5257 - val_loss: 0.4478\n",
      "Epoch 400/2000\n",
      "20/20 [==============================] - 0s 4ms/step - loss: 0.5212 - val_loss: 0.4485\n",
      "Epoch 401/2000\n",
      "20/20 [==============================] - 0s 3ms/step - loss: 0.5202 - val_loss: 0.4484\n",
      "Epoch 402/2000\n",
      "20/20 [==============================] - 0s 3ms/step - loss: 0.4938 - val_loss: 0.4476\n",
      "Epoch 403/2000\n",
      "20/20 [==============================] - 0s 3ms/step - loss: 0.5344 - val_loss: 0.4467\n",
      "Epoch 404/2000\n",
      "20/20 [==============================] - 0s 3ms/step - loss: 0.5001 - val_loss: 0.4467\n",
      "Epoch 405/2000\n",
      "20/20 [==============================] - 0s 3ms/step - loss: 0.5076 - val_loss: 0.4461\n",
      "Epoch 406/2000\n",
      "20/20 [==============================] - 0s 3ms/step - loss: 0.5123 - val_loss: 0.4461\n",
      "Epoch 407/2000\n",
      "20/20 [==============================] - 0s 3ms/step - loss: 0.5232 - val_loss: 0.4455\n",
      "Epoch 408/2000\n",
      "20/20 [==============================] - 0s 3ms/step - loss: 0.4960 - val_loss: 0.4444\n",
      "Epoch 409/2000\n",
      "20/20 [==============================] - 0s 3ms/step - loss: 0.4867 - val_loss: 0.4435\n",
      "Epoch 410/2000\n",
      "20/20 [==============================] - 0s 3ms/step - loss: 0.5267 - val_loss: 0.4437\n",
      "Epoch 411/2000\n",
      "20/20 [==============================] - 0s 3ms/step - loss: 0.5070 - val_loss: 0.4448\n",
      "Epoch 412/2000\n",
      "20/20 [==============================] - 0s 3ms/step - loss: 0.5332 - val_loss: 0.4462\n",
      "Epoch 413/2000\n",
      "20/20 [==============================] - 0s 3ms/step - loss: 0.5293 - val_loss: 0.4460\n",
      "Epoch 414/2000\n",
      "20/20 [==============================] - 0s 3ms/step - loss: 0.5171 - val_loss: 0.4447\n",
      "Epoch 415/2000\n",
      "20/20 [==============================] - 0s 3ms/step - loss: 0.5215 - val_loss: 0.4444\n",
      "Epoch 416/2000\n",
      "20/20 [==============================] - 0s 3ms/step - loss: 0.5219 - val_loss: 0.4456\n",
      "Epoch 417/2000\n",
      "20/20 [==============================] - 0s 3ms/step - loss: 0.5323 - val_loss: 0.4466\n",
      "Epoch 418/2000\n",
      "20/20 [==============================] - 0s 3ms/step - loss: 0.5146 - val_loss: 0.4474\n",
      "Epoch 419/2000\n",
      "20/20 [==============================] - 0s 3ms/step - loss: 0.4991 - val_loss: 0.4473\n",
      "Epoch 420/2000\n",
      "20/20 [==============================] - 0s 3ms/step - loss: 0.5193 - val_loss: 0.4469\n",
      "Epoch 421/2000\n",
      "20/20 [==============================] - 0s 3ms/step - loss: 0.5200 - val_loss: 0.4463\n",
      "Epoch 422/2000\n",
      "20/20 [==============================] - 0s 3ms/step - loss: 0.5056 - val_loss: 0.4457\n",
      "Epoch 423/2000\n",
      "20/20 [==============================] - 0s 3ms/step - loss: 0.5052 - val_loss: 0.4446\n",
      "Epoch 424/2000\n",
      "20/20 [==============================] - 0s 4ms/step - loss: 0.5162 - val_loss: 0.4438\n",
      "Epoch 425/2000\n",
      "20/20 [==============================] - 0s 3ms/step - loss: 0.5139 - val_loss: 0.4439\n",
      "Epoch 426/2000\n",
      "20/20 [==============================] - 0s 3ms/step - loss: 0.5015 - val_loss: 0.4445\n",
      "Epoch 427/2000\n",
      "20/20 [==============================] - 0s 3ms/step - loss: 0.5199 - val_loss: 0.4436\n",
      "Epoch 428/2000\n",
      "20/20 [==============================] - 0s 3ms/step - loss: 0.5132 - val_loss: 0.4442\n",
      "Epoch 429/2000\n",
      "20/20 [==============================] - 0s 3ms/step - loss: 0.5353 - val_loss: 0.4455\n",
      "Epoch 430/2000\n",
      "20/20 [==============================] - 0s 3ms/step - loss: 0.5321 - val_loss: 0.4465\n",
      "Epoch 431/2000\n",
      "20/20 [==============================] - 0s 3ms/step - loss: 0.5110 - val_loss: 0.4474\n",
      "Epoch 432/2000\n",
      "20/20 [==============================] - 0s 3ms/step - loss: 0.5335 - val_loss: 0.4471\n",
      "Epoch 433/2000\n",
      "20/20 [==============================] - 0s 3ms/step - loss: 0.5247 - val_loss: 0.4464\n",
      "Epoch 434/2000\n",
      "20/20 [==============================] - 0s 3ms/step - loss: 0.5173 - val_loss: 0.4463\n",
      "Epoch 435/2000\n",
      "20/20 [==============================] - 0s 3ms/step - loss: 0.5070 - val_loss: 0.4450\n",
      "Epoch 436/2000\n",
      "20/20 [==============================] - 0s 3ms/step - loss: 0.5337 - val_loss: 0.4447\n",
      "Epoch 437/2000\n",
      "20/20 [==============================] - 0s 3ms/step - loss: 0.4962 - val_loss: 0.4434\n",
      "Epoch 438/2000\n",
      "20/20 [==============================] - 0s 3ms/step - loss: 0.4895 - val_loss: 0.4434\n",
      "Epoch 00438: early stopping\n"
     ]
    },
    {
     "data": {
      "text/plain": [
       "<keras.callbacks.History at 0x7f60329b1a50>"
      ]
     },
     "execution_count": 33,
     "metadata": {},
     "output_type": "execute_result"
    }
   ],
   "source": [
    "\n",
    "model.fit(x=X_train, \n",
    "          y=y_train, \n",
    "          epochs=2000,\n",
    "          validation_data=(X_test, y_test), verbose=1,\n",
    "          callbacks=[early_stop]\n",
    "          )"
   ]
  },
  {
   "cell_type": "code",
   "execution_count": 34,
   "id": "49d0bb8d",
   "metadata": {
    "execution": {
     "iopub.execute_input": "2022-02-06T06:04:39.273777Z",
     "iopub.status.busy": "2022-02-06T06:04:39.272996Z",
     "iopub.status.idle": "2022-02-06T06:04:39.421996Z",
     "shell.execute_reply": "2022-02-06T06:04:39.422500Z",
     "shell.execute_reply.started": "2022-02-06T05:57:56.431882Z"
    },
    "papermill": {
     "duration": 0.527954,
     "end_time": "2022-02-06T06:04:39.422714",
     "exception": false,
     "start_time": "2022-02-06T06:04:38.894760",
     "status": "completed"
    },
    "tags": []
   },
   "outputs": [],
   "source": [
    "y_pred=(model.predict(X_test) > 0.5).astype(\"int32\")"
   ]
  },
  {
   "cell_type": "code",
   "execution_count": 35,
   "id": "b4776861",
   "metadata": {
    "execution": {
     "iopub.execute_input": "2022-02-06T06:04:40.177652Z",
     "iopub.status.busy": "2022-02-06T06:04:40.176955Z",
     "iopub.status.idle": "2022-02-06T06:04:40.181270Z",
     "shell.execute_reply": "2022-02-06T06:04:40.180760Z",
     "shell.execute_reply.started": "2022-02-06T05:57:56.547037Z"
    },
    "papermill": {
     "duration": 0.385478,
     "end_time": "2022-02-06T06:04:40.181416",
     "exception": false,
     "start_time": "2022-02-06T06:04:39.795938",
     "status": "completed"
    },
    "tags": []
   },
   "outputs": [],
   "source": [
    "from sklearn.metrics import confusion_matrix,classification_report\n",
    "\n"
   ]
  },
  {
   "cell_type": "code",
   "execution_count": 36,
   "id": "d19508b4",
   "metadata": {
    "execution": {
     "iopub.execute_input": "2022-02-06T06:04:40.944454Z",
     "iopub.status.busy": "2022-02-06T06:04:40.943790Z",
     "iopub.status.idle": "2022-02-06T06:04:40.954900Z",
     "shell.execute_reply": "2022-02-06T06:04:40.955696Z",
     "shell.execute_reply.started": "2022-02-06T05:57:56.551642Z"
    },
    "papermill": {
     "duration": 0.391577,
     "end_time": "2022-02-06T06:04:40.955940",
     "exception": false,
     "start_time": "2022-02-06T06:04:40.564363",
     "status": "completed"
    },
    "tags": []
   },
   "outputs": [
    {
     "name": "stdout",
     "output_type": "stream",
     "text": [
      "[[145  12]\n",
      " [ 40  71]]\n",
      "\n",
      "\n",
      "              precision    recall  f1-score   support\n",
      "\n",
      "           0       0.78      0.92      0.85       157\n",
      "           1       0.86      0.64      0.73       111\n",
      "\n",
      "    accuracy                           0.81       268\n",
      "   macro avg       0.82      0.78      0.79       268\n",
      "weighted avg       0.81      0.81      0.80       268\n",
      "\n"
     ]
    }
   ],
   "source": [
    "print(confusion_matrix(y_test, y_pred))\n",
    "print('\\n')\n",
    "print(classification_report(y_test, y_pred))"
   ]
  },
  {
   "cell_type": "code",
   "execution_count": 37,
   "id": "b74b0fbc",
   "metadata": {
    "execution": {
     "iopub.execute_input": "2022-02-06T06:04:41.718839Z",
     "iopub.status.busy": "2022-02-06T06:04:41.718034Z",
     "iopub.status.idle": "2022-02-06T06:04:41.722625Z",
     "shell.execute_reply": "2022-02-06T06:04:41.722050Z",
     "shell.execute_reply.started": "2022-02-06T05:57:56.580588Z"
    },
    "papermill": {
     "duration": 0.384553,
     "end_time": "2022-02-06T06:04:41.722771",
     "exception": false,
     "start_time": "2022-02-06T06:04:41.338218",
     "status": "completed"
    },
    "tags": []
   },
   "outputs": [],
   "source": [
    "#param_grid = {'C': [0.1,0.12,1, 10, 100, 1000], 'gamma': [1,0.1,0.01,0.001,0.0001, 0.12], 'kernel': ['rbf', 'linear', 'poly']} "
   ]
  },
  {
   "cell_type": "code",
   "execution_count": 38,
   "id": "47981645",
   "metadata": {
    "execution": {
     "iopub.execute_input": "2022-02-06T06:04:42.478430Z",
     "iopub.status.busy": "2022-02-06T06:04:42.477419Z",
     "iopub.status.idle": "2022-02-06T06:04:42.481147Z",
     "shell.execute_reply": "2022-02-06T06:04:42.481762Z",
     "shell.execute_reply.started": "2022-02-06T05:57:56.590382Z"
    },
    "papermill": {
     "duration": 0.38343,
     "end_time": "2022-02-06T06:04:42.481936",
     "exception": false,
     "start_time": "2022-02-06T06:04:42.098506",
     "status": "completed"
    },
    "tags": []
   },
   "outputs": [],
   "source": [
    "#from sklearn.model_selection import GridSearchCV"
   ]
  },
  {
   "cell_type": "code",
   "execution_count": 39,
   "id": "15069284",
   "metadata": {
    "execution": {
     "iopub.execute_input": "2022-02-06T06:04:43.238241Z",
     "iopub.status.busy": "2022-02-06T06:04:43.237569Z",
     "iopub.status.idle": "2022-02-06T06:04:43.240859Z",
     "shell.execute_reply": "2022-02-06T06:04:43.241366Z",
     "shell.execute_reply.started": "2022-02-06T05:57:56.606058Z"
    },
    "papermill": {
     "duration": 0.384364,
     "end_time": "2022-02-06T06:04:43.241577",
     "exception": false,
     "start_time": "2022-02-06T06:04:42.857213",
     "status": "completed"
    },
    "tags": []
   },
   "outputs": [],
   "source": [
    "#grid = GridSearchCV(SVC(),param_grid,refit=True,verbose=3)"
   ]
  },
  {
   "cell_type": "code",
   "execution_count": 40,
   "id": "43f46dd7",
   "metadata": {
    "execution": {
     "iopub.execute_input": "2022-02-06T06:04:43.997830Z",
     "iopub.status.busy": "2022-02-06T06:04:43.996070Z",
     "iopub.status.idle": "2022-02-06T06:04:43.999687Z",
     "shell.execute_reply": "2022-02-06T06:04:44.000231Z",
     "shell.execute_reply.started": "2022-02-06T05:57:56.622793Z"
    },
    "papermill": {
     "duration": 0.383015,
     "end_time": "2022-02-06T06:04:44.000419",
     "exception": false,
     "start_time": "2022-02-06T06:04:43.617404",
     "status": "completed"
    },
    "tags": []
   },
   "outputs": [],
   "source": [
    "#grid.fit(X_train,y_train)"
   ]
  },
  {
   "cell_type": "code",
   "execution_count": 41,
   "id": "77a48c92",
   "metadata": {
    "execution": {
     "iopub.execute_input": "2022-02-06T06:04:44.756588Z",
     "iopub.status.busy": "2022-02-06T06:04:44.755007Z",
     "iopub.status.idle": "2022-02-06T06:04:44.759154Z",
     "shell.execute_reply": "2022-02-06T06:04:44.758662Z",
     "shell.execute_reply.started": "2022-02-06T05:57:56.635265Z"
    },
    "papermill": {
     "duration": 0.383697,
     "end_time": "2022-02-06T06:04:44.759298",
     "exception": false,
     "start_time": "2022-02-06T06:04:44.375601",
     "status": "completed"
    },
    "tags": []
   },
   "outputs": [],
   "source": [
    "#grid.best_params_"
   ]
  },
  {
   "cell_type": "code",
   "execution_count": 42,
   "id": "b21c3123",
   "metadata": {
    "execution": {
     "iopub.execute_input": "2022-02-06T06:04:45.577708Z",
     "iopub.status.busy": "2022-02-06T06:04:45.576995Z",
     "iopub.status.idle": "2022-02-06T06:04:45.578425Z",
     "shell.execute_reply": "2022-02-06T06:04:45.579028Z",
     "shell.execute_reply.started": "2022-02-06T05:57:56.650684Z"
    },
    "papermill": {
     "duration": 0.446003,
     "end_time": "2022-02-06T06:04:45.579201",
     "exception": false,
     "start_time": "2022-02-06T06:04:45.133198",
     "status": "completed"
    },
    "tags": []
   },
   "outputs": [],
   "source": [
    "#grid_predictions = grid.predict(X_test)"
   ]
  },
  {
   "cell_type": "code",
   "execution_count": 43,
   "id": "48b4b358",
   "metadata": {
    "execution": {
     "iopub.execute_input": "2022-02-06T06:04:46.339765Z",
     "iopub.status.busy": "2022-02-06T06:04:46.338049Z",
     "iopub.status.idle": "2022-02-06T06:04:46.341842Z",
     "shell.execute_reply": "2022-02-06T06:04:46.342398Z",
     "shell.execute_reply.started": "2022-02-06T05:57:56.663608Z"
    },
    "papermill": {
     "duration": 0.385937,
     "end_time": "2022-02-06T06:04:46.342604",
     "exception": false,
     "start_time": "2022-02-06T06:04:45.956667",
     "status": "completed"
    },
    "tags": []
   },
   "outputs": [],
   "source": [
    "#print(confusion_matrix(y_test, grid_predictions))\n",
    "#print('\\n')\n",
    "#print(classification_report(y_test, grid_predictions))"
   ]
  },
  {
   "cell_type": "code",
   "execution_count": 44,
   "id": "a5013b08",
   "metadata": {
    "execution": {
     "iopub.execute_input": "2022-02-06T06:04:47.132851Z",
     "iopub.status.busy": "2022-02-06T06:04:47.131656Z",
     "iopub.status.idle": "2022-02-06T06:04:47.159571Z",
     "shell.execute_reply": "2022-02-06T06:04:47.160116Z",
     "shell.execute_reply.started": "2022-02-06T05:57:56.679723Z"
    },
    "papermill": {
     "duration": 0.442955,
     "end_time": "2022-02-06T06:04:47.160292",
     "exception": false,
     "start_time": "2022-02-06T06:04:46.717337",
     "status": "completed"
    },
    "tags": []
   },
   "outputs": [],
   "source": [
    "y1 = titanic_df[\"Survived\"].values\n",
    "\n",
    "test_data = pd.read_csv(\"/kaggle/input/titanic/test.csv\")\n",
    "#test_data.dropna()\n",
    "\n",
    "\n",
    "features = [\"Pclass\", \"Sex\", \"SibSp\", \"Parch\"]\n",
    "X1 = pd.get_dummies(titanic_df[features]).values\n",
    "X_test1 = pd.get_dummies(test_data[features]).values\n"
   ]
  },
  {
   "cell_type": "code",
   "execution_count": 45,
   "id": "15f4cf94",
   "metadata": {
    "execution": {
     "iopub.execute_input": "2022-02-06T06:04:47.947707Z",
     "iopub.status.busy": "2022-02-06T06:04:47.946690Z",
     "iopub.status.idle": "2022-02-06T06:04:48.026820Z",
     "shell.execute_reply": "2022-02-06T06:04:48.027402Z",
     "shell.execute_reply.started": "2022-02-06T05:57:56.716013Z"
    },
    "papermill": {
     "duration": 0.481751,
     "end_time": "2022-02-06T06:04:48.027635",
     "exception": false,
     "start_time": "2022-02-06T06:04:47.545884",
     "status": "completed"
    },
    "tags": []
   },
   "outputs": [
    {
     "name": "stdout",
     "output_type": "stream",
     "text": [
      "Your submission was successfully saved!\n"
     ]
    }
   ],
   "source": [
    "#model.fit(x=X1, y = y1)\n",
    "#y_pred=(model.predict(X_test) > 0.5).astype(\"int32\")\n",
    "predictions = (model.predict(X_test1) > 0.65).astype(\"int32\")\n",
    "predictions = np.reshape(predictions, 418)\n",
    "output = pd.DataFrame({'PassengerId': test_data.PassengerId, 'Survived': predictions})\n",
    "output.to_csv('submission.csv', index=False)\n",
    "print(\"Your submission was successfully saved!\")"
   ]
  },
  {
   "cell_type": "markdown",
   "id": "c551c6b8",
   "metadata": {
    "papermill": {
     "duration": 0.394353,
     "end_time": "2022-02-06T06:04:48.815721",
     "exception": false,
     "start_time": "2022-02-06T06:04:48.421368",
     "status": "completed"
    },
    "tags": []
   },
   "source": []
  }
 ],
 "metadata": {
  "kernelspec": {
   "display_name": "Python 3",
   "language": "python",
   "name": "python3"
  },
  "language_info": {
   "codemirror_mode": {
    "name": "ipython",
    "version": 3
   },
   "file_extension": ".py",
   "mimetype": "text/x-python",
   "name": "python",
   "nbconvert_exporter": "python",
   "pygments_lexer": "ipython3",
   "version": "3.7.12"
  },
  "papermill": {
   "default_parameters": {},
   "duration": 69.90846,
   "end_time": "2022-02-06T06:04:52.479971",
   "environment_variables": {},
   "exception": null,
   "input_path": "__notebook__.ipynb",
   "output_path": "__notebook__.ipynb",
   "parameters": {},
   "start_time": "2022-02-06T06:03:42.571511",
   "version": "2.3.3"
  }
 },
 "nbformat": 4,
 "nbformat_minor": 5
}
