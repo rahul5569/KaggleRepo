{
 "cells": [
  {
   "cell_type": "code",
   "execution_count": 1,
   "id": "3373c70e",
   "metadata": {
    "_cell_guid": "b1076dfc-b9ad-4769-8c92-a6c4dae69d19",
    "_uuid": "8f2839f25d086af736a60e9eeb907d3b93b6e0e5",
    "execution": {
     "iopub.execute_input": "2022-01-31T03:57:14.181425Z",
     "iopub.status.busy": "2022-01-31T03:57:14.180255Z",
     "iopub.status.idle": "2022-01-31T03:57:15.287388Z",
     "shell.execute_reply": "2022-01-31T03:57:15.287902Z",
     "shell.execute_reply.started": "2022-01-31T03:51:42.914586Z"
    },
    "papermill": {
     "duration": 1.126088,
     "end_time": "2022-01-31T03:57:15.288214",
     "exception": false,
     "start_time": "2022-01-31T03:57:14.162126",
     "status": "completed"
    },
    "tags": []
   },
   "outputs": [
    {
     "name": "stdout",
     "output_type": "stream",
     "text": [
      "/kaggle/input/titanic/train.csv\n",
      "/kaggle/input/titanic/test.csv\n",
      "/kaggle/input/titanic/gender_submission.csv\n"
     ]
    }
   ],
   "source": [
    "# This Python 3 environment comes with many helpful analytics libraries installed\n",
    "# It is defined by the kaggle/python Docker image: https://github.com/kaggle/docker-python\n",
    "# For example, here's several helpful packages to load\n",
    "\n",
    "import numpy as np # linear algebra\n",
    "import pandas as pd # data processing, CSV file I/O (e.g. pd.read_csv)\n",
    "import seaborn as sns\n",
    "\n",
    "# Input data files are available in the read-only \"../input/\" directory\n",
    "# For example, running this (by clicking run or pressing Shift+Enter) will list all files under the input directory\n",
    "\n",
    "import os\n",
    "for dirname, _, filenames in os.walk('/kaggle/input'):\n",
    "    for filename in filenames:\n",
    "        print(os.path.join(dirname, filename))\n",
    "\n",
    "# You can write up to 20GB to the current directory (/kaggle/working/) that gets preserved as output when you create a version using \"Save & Run All\" \n",
    "# You can also write temporary files to /kaggle/temp/, but they won't be saved outside of the current session"
   ]
  },
  {
   "cell_type": "markdown",
   "id": "91fd1baf",
   "metadata": {
    "papermill": {
     "duration": 0.013499,
     "end_time": "2022-01-31T03:57:15.316327",
     "exception": false,
     "start_time": "2022-01-31T03:57:15.302828",
     "status": "completed"
    },
    "tags": []
   },
   "source": [
    "# Extraction and Analysis "
   ]
  },
  {
   "cell_type": "code",
   "execution_count": 2,
   "id": "dec16e71",
   "metadata": {
    "execution": {
     "iopub.execute_input": "2022-01-31T03:57:15.348077Z",
     "iopub.status.busy": "2022-01-31T03:57:15.347391Z",
     "iopub.status.idle": "2022-01-31T03:57:15.367511Z",
     "shell.execute_reply": "2022-01-31T03:57:15.368102Z",
     "shell.execute_reply.started": "2022-01-31T03:55:18.693712Z"
    },
    "papermill": {
     "duration": 0.038205,
     "end_time": "2022-01-31T03:57:15.368274",
     "exception": false,
     "start_time": "2022-01-31T03:57:15.330069",
     "status": "completed"
    },
    "tags": []
   },
   "outputs": [],
   "source": [
    "titanic_df = pd.read_csv('/kaggle/input/titanic/train.csv')"
   ]
  },
  {
   "cell_type": "code",
   "execution_count": 3,
   "id": "ab8f62d5",
   "metadata": {
    "execution": {
     "iopub.execute_input": "2022-01-31T03:57:15.399401Z",
     "iopub.status.busy": "2022-01-31T03:57:15.398784Z",
     "iopub.status.idle": "2022-01-31T03:57:15.421415Z",
     "shell.execute_reply": "2022-01-31T03:57:15.421926Z",
     "shell.execute_reply.started": "2022-01-31T03:55:22.493161Z"
    },
    "papermill": {
     "duration": 0.03998,
     "end_time": "2022-01-31T03:57:15.422095",
     "exception": false,
     "start_time": "2022-01-31T03:57:15.382115",
     "status": "completed"
    },
    "tags": []
   },
   "outputs": [
    {
     "data": {
      "text/html": [
       "<div>\n",
       "<style scoped>\n",
       "    .dataframe tbody tr th:only-of-type {\n",
       "        vertical-align: middle;\n",
       "    }\n",
       "\n",
       "    .dataframe tbody tr th {\n",
       "        vertical-align: top;\n",
       "    }\n",
       "\n",
       "    .dataframe thead th {\n",
       "        text-align: right;\n",
       "    }\n",
       "</style>\n",
       "<table border=\"1\" class=\"dataframe\">\n",
       "  <thead>\n",
       "    <tr style=\"text-align: right;\">\n",
       "      <th></th>\n",
       "      <th>PassengerId</th>\n",
       "      <th>Survived</th>\n",
       "      <th>Pclass</th>\n",
       "      <th>Name</th>\n",
       "      <th>Sex</th>\n",
       "      <th>Age</th>\n",
       "      <th>SibSp</th>\n",
       "      <th>Parch</th>\n",
       "      <th>Ticket</th>\n",
       "      <th>Fare</th>\n",
       "      <th>Cabin</th>\n",
       "      <th>Embarked</th>\n",
       "    </tr>\n",
       "  </thead>\n",
       "  <tbody>\n",
       "    <tr>\n",
       "      <th>0</th>\n",
       "      <td>1</td>\n",
       "      <td>0</td>\n",
       "      <td>3</td>\n",
       "      <td>Braund, Mr. Owen Harris</td>\n",
       "      <td>male</td>\n",
       "      <td>22.0</td>\n",
       "      <td>1</td>\n",
       "      <td>0</td>\n",
       "      <td>A/5 21171</td>\n",
       "      <td>7.2500</td>\n",
       "      <td>NaN</td>\n",
       "      <td>S</td>\n",
       "    </tr>\n",
       "    <tr>\n",
       "      <th>1</th>\n",
       "      <td>2</td>\n",
       "      <td>1</td>\n",
       "      <td>1</td>\n",
       "      <td>Cumings, Mrs. John Bradley (Florence Briggs Th...</td>\n",
       "      <td>female</td>\n",
       "      <td>38.0</td>\n",
       "      <td>1</td>\n",
       "      <td>0</td>\n",
       "      <td>PC 17599</td>\n",
       "      <td>71.2833</td>\n",
       "      <td>C85</td>\n",
       "      <td>C</td>\n",
       "    </tr>\n",
       "    <tr>\n",
       "      <th>2</th>\n",
       "      <td>3</td>\n",
       "      <td>1</td>\n",
       "      <td>3</td>\n",
       "      <td>Heikkinen, Miss. Laina</td>\n",
       "      <td>female</td>\n",
       "      <td>26.0</td>\n",
       "      <td>0</td>\n",
       "      <td>0</td>\n",
       "      <td>STON/O2. 3101282</td>\n",
       "      <td>7.9250</td>\n",
       "      <td>NaN</td>\n",
       "      <td>S</td>\n",
       "    </tr>\n",
       "    <tr>\n",
       "      <th>3</th>\n",
       "      <td>4</td>\n",
       "      <td>1</td>\n",
       "      <td>1</td>\n",
       "      <td>Futrelle, Mrs. Jacques Heath (Lily May Peel)</td>\n",
       "      <td>female</td>\n",
       "      <td>35.0</td>\n",
       "      <td>1</td>\n",
       "      <td>0</td>\n",
       "      <td>113803</td>\n",
       "      <td>53.1000</td>\n",
       "      <td>C123</td>\n",
       "      <td>S</td>\n",
       "    </tr>\n",
       "    <tr>\n",
       "      <th>4</th>\n",
       "      <td>5</td>\n",
       "      <td>0</td>\n",
       "      <td>3</td>\n",
       "      <td>Allen, Mr. William Henry</td>\n",
       "      <td>male</td>\n",
       "      <td>35.0</td>\n",
       "      <td>0</td>\n",
       "      <td>0</td>\n",
       "      <td>373450</td>\n",
       "      <td>8.0500</td>\n",
       "      <td>NaN</td>\n",
       "      <td>S</td>\n",
       "    </tr>\n",
       "  </tbody>\n",
       "</table>\n",
       "</div>"
      ],
      "text/plain": [
       "   PassengerId  Survived  Pclass  \\\n",
       "0            1         0       3   \n",
       "1            2         1       1   \n",
       "2            3         1       3   \n",
       "3            4         1       1   \n",
       "4            5         0       3   \n",
       "\n",
       "                                                Name     Sex   Age  SibSp  \\\n",
       "0                            Braund, Mr. Owen Harris    male  22.0      1   \n",
       "1  Cumings, Mrs. John Bradley (Florence Briggs Th...  female  38.0      1   \n",
       "2                             Heikkinen, Miss. Laina  female  26.0      0   \n",
       "3       Futrelle, Mrs. Jacques Heath (Lily May Peel)  female  35.0      1   \n",
       "4                           Allen, Mr. William Henry    male  35.0      0   \n",
       "\n",
       "   Parch            Ticket     Fare Cabin Embarked  \n",
       "0      0         A/5 21171   7.2500   NaN        S  \n",
       "1      0          PC 17599  71.2833   C85        C  \n",
       "2      0  STON/O2. 3101282   7.9250   NaN        S  \n",
       "3      0            113803  53.1000  C123        S  \n",
       "4      0            373450   8.0500   NaN        S  "
      ]
     },
     "execution_count": 3,
     "metadata": {},
     "output_type": "execute_result"
    }
   ],
   "source": [
    "titanic_df.head()"
   ]
  },
  {
   "cell_type": "code",
   "execution_count": 4,
   "id": "d2f7d539",
   "metadata": {
    "execution": {
     "iopub.execute_input": "2022-01-31T03:57:15.453849Z",
     "iopub.status.busy": "2022-01-31T03:57:15.453197Z",
     "iopub.status.idle": "2022-01-31T03:57:15.461658Z",
     "shell.execute_reply": "2022-01-31T03:57:15.462226Z",
     "shell.execute_reply.started": "2022-01-31T03:51:42.963986Z"
    },
    "papermill": {
     "duration": 0.026049,
     "end_time": "2022-01-31T03:57:15.462400",
     "exception": false,
     "start_time": "2022-01-31T03:57:15.436351",
     "status": "completed"
    },
    "tags": []
   },
   "outputs": [
    {
     "data": {
      "text/plain": [
       "PassengerId      0\n",
       "Survived         0\n",
       "Pclass           0\n",
       "Name             0\n",
       "Sex              0\n",
       "Age            177\n",
       "SibSp            0\n",
       "Parch            0\n",
       "Ticket           0\n",
       "Fare             0\n",
       "Cabin          687\n",
       "Embarked         2\n",
       "dtype: int64"
      ]
     },
     "execution_count": 4,
     "metadata": {},
     "output_type": "execute_result"
    }
   ],
   "source": [
    "titanic_df.isnull().sum()"
   ]
  },
  {
   "cell_type": "markdown",
   "id": "88045857",
   "metadata": {
    "papermill": {
     "duration": 0.014862,
     "end_time": "2022-01-31T03:57:15.492227",
     "exception": false,
     "start_time": "2022-01-31T03:57:15.477365",
     "status": "completed"
    },
    "tags": []
   },
   "source": [
    "#### **I see that Age, Cabin and Emnarked have all some null value. Let's try fill out those missing values**"
   ]
  },
  {
   "cell_type": "code",
   "execution_count": 5,
   "id": "d78af81b",
   "metadata": {
    "execution": {
     "iopub.execute_input": "2022-01-31T03:57:15.531705Z",
     "iopub.status.busy": "2022-01-31T03:57:15.524464Z",
     "iopub.status.idle": "2022-01-31T03:57:15.539749Z",
     "shell.execute_reply": "2022-01-31T03:57:15.540209Z",
     "shell.execute_reply.started": "2022-01-31T03:51:42.979633Z"
    },
    "papermill": {
     "duration": 0.033492,
     "end_time": "2022-01-31T03:57:15.540394",
     "exception": false,
     "start_time": "2022-01-31T03:57:15.506902",
     "status": "completed"
    },
    "tags": []
   },
   "outputs": [
    {
     "data": {
      "text/plain": [
       "count    714.000000\n",
       "mean      29.699118\n",
       "std       14.526497\n",
       "min        0.420000\n",
       "25%       20.125000\n",
       "50%       28.000000\n",
       "75%       38.000000\n",
       "max       80.000000\n",
       "Name: Age, dtype: float64"
      ]
     },
     "execution_count": 5,
     "metadata": {},
     "output_type": "execute_result"
    }
   ],
   "source": [
    "titanic_df.Age.describe()"
   ]
  },
  {
   "cell_type": "markdown",
   "id": "41270b25",
   "metadata": {
    "papermill": {
     "duration": 0.015012,
     "end_time": "2022-01-31T03:57:15.570467",
     "exception": false,
     "start_time": "2022-01-31T03:57:15.555455",
     "status": "completed"
    },
    "tags": []
   },
   "source": []
  },
  {
   "cell_type": "markdown",
   "id": "8cfb33ed",
   "metadata": {
    "papermill": {
     "duration": 0.014802,
     "end_time": "2022-01-31T03:57:15.600504",
     "exception": false,
     "start_time": "2022-01-31T03:57:15.585702",
     "status": "completed"
    },
    "tags": []
   },
   "source": [
    "#### **Ok as the age has a standard devition of 14, we cannot fill out the the missing values with mean and also there are 177 values we cannot simply remove the missing rows from the table. Hence, we need to remove the whole columns itself** ####"
   ]
  },
  {
   "cell_type": "code",
   "execution_count": 6,
   "id": "0620818e",
   "metadata": {
    "execution": {
     "iopub.execute_input": "2022-01-31T03:57:15.634402Z",
     "iopub.status.busy": "2022-01-31T03:57:15.633775Z",
     "iopub.status.idle": "2022-01-31T03:57:15.642955Z",
     "shell.execute_reply": "2022-01-31T03:57:15.643435Z",
     "shell.execute_reply.started": "2022-01-31T03:51:42.991878Z"
    },
    "papermill": {
     "duration": 0.027938,
     "end_time": "2022-01-31T03:57:15.643641",
     "exception": false,
     "start_time": "2022-01-31T03:57:15.615703",
     "status": "completed"
    },
    "tags": []
   },
   "outputs": [],
   "source": [
    "titanic_df.drop('Age', inplace = True, axis = 1)"
   ]
  },
  {
   "cell_type": "markdown",
   "id": "0bb0abf9",
   "metadata": {
    "papermill": {
     "duration": 0.015243,
     "end_time": "2022-01-31T03:57:15.674159",
     "exception": false,
     "start_time": "2022-01-31T03:57:15.658916",
     "status": "completed"
    },
    "tags": []
   },
   "source": [
    "#### **Let's take look at Cabin** ####"
   ]
  },
  {
   "cell_type": "markdown",
   "id": "efd09b54",
   "metadata": {
    "papermill": {
     "duration": 0.014842,
     "end_time": "2022-01-31T03:57:15.704223",
     "exception": false,
     "start_time": "2022-01-31T03:57:15.689381",
     "status": "completed"
    },
    "tags": []
   },
   "source": []
  },
  {
   "cell_type": "code",
   "execution_count": 7,
   "id": "b0998c0b",
   "metadata": {
    "execution": {
     "iopub.execute_input": "2022-01-31T03:57:15.738077Z",
     "iopub.status.busy": "2022-01-31T03:57:15.737427Z",
     "iopub.status.idle": "2022-01-31T03:57:15.745940Z",
     "shell.execute_reply": "2022-01-31T03:57:15.746428Z",
     "shell.execute_reply.started": "2022-01-31T03:51:42.998797Z"
    },
    "papermill": {
     "duration": 0.027245,
     "end_time": "2022-01-31T03:57:15.746608",
     "exception": false,
     "start_time": "2022-01-31T03:57:15.719363",
     "status": "completed"
    },
    "tags": []
   },
   "outputs": [
    {
     "data": {
      "text/plain": [
       "count         204\n",
       "unique        147\n",
       "top       B96 B98\n",
       "freq            4\n",
       "Name: Cabin, dtype: object"
      ]
     },
     "execution_count": 7,
     "metadata": {},
     "output_type": "execute_result"
    }
   ],
   "source": [
    "titanic_df.Cabin.describe()"
   ]
  },
  {
   "cell_type": "code",
   "execution_count": 8,
   "id": "d49fccfb",
   "metadata": {
    "execution": {
     "iopub.execute_input": "2022-01-31T03:57:15.785930Z",
     "iopub.status.busy": "2022-01-31T03:57:15.785213Z",
     "iopub.status.idle": "2022-01-31T03:57:15.787807Z",
     "shell.execute_reply": "2022-01-31T03:57:15.788280Z",
     "shell.execute_reply.started": "2022-01-31T03:51:43.016455Z"
    },
    "papermill": {
     "duration": 0.026253,
     "end_time": "2022-01-31T03:57:15.788456",
     "exception": false,
     "start_time": "2022-01-31T03:57:15.762203",
     "status": "completed"
    },
    "tags": []
   },
   "outputs": [
    {
     "data": {
      "text/plain": [
       "B96 B98        4\n",
       "G6             4\n",
       "C23 C25 C27    4\n",
       "C22 C26        3\n",
       "F33            3\n",
       "              ..\n",
       "E34            1\n",
       "C7             1\n",
       "C54            1\n",
       "E36            1\n",
       "C148           1\n",
       "Name: Cabin, Length: 147, dtype: int64"
      ]
     },
     "execution_count": 8,
     "metadata": {},
     "output_type": "execute_result"
    }
   ],
   "source": [
    "titanic_df.Cabin.value_counts()"
   ]
  },
  {
   "cell_type": "code",
   "execution_count": 9,
   "id": "f1fe998f",
   "metadata": {
    "execution": {
     "iopub.execute_input": "2022-01-31T03:57:15.823670Z",
     "iopub.status.busy": "2022-01-31T03:57:15.822996Z",
     "iopub.status.idle": "2022-01-31T03:57:15.829473Z",
     "shell.execute_reply": "2022-01-31T03:57:15.829972Z",
     "shell.execute_reply.started": "2022-01-31T03:51:43.032070Z"
    },
    "papermill": {
     "duration": 0.025119,
     "end_time": "2022-01-31T03:57:15.830134",
     "exception": false,
     "start_time": "2022-01-31T03:57:15.805015",
     "status": "completed"
    },
    "tags": []
   },
   "outputs": [
    {
     "data": {
      "text/plain": [
       "147"
      ]
     },
     "execution_count": 9,
     "metadata": {},
     "output_type": "execute_result"
    }
   ],
   "source": [
    "titanic_df.Cabin.nunique()"
   ]
  },
  {
   "cell_type": "markdown",
   "id": "c3050eea",
   "metadata": {
    "papermill": {
     "duration": 0.016997,
     "end_time": "2022-01-31T03:57:15.863096",
     "exception": false,
     "start_time": "2022-01-31T03:57:15.846099",
     "status": "completed"
    },
    "tags": []
   },
   "source": [
    "#### **It seems the number of unique values are 147 out 158 non null cabin values which is about 93% from the available data. Hence, need to drop this column as well** ####"
   ]
  },
  {
   "cell_type": "code",
   "execution_count": 10,
   "id": "860077f4",
   "metadata": {
    "execution": {
     "iopub.execute_input": "2022-01-31T03:57:15.898388Z",
     "iopub.status.busy": "2022-01-31T03:57:15.897766Z",
     "iopub.status.idle": "2022-01-31T03:57:15.902223Z",
     "shell.execute_reply": "2022-01-31T03:57:15.902758Z",
     "shell.execute_reply.started": "2022-01-31T03:51:43.044633Z"
    },
    "papermill": {
     "duration": 0.023738,
     "end_time": "2022-01-31T03:57:15.902932",
     "exception": false,
     "start_time": "2022-01-31T03:57:15.879194",
     "status": "completed"
    },
    "tags": []
   },
   "outputs": [],
   "source": [
    "titanic_df.drop('Cabin', inplace = True, axis = 1)"
   ]
  },
  {
   "cell_type": "markdown",
   "id": "61583790",
   "metadata": {
    "papermill": {
     "duration": 0.015848,
     "end_time": "2022-01-31T03:57:15.935082",
     "exception": false,
     "start_time": "2022-01-31T03:57:15.919234",
     "status": "completed"
    },
    "tags": []
   },
   "source": [
    "#### **The number of embarked rows that have null values are 2 which very low, therefore instead of dropping the whole column we just drop the empty rows** #### "
   ]
  },
  {
   "cell_type": "code",
   "execution_count": 11,
   "id": "de1a2453",
   "metadata": {
    "execution": {
     "iopub.execute_input": "2022-01-31T03:57:15.973245Z",
     "iopub.status.busy": "2022-01-31T03:57:15.972330Z",
     "iopub.status.idle": "2022-01-31T03:57:15.990290Z",
     "shell.execute_reply": "2022-01-31T03:57:15.990813Z",
     "shell.execute_reply.started": "2022-01-31T03:55:05.236478Z"
    },
    "papermill": {
     "duration": 0.039814,
     "end_time": "2022-01-31T03:57:15.990984",
     "exception": false,
     "start_time": "2022-01-31T03:57:15.951170",
     "status": "completed"
    },
    "tags": []
   },
   "outputs": [
    {
     "data": {
      "text/html": [
       "<div>\n",
       "<style scoped>\n",
       "    .dataframe tbody tr th:only-of-type {\n",
       "        vertical-align: middle;\n",
       "    }\n",
       "\n",
       "    .dataframe tbody tr th {\n",
       "        vertical-align: top;\n",
       "    }\n",
       "\n",
       "    .dataframe thead th {\n",
       "        text-align: right;\n",
       "    }\n",
       "</style>\n",
       "<table border=\"1\" class=\"dataframe\">\n",
       "  <thead>\n",
       "    <tr style=\"text-align: right;\">\n",
       "      <th></th>\n",
       "      <th>PassengerId</th>\n",
       "      <th>Survived</th>\n",
       "      <th>Pclass</th>\n",
       "      <th>Name</th>\n",
       "      <th>Sex</th>\n",
       "      <th>SibSp</th>\n",
       "      <th>Parch</th>\n",
       "      <th>Ticket</th>\n",
       "      <th>Fare</th>\n",
       "      <th>Embarked</th>\n",
       "    </tr>\n",
       "  </thead>\n",
       "  <tbody>\n",
       "    <tr>\n",
       "      <th>0</th>\n",
       "      <td>1</td>\n",
       "      <td>0</td>\n",
       "      <td>3</td>\n",
       "      <td>Braund, Mr. Owen Harris</td>\n",
       "      <td>male</td>\n",
       "      <td>1</td>\n",
       "      <td>0</td>\n",
       "      <td>A/5 21171</td>\n",
       "      <td>7.2500</td>\n",
       "      <td>S</td>\n",
       "    </tr>\n",
       "    <tr>\n",
       "      <th>1</th>\n",
       "      <td>2</td>\n",
       "      <td>1</td>\n",
       "      <td>1</td>\n",
       "      <td>Cumings, Mrs. John Bradley (Florence Briggs Th...</td>\n",
       "      <td>female</td>\n",
       "      <td>1</td>\n",
       "      <td>0</td>\n",
       "      <td>PC 17599</td>\n",
       "      <td>71.2833</td>\n",
       "      <td>C</td>\n",
       "    </tr>\n",
       "    <tr>\n",
       "      <th>2</th>\n",
       "      <td>3</td>\n",
       "      <td>1</td>\n",
       "      <td>3</td>\n",
       "      <td>Heikkinen, Miss. Laina</td>\n",
       "      <td>female</td>\n",
       "      <td>0</td>\n",
       "      <td>0</td>\n",
       "      <td>STON/O2. 3101282</td>\n",
       "      <td>7.9250</td>\n",
       "      <td>S</td>\n",
       "    </tr>\n",
       "    <tr>\n",
       "      <th>3</th>\n",
       "      <td>4</td>\n",
       "      <td>1</td>\n",
       "      <td>1</td>\n",
       "      <td>Futrelle, Mrs. Jacques Heath (Lily May Peel)</td>\n",
       "      <td>female</td>\n",
       "      <td>1</td>\n",
       "      <td>0</td>\n",
       "      <td>113803</td>\n",
       "      <td>53.1000</td>\n",
       "      <td>S</td>\n",
       "    </tr>\n",
       "    <tr>\n",
       "      <th>4</th>\n",
       "      <td>5</td>\n",
       "      <td>0</td>\n",
       "      <td>3</td>\n",
       "      <td>Allen, Mr. William Henry</td>\n",
       "      <td>male</td>\n",
       "      <td>0</td>\n",
       "      <td>0</td>\n",
       "      <td>373450</td>\n",
       "      <td>8.0500</td>\n",
       "      <td>S</td>\n",
       "    </tr>\n",
       "    <tr>\n",
       "      <th>...</th>\n",
       "      <td>...</td>\n",
       "      <td>...</td>\n",
       "      <td>...</td>\n",
       "      <td>...</td>\n",
       "      <td>...</td>\n",
       "      <td>...</td>\n",
       "      <td>...</td>\n",
       "      <td>...</td>\n",
       "      <td>...</td>\n",
       "      <td>...</td>\n",
       "    </tr>\n",
       "    <tr>\n",
       "      <th>886</th>\n",
       "      <td>887</td>\n",
       "      <td>0</td>\n",
       "      <td>2</td>\n",
       "      <td>Montvila, Rev. Juozas</td>\n",
       "      <td>male</td>\n",
       "      <td>0</td>\n",
       "      <td>0</td>\n",
       "      <td>211536</td>\n",
       "      <td>13.0000</td>\n",
       "      <td>S</td>\n",
       "    </tr>\n",
       "    <tr>\n",
       "      <th>887</th>\n",
       "      <td>888</td>\n",
       "      <td>1</td>\n",
       "      <td>1</td>\n",
       "      <td>Graham, Miss. Margaret Edith</td>\n",
       "      <td>female</td>\n",
       "      <td>0</td>\n",
       "      <td>0</td>\n",
       "      <td>112053</td>\n",
       "      <td>30.0000</td>\n",
       "      <td>S</td>\n",
       "    </tr>\n",
       "    <tr>\n",
       "      <th>888</th>\n",
       "      <td>889</td>\n",
       "      <td>0</td>\n",
       "      <td>3</td>\n",
       "      <td>Johnston, Miss. Catherine Helen \"Carrie\"</td>\n",
       "      <td>female</td>\n",
       "      <td>1</td>\n",
       "      <td>2</td>\n",
       "      <td>W./C. 6607</td>\n",
       "      <td>23.4500</td>\n",
       "      <td>S</td>\n",
       "    </tr>\n",
       "    <tr>\n",
       "      <th>889</th>\n",
       "      <td>890</td>\n",
       "      <td>1</td>\n",
       "      <td>1</td>\n",
       "      <td>Behr, Mr. Karl Howell</td>\n",
       "      <td>male</td>\n",
       "      <td>0</td>\n",
       "      <td>0</td>\n",
       "      <td>111369</td>\n",
       "      <td>30.0000</td>\n",
       "      <td>C</td>\n",
       "    </tr>\n",
       "    <tr>\n",
       "      <th>890</th>\n",
       "      <td>891</td>\n",
       "      <td>0</td>\n",
       "      <td>3</td>\n",
       "      <td>Dooley, Mr. Patrick</td>\n",
       "      <td>male</td>\n",
       "      <td>0</td>\n",
       "      <td>0</td>\n",
       "      <td>370376</td>\n",
       "      <td>7.7500</td>\n",
       "      <td>Q</td>\n",
       "    </tr>\n",
       "  </tbody>\n",
       "</table>\n",
       "<p>889 rows × 10 columns</p>\n",
       "</div>"
      ],
      "text/plain": [
       "     PassengerId  Survived  Pclass  \\\n",
       "0              1         0       3   \n",
       "1              2         1       1   \n",
       "2              3         1       3   \n",
       "3              4         1       1   \n",
       "4              5         0       3   \n",
       "..           ...       ...     ...   \n",
       "886          887         0       2   \n",
       "887          888         1       1   \n",
       "888          889         0       3   \n",
       "889          890         1       1   \n",
       "890          891         0       3   \n",
       "\n",
       "                                                  Name     Sex  SibSp  Parch  \\\n",
       "0                              Braund, Mr. Owen Harris    male      1      0   \n",
       "1    Cumings, Mrs. John Bradley (Florence Briggs Th...  female      1      0   \n",
       "2                               Heikkinen, Miss. Laina  female      0      0   \n",
       "3         Futrelle, Mrs. Jacques Heath (Lily May Peel)  female      1      0   \n",
       "4                             Allen, Mr. William Henry    male      0      0   \n",
       "..                                                 ...     ...    ...    ...   \n",
       "886                              Montvila, Rev. Juozas    male      0      0   \n",
       "887                       Graham, Miss. Margaret Edith  female      0      0   \n",
       "888           Johnston, Miss. Catherine Helen \"Carrie\"  female      1      2   \n",
       "889                              Behr, Mr. Karl Howell    male      0      0   \n",
       "890                                Dooley, Mr. Patrick    male      0      0   \n",
       "\n",
       "               Ticket     Fare Embarked  \n",
       "0           A/5 21171   7.2500        S  \n",
       "1            PC 17599  71.2833        C  \n",
       "2    STON/O2. 3101282   7.9250        S  \n",
       "3              113803  53.1000        S  \n",
       "4              373450   8.0500        S  \n",
       "..                ...      ...      ...  \n",
       "886            211536  13.0000        S  \n",
       "887            112053  30.0000        S  \n",
       "888        W./C. 6607  23.4500        S  \n",
       "889            111369  30.0000        C  \n",
       "890            370376   7.7500        Q  \n",
       "\n",
       "[889 rows x 10 columns]"
      ]
     },
     "execution_count": 11,
     "metadata": {},
     "output_type": "execute_result"
    }
   ],
   "source": [
    "titanic_df.dropna()"
   ]
  }
 ],
 "metadata": {
  "kernelspec": {
   "display_name": "Python 3",
   "language": "python",
   "name": "python3"
  },
  "language_info": {
   "codemirror_mode": {
    "name": "ipython",
    "version": 3
   },
   "file_extension": ".py",
   "mimetype": "text/x-python",
   "name": "python",
   "nbconvert_exporter": "python",
   "pygments_lexer": "ipython3",
   "version": "3.7.12"
  },
  "papermill": {
   "default_parameters": {},
   "duration": 12.460102,
   "end_time": "2022-01-31T03:57:16.718884",
   "environment_variables": {},
   "exception": null,
   "input_path": "__notebook__.ipynb",
   "output_path": "__notebook__.ipynb",
   "parameters": {},
   "start_time": "2022-01-31T03:57:04.258782",
   "version": "2.3.3"
  }
 },
 "nbformat": 4,
 "nbformat_minor": 5
}
