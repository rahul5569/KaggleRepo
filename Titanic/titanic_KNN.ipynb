{
 "cells": [
  {
   "cell_type": "code",
   "execution_count": 1,
   "id": "bb346cd6",
   "metadata": {
    "_cell_guid": "b1076dfc-b9ad-4769-8c92-a6c4dae69d19",
    "_uuid": "8f2839f25d086af736a60e9eeb907d3b93b6e0e5",
    "execution": {
     "iopub.execute_input": "2022-02-02T09:06:58.140993Z",
     "iopub.status.busy": "2022-02-02T09:06:58.140198Z",
     "iopub.status.idle": "2022-02-02T09:06:59.223322Z",
     "shell.execute_reply": "2022-02-02T09:06:59.222498Z",
     "shell.execute_reply.started": "2022-02-02T08:57:37.790718Z"
    },
    "papermill": {
     "duration": 1.132368,
     "end_time": "2022-02-02T09:06:59.223512",
     "exception": false,
     "start_time": "2022-02-02T09:06:58.091144",
     "status": "completed"
    },
    "tags": []
   },
   "outputs": [
    {
     "name": "stdout",
     "output_type": "stream",
     "text": [
      "/kaggle/input/titanic/train.csv\n",
      "/kaggle/input/titanic/test.csv\n",
      "/kaggle/input/titanic/gender_submission.csv\n"
     ]
    }
   ],
   "source": [
    "# This Python 3 environment comes with many helpful analytics libraries installed\n",
    "# It is defined by the kaggle/python Docker image: https://github.com/kaggle/docker-python\n",
    "# For example, here's several helpful packages to load\n",
    "\n",
    "import numpy as np # linear algebra\n",
    "import pandas as pd # data processing, CSV file I/O (e.g. pd.read_csv)\n",
    "import seaborn as sns\n",
    "import matplotlib.pyplot as plt\n",
    "\n",
    "# Input data files are available in the read-only \"../input/\" directory\n",
    "# For example, running this (by clicking run or pressing Shift+Enter) will list all files under the input directory\n",
    "\n",
    "import os\n",
    "for dirname, _, filenames in os.walk('/kaggle/input'):\n",
    "    for filename in filenames:\n",
    "        print(os.path.join(dirname, filename))\n",
    "\n",
    "# You can write up to 20GB to the current directory (/kaggle/working/) that gets preserved as output when you create a version using \"Save & Run All\" \n",
    "# You can also write temporary files to /kaggle/temp/, but they won't be saved outside of the current session"
   ]
  },
  {
   "cell_type": "markdown",
   "id": "d74bcff1",
   "metadata": {
    "papermill": {
     "duration": 0.035813,
     "end_time": "2022-02-02T09:06:59.296982",
     "exception": false,
     "start_time": "2022-02-02T09:06:59.261169",
     "status": "completed"
    },
    "tags": []
   },
   "source": [
    "# Extraction and Analysis "
   ]
  },
  {
   "cell_type": "code",
   "execution_count": 2,
   "id": "9babae01",
   "metadata": {
    "execution": {
     "iopub.execute_input": "2022-02-02T09:06:59.375458Z",
     "iopub.status.busy": "2022-02-02T09:06:59.374693Z",
     "iopub.status.idle": "2022-02-02T09:06:59.399341Z",
     "shell.execute_reply": "2022-02-02T09:06:59.399943Z",
     "shell.execute_reply.started": "2022-02-02T08:53:30.473889Z"
    },
    "papermill": {
     "duration": 0.067006,
     "end_time": "2022-02-02T09:06:59.400132",
     "exception": false,
     "start_time": "2022-02-02T09:06:59.333126",
     "status": "completed"
    },
    "tags": []
   },
   "outputs": [],
   "source": [
    "titanic_df = pd.read_csv('/kaggle/input/titanic/train.csv')"
   ]
  },
  {
   "cell_type": "code",
   "execution_count": 3,
   "id": "5c2d8d1d",
   "metadata": {
    "execution": {
     "iopub.execute_input": "2022-02-02T09:06:59.483942Z",
     "iopub.status.busy": "2022-02-02T09:06:59.477719Z",
     "iopub.status.idle": "2022-02-02T09:06:59.502827Z",
     "shell.execute_reply": "2022-02-02T09:06:59.503378Z",
     "shell.execute_reply.started": "2022-02-02T08:53:30.497064Z"
    },
    "papermill": {
     "duration": 0.065786,
     "end_time": "2022-02-02T09:06:59.503564",
     "exception": false,
     "start_time": "2022-02-02T09:06:59.437778",
     "status": "completed"
    },
    "tags": []
   },
   "outputs": [
    {
     "data": {
      "text/html": [
       "<div>\n",
       "<style scoped>\n",
       "    .dataframe tbody tr th:only-of-type {\n",
       "        vertical-align: middle;\n",
       "    }\n",
       "\n",
       "    .dataframe tbody tr th {\n",
       "        vertical-align: top;\n",
       "    }\n",
       "\n",
       "    .dataframe thead th {\n",
       "        text-align: right;\n",
       "    }\n",
       "</style>\n",
       "<table border=\"1\" class=\"dataframe\">\n",
       "  <thead>\n",
       "    <tr style=\"text-align: right;\">\n",
       "      <th></th>\n",
       "      <th>PassengerId</th>\n",
       "      <th>Survived</th>\n",
       "      <th>Pclass</th>\n",
       "      <th>Name</th>\n",
       "      <th>Sex</th>\n",
       "      <th>Age</th>\n",
       "      <th>SibSp</th>\n",
       "      <th>Parch</th>\n",
       "      <th>Ticket</th>\n",
       "      <th>Fare</th>\n",
       "      <th>Cabin</th>\n",
       "      <th>Embarked</th>\n",
       "    </tr>\n",
       "  </thead>\n",
       "  <tbody>\n",
       "    <tr>\n",
       "      <th>0</th>\n",
       "      <td>1</td>\n",
       "      <td>0</td>\n",
       "      <td>3</td>\n",
       "      <td>Braund, Mr. Owen Harris</td>\n",
       "      <td>male</td>\n",
       "      <td>22.0</td>\n",
       "      <td>1</td>\n",
       "      <td>0</td>\n",
       "      <td>A/5 21171</td>\n",
       "      <td>7.2500</td>\n",
       "      <td>NaN</td>\n",
       "      <td>S</td>\n",
       "    </tr>\n",
       "    <tr>\n",
       "      <th>1</th>\n",
       "      <td>2</td>\n",
       "      <td>1</td>\n",
       "      <td>1</td>\n",
       "      <td>Cumings, Mrs. John Bradley (Florence Briggs Th...</td>\n",
       "      <td>female</td>\n",
       "      <td>38.0</td>\n",
       "      <td>1</td>\n",
       "      <td>0</td>\n",
       "      <td>PC 17599</td>\n",
       "      <td>71.2833</td>\n",
       "      <td>C85</td>\n",
       "      <td>C</td>\n",
       "    </tr>\n",
       "    <tr>\n",
       "      <th>2</th>\n",
       "      <td>3</td>\n",
       "      <td>1</td>\n",
       "      <td>3</td>\n",
       "      <td>Heikkinen, Miss. Laina</td>\n",
       "      <td>female</td>\n",
       "      <td>26.0</td>\n",
       "      <td>0</td>\n",
       "      <td>0</td>\n",
       "      <td>STON/O2. 3101282</td>\n",
       "      <td>7.9250</td>\n",
       "      <td>NaN</td>\n",
       "      <td>S</td>\n",
       "    </tr>\n",
       "    <tr>\n",
       "      <th>3</th>\n",
       "      <td>4</td>\n",
       "      <td>1</td>\n",
       "      <td>1</td>\n",
       "      <td>Futrelle, Mrs. Jacques Heath (Lily May Peel)</td>\n",
       "      <td>female</td>\n",
       "      <td>35.0</td>\n",
       "      <td>1</td>\n",
       "      <td>0</td>\n",
       "      <td>113803</td>\n",
       "      <td>53.1000</td>\n",
       "      <td>C123</td>\n",
       "      <td>S</td>\n",
       "    </tr>\n",
       "    <tr>\n",
       "      <th>4</th>\n",
       "      <td>5</td>\n",
       "      <td>0</td>\n",
       "      <td>3</td>\n",
       "      <td>Allen, Mr. William Henry</td>\n",
       "      <td>male</td>\n",
       "      <td>35.0</td>\n",
       "      <td>0</td>\n",
       "      <td>0</td>\n",
       "      <td>373450</td>\n",
       "      <td>8.0500</td>\n",
       "      <td>NaN</td>\n",
       "      <td>S</td>\n",
       "    </tr>\n",
       "  </tbody>\n",
       "</table>\n",
       "</div>"
      ],
      "text/plain": [
       "   PassengerId  Survived  Pclass  \\\n",
       "0            1         0       3   \n",
       "1            2         1       1   \n",
       "2            3         1       3   \n",
       "3            4         1       1   \n",
       "4            5         0       3   \n",
       "\n",
       "                                                Name     Sex   Age  SibSp  \\\n",
       "0                            Braund, Mr. Owen Harris    male  22.0      1   \n",
       "1  Cumings, Mrs. John Bradley (Florence Briggs Th...  female  38.0      1   \n",
       "2                             Heikkinen, Miss. Laina  female  26.0      0   \n",
       "3       Futrelle, Mrs. Jacques Heath (Lily May Peel)  female  35.0      1   \n",
       "4                           Allen, Mr. William Henry    male  35.0      0   \n",
       "\n",
       "   Parch            Ticket     Fare Cabin Embarked  \n",
       "0      0         A/5 21171   7.2500   NaN        S  \n",
       "1      0          PC 17599  71.2833   C85        C  \n",
       "2      0  STON/O2. 3101282   7.9250   NaN        S  \n",
       "3      0            113803  53.1000  C123        S  \n",
       "4      0            373450   8.0500   NaN        S  "
      ]
     },
     "execution_count": 3,
     "metadata": {},
     "output_type": "execute_result"
    }
   ],
   "source": [
    "titanic_df.head()"
   ]
  },
  {
   "cell_type": "code",
   "execution_count": 4,
   "id": "55cef364",
   "metadata": {
    "execution": {
     "iopub.execute_input": "2022-02-02T09:06:59.580616Z",
     "iopub.status.busy": "2022-02-02T09:06:59.579831Z",
     "iopub.status.idle": "2022-02-02T09:06:59.588898Z",
     "shell.execute_reply": "2022-02-02T09:06:59.589472Z",
     "shell.execute_reply.started": "2022-02-02T08:53:30.525261Z"
    },
    "papermill": {
     "duration": 0.049339,
     "end_time": "2022-02-02T09:06:59.589649",
     "exception": false,
     "start_time": "2022-02-02T09:06:59.540310",
     "status": "completed"
    },
    "tags": []
   },
   "outputs": [
    {
     "data": {
      "text/plain": [
       "PassengerId      0\n",
       "Survived         0\n",
       "Pclass           0\n",
       "Name             0\n",
       "Sex              0\n",
       "Age            177\n",
       "SibSp            0\n",
       "Parch            0\n",
       "Ticket           0\n",
       "Fare             0\n",
       "Cabin          687\n",
       "Embarked         2\n",
       "dtype: int64"
      ]
     },
     "execution_count": 4,
     "metadata": {},
     "output_type": "execute_result"
    }
   ],
   "source": [
    "titanic_df.isnull().sum()"
   ]
  },
  {
   "cell_type": "markdown",
   "id": "c34a7df6",
   "metadata": {
    "papermill": {
     "duration": 0.037183,
     "end_time": "2022-02-02T09:06:59.664888",
     "exception": false,
     "start_time": "2022-02-02T09:06:59.627705",
     "status": "completed"
    },
    "tags": []
   },
   "source": [
    "#### **I see that Age, Cabin and Emnarked have all some null value. Let's try fill out those missing values**"
   ]
  },
  {
   "cell_type": "code",
   "execution_count": 5,
   "id": "5183b9cf",
   "metadata": {
    "execution": {
     "iopub.execute_input": "2022-02-02T09:06:59.743322Z",
     "iopub.status.busy": "2022-02-02T09:06:59.742565Z",
     "iopub.status.idle": "2022-02-02T09:06:59.755749Z",
     "shell.execute_reply": "2022-02-02T09:06:59.756299Z",
     "shell.execute_reply.started": "2022-02-02T08:53:30.534406Z"
    },
    "papermill": {
     "duration": 0.054674,
     "end_time": "2022-02-02T09:06:59.756473",
     "exception": false,
     "start_time": "2022-02-02T09:06:59.701799",
     "status": "completed"
    },
    "tags": []
   },
   "outputs": [
    {
     "data": {
      "text/plain": [
       "count    714.000000\n",
       "mean      29.699118\n",
       "std       14.526497\n",
       "min        0.420000\n",
       "25%       20.125000\n",
       "50%       28.000000\n",
       "75%       38.000000\n",
       "max       80.000000\n",
       "Name: Age, dtype: float64"
      ]
     },
     "execution_count": 5,
     "metadata": {},
     "output_type": "execute_result"
    }
   ],
   "source": [
    "titanic_df.Age.describe()"
   ]
  },
  {
   "cell_type": "markdown",
   "id": "adda97f4",
   "metadata": {
    "papermill": {
     "duration": 0.03956,
     "end_time": "2022-02-02T09:06:59.833781",
     "exception": false,
     "start_time": "2022-02-02T09:06:59.794221",
     "status": "completed"
    },
    "tags": []
   },
   "source": []
  },
  {
   "cell_type": "markdown",
   "id": "9d025efc",
   "metadata": {
    "papermill": {
     "duration": 0.036684,
     "end_time": "2022-02-02T09:06:59.907326",
     "exception": false,
     "start_time": "2022-02-02T09:06:59.870642",
     "status": "completed"
    },
    "tags": []
   },
   "source": [
    "#### **Ok as the age has a standard devition of 14, we cannot fill out the the missing values with mean and also there are 177 values we cannot simply remove the missing rows from the table. Hence, we need to remove the whole columns itself** ####"
   ]
  },
  {
   "cell_type": "code",
   "execution_count": 6,
   "id": "ad0fa8c8",
   "metadata": {
    "execution": {
     "iopub.execute_input": "2022-02-02T09:06:59.992259Z",
     "iopub.status.busy": "2022-02-02T09:06:59.984782Z",
     "iopub.status.idle": "2022-02-02T09:06:59.995871Z",
     "shell.execute_reply": "2022-02-02T09:06:59.995237Z",
     "shell.execute_reply.started": "2022-02-02T08:53:30.559155Z"
    },
    "papermill": {
     "duration": 0.051,
     "end_time": "2022-02-02T09:06:59.996034",
     "exception": false,
     "start_time": "2022-02-02T09:06:59.945034",
     "status": "completed"
    },
    "tags": []
   },
   "outputs": [],
   "source": [
    "titanic_df.drop('Age', inplace = True, axis = 1)"
   ]
  },
  {
   "cell_type": "markdown",
   "id": "59b9fe71",
   "metadata": {
    "papermill": {
     "duration": 0.036718,
     "end_time": "2022-02-02T09:07:00.069858",
     "exception": false,
     "start_time": "2022-02-02T09:07:00.033140",
     "status": "completed"
    },
    "tags": []
   },
   "source": [
    "#### **Let's take look at Cabin** ####"
   ]
  },
  {
   "cell_type": "markdown",
   "id": "a5e89314",
   "metadata": {
    "papermill": {
     "duration": 0.037594,
     "end_time": "2022-02-02T09:07:00.144467",
     "exception": false,
     "start_time": "2022-02-02T09:07:00.106873",
     "status": "completed"
    },
    "tags": []
   },
   "source": []
  },
  {
   "cell_type": "code",
   "execution_count": 7,
   "id": "746b4d55",
   "metadata": {
    "execution": {
     "iopub.execute_input": "2022-02-02T09:07:00.229827Z",
     "iopub.status.busy": "2022-02-02T09:07:00.229097Z",
     "iopub.status.idle": "2022-02-02T09:07:00.232785Z",
     "shell.execute_reply": "2022-02-02T09:07:00.232291Z",
     "shell.execute_reply.started": "2022-02-02T08:53:30.571103Z"
    },
    "papermill": {
     "duration": 0.051139,
     "end_time": "2022-02-02T09:07:00.232928",
     "exception": false,
     "start_time": "2022-02-02T09:07:00.181789",
     "status": "completed"
    },
    "tags": []
   },
   "outputs": [
    {
     "data": {
      "text/plain": [
       "count         204\n",
       "unique        147\n",
       "top       B96 B98\n",
       "freq            4\n",
       "Name: Cabin, dtype: object"
      ]
     },
     "execution_count": 7,
     "metadata": {},
     "output_type": "execute_result"
    }
   ],
   "source": [
    "titanic_df.Cabin.describe()"
   ]
  },
  {
   "cell_type": "code",
   "execution_count": 8,
   "id": "8c31097c",
   "metadata": {
    "execution": {
     "iopub.execute_input": "2022-02-02T09:07:00.316430Z",
     "iopub.status.busy": "2022-02-02T09:07:00.310943Z",
     "iopub.status.idle": "2022-02-02T09:07:00.320551Z",
     "shell.execute_reply": "2022-02-02T09:07:00.319978Z",
     "shell.execute_reply.started": "2022-02-02T08:53:30.588165Z"
    },
    "papermill": {
     "duration": 0.050244,
     "end_time": "2022-02-02T09:07:00.320732",
     "exception": false,
     "start_time": "2022-02-02T09:07:00.270488",
     "status": "completed"
    },
    "tags": []
   },
   "outputs": [
    {
     "data": {
      "text/plain": [
       "B96 B98        4\n",
       "G6             4\n",
       "C23 C25 C27    4\n",
       "C22 C26        3\n",
       "F33            3\n",
       "              ..\n",
       "E34            1\n",
       "C7             1\n",
       "C54            1\n",
       "E36            1\n",
       "C148           1\n",
       "Name: Cabin, Length: 147, dtype: int64"
      ]
     },
     "execution_count": 8,
     "metadata": {},
     "output_type": "execute_result"
    }
   ],
   "source": [
    "titanic_df.Cabin.value_counts()"
   ]
  },
  {
   "cell_type": "code",
   "execution_count": 9,
   "id": "36614380",
   "metadata": {
    "execution": {
     "iopub.execute_input": "2022-02-02T09:07:00.404793Z",
     "iopub.status.busy": "2022-02-02T09:07:00.404112Z",
     "iopub.status.idle": "2022-02-02T09:07:00.407510Z",
     "shell.execute_reply": "2022-02-02T09:07:00.406878Z",
     "shell.execute_reply.started": "2022-02-02T08:53:30.597457Z"
    },
    "papermill": {
     "duration": 0.048576,
     "end_time": "2022-02-02T09:07:00.407662",
     "exception": false,
     "start_time": "2022-02-02T09:07:00.359086",
     "status": "completed"
    },
    "tags": []
   },
   "outputs": [
    {
     "data": {
      "text/plain": [
       "147"
      ]
     },
     "execution_count": 9,
     "metadata": {},
     "output_type": "execute_result"
    }
   ],
   "source": [
    "titanic_df.Cabin.nunique()"
   ]
  },
  {
   "cell_type": "markdown",
   "id": "c1323f56",
   "metadata": {
    "papermill": {
     "duration": 0.037876,
     "end_time": "2022-02-02T09:07:00.483668",
     "exception": false,
     "start_time": "2022-02-02T09:07:00.445792",
     "status": "completed"
    },
    "tags": []
   },
   "source": [
    "#### **It seems the number of unique values are 147 out 158 non null cabin values which is about 93% from the available data. Hence, need to drop this column as well** ####"
   ]
  },
  {
   "cell_type": "code",
   "execution_count": 10,
   "id": "dfc805b9",
   "metadata": {
    "execution": {
     "iopub.execute_input": "2022-02-02T09:07:00.565688Z",
     "iopub.status.busy": "2022-02-02T09:07:00.562566Z",
     "iopub.status.idle": "2022-02-02T09:07:00.568198Z",
     "shell.execute_reply": "2022-02-02T09:07:00.567554Z",
     "shell.execute_reply.started": "2022-02-02T08:53:30.614474Z"
    },
    "papermill": {
     "duration": 0.04658,
     "end_time": "2022-02-02T09:07:00.568357",
     "exception": false,
     "start_time": "2022-02-02T09:07:00.521777",
     "status": "completed"
    },
    "tags": []
   },
   "outputs": [],
   "source": [
    "titanic_df.drop('Cabin', inplace = True, axis = 1)"
   ]
  },
  {
   "cell_type": "markdown",
   "id": "0fab5f6f",
   "metadata": {
    "papermill": {
     "duration": 0.03821,
     "end_time": "2022-02-02T09:07:00.645903",
     "exception": false,
     "start_time": "2022-02-02T09:07:00.607693",
     "status": "completed"
    },
    "tags": []
   },
   "source": [
    "#### **The number of embarked rows that have null values are 2 which very low, therefore instead of dropping the whole column we just drop the empty rows** #### "
   ]
  },
  {
   "cell_type": "code",
   "execution_count": 11,
   "id": "120b3e90",
   "metadata": {
    "execution": {
     "iopub.execute_input": "2022-02-02T09:07:00.726464Z",
     "iopub.status.busy": "2022-02-02T09:07:00.725753Z",
     "iopub.status.idle": "2022-02-02T09:07:00.728638Z",
     "shell.execute_reply": "2022-02-02T09:07:00.728049Z",
     "shell.execute_reply.started": "2022-02-02T08:53:30.621474Z"
    },
    "papermill": {
     "duration": 0.044761,
     "end_time": "2022-02-02T09:07:00.728791",
     "exception": false,
     "start_time": "2022-02-02T09:07:00.684030",
     "status": "completed"
    },
    "tags": []
   },
   "outputs": [],
   "source": [
    "#titanic_df.dropna()"
   ]
  },
  {
   "cell_type": "markdown",
   "id": "4160315d",
   "metadata": {
    "papermill": {
     "duration": 0.037553,
     "end_time": "2022-02-02T09:07:00.805157",
     "exception": false,
     "start_time": "2022-02-02T09:07:00.767604",
     "status": "completed"
    },
    "tags": []
   },
   "source": [
    "# EDA"
   ]
  },
  {
   "cell_type": "code",
   "execution_count": 12,
   "id": "f02b368c",
   "metadata": {
    "execution": {
     "iopub.execute_input": "2022-02-02T09:07:00.887604Z",
     "iopub.status.busy": "2022-02-02T09:07:00.886936Z",
     "iopub.status.idle": "2022-02-02T09:07:00.890136Z",
     "shell.execute_reply": "2022-02-02T09:07:00.889590Z",
     "shell.execute_reply.started": "2022-02-02T08:53:30.637406Z"
    },
    "papermill": {
     "duration": 0.046125,
     "end_time": "2022-02-02T09:07:00.890332",
     "exception": false,
     "start_time": "2022-02-02T09:07:00.844207",
     "status": "completed"
    },
    "tags": []
   },
   "outputs": [],
   "source": [
    "sns.set_style('darkgrid')"
   ]
  },
  {
   "cell_type": "code",
   "execution_count": 13,
   "id": "cdd836bd",
   "metadata": {
    "execution": {
     "iopub.execute_input": "2022-02-02T09:07:00.974740Z",
     "iopub.status.busy": "2022-02-02T09:07:00.974024Z",
     "iopub.status.idle": "2022-02-02T09:07:01.179252Z",
     "shell.execute_reply": "2022-02-02T09:07:01.180211Z",
     "shell.execute_reply.started": "2022-02-02T08:53:30.650463Z"
    },
    "papermill": {
     "duration": 0.251101,
     "end_time": "2022-02-02T09:07:01.180494",
     "exception": false,
     "start_time": "2022-02-02T09:07:00.929393",
     "status": "completed"
    },
    "tags": []
   },
   "outputs": [
    {
     "data": {
      "text/plain": [
       "<AxesSubplot:xlabel='Survived', ylabel='Fare'>"
      ]
     },
     "execution_count": 13,
     "metadata": {},
     "output_type": "execute_result"
    },
    {
     "data": {
      "image/png": "[encoded data removed]",
      "text/plain": [
       "<Figure size 432x288 with 1 Axes>"
      ]
     },
     "metadata": {},
     "output_type": "display_data"
    }
   ],
   "source": [
    "sns.boxplot(y = 'Fare' , x = 'Survived' , data = titanic_df)"
   ]
  },
  {
   "cell_type": "markdown",
   "id": "46caa953",
   "metadata": {
    "papermill": {
     "duration": 0.038823,
     "end_time": "2022-02-02T09:07:01.258529",
     "exception": false,
     "start_time": "2022-02-02T09:07:01.219706",
     "status": "completed"
    },
    "tags": []
   },
   "source": [
    "#### **It seems the fare is slightly co-related but we may get some patterns on that** ####"
   ]
  },
  {
   "cell_type": "code",
   "execution_count": 14,
   "id": "fc031f9a",
   "metadata": {
    "execution": {
     "iopub.execute_input": "2022-02-02T09:07:01.360803Z",
     "iopub.status.busy": "2022-02-02T09:07:01.359698Z",
     "iopub.status.idle": "2022-02-02T09:07:01.543799Z",
     "shell.execute_reply": "2022-02-02T09:07:01.544328Z",
     "shell.execute_reply.started": "2022-02-02T08:53:30.846692Z"
    },
    "papermill": {
     "duration": 0.246126,
     "end_time": "2022-02-02T09:07:01.544508",
     "exception": false,
     "start_time": "2022-02-02T09:07:01.298382",
     "status": "completed"
    },
    "tags": []
   },
   "outputs": [
    {
     "data": {
      "text/plain": [
       "<AxesSubplot:xlabel='Embarked', ylabel='count'>"
      ]
     },
     "execution_count": 14,
     "metadata": {},
     "output_type": "execute_result"
    },
    {
     "data": {
      "image/png": "[encoded data removed]",
      "text/plain": [
       "<Figure size 432x288 with 1 Axes>"
      ]
     },
     "metadata": {},
     "output_type": "display_data"
    }
   ],
   "source": [
    "sns.countplot(x = 'Embarked', hue = 'Survived' , data = titanic_df)"
   ]
  },
  {
   "cell_type": "code",
   "execution_count": 15,
   "id": "f2143347",
   "metadata": {
    "execution": {
     "iopub.execute_input": "2022-02-02T09:07:01.630934Z",
     "iopub.status.busy": "2022-02-02T09:07:01.630214Z",
     "iopub.status.idle": "2022-02-02T09:07:01.897851Z",
     "shell.execute_reply": "2022-02-02T09:07:01.898391Z",
     "shell.execute_reply.started": "2022-02-02T08:53:31.080178Z"
    },
    "papermill": {
     "duration": 0.314009,
     "end_time": "2022-02-02T09:07:01.898590",
     "exception": false,
     "start_time": "2022-02-02T09:07:01.584581",
     "status": "completed"
    },
    "tags": []
   },
   "outputs": [
    {
     "data": {
      "text/plain": [
       "<AxesSubplot:xlabel='SibSp', ylabel='count'>"
      ]
     },
     "execution_count": 15,
     "metadata": {},
     "output_type": "execute_result"
    },
    {
     "data": {
      "image/png": "[encoded data removed]",
      "text/plain": [
       "<Figure size 432x288 with 1 Axes>"
      ]
     },
     "metadata": {},
     "output_type": "display_data"
    }
   ],
   "source": [
    "sns.countplot(x = 'SibSp', hue = 'Survived' , data = titanic_df)"
   ]
  },
  {
   "cell_type": "code",
   "execution_count": 16,
   "id": "811ca2ff",
   "metadata": {
    "execution": {
     "iopub.execute_input": "2022-02-02T09:07:01.985876Z",
     "iopub.status.busy": "2022-02-02T09:07:01.984848Z",
     "iopub.status.idle": "2022-02-02T09:07:02.179235Z",
     "shell.execute_reply": "2022-02-02T09:07:02.178367Z",
     "shell.execute_reply.started": "2022-02-02T08:53:31.369162Z"
    },
    "papermill": {
     "duration": 0.239564,
     "end_time": "2022-02-02T09:07:02.179413",
     "exception": false,
     "start_time": "2022-02-02T09:07:01.939849",
     "status": "completed"
    },
    "tags": []
   },
   "outputs": [
    {
     "data": {
      "text/plain": [
       "<AxesSubplot:xlabel='Pclass', ylabel='count'>"
      ]
     },
     "execution_count": 16,
     "metadata": {},
     "output_type": "execute_result"
    },
    {
     "data": {
      "image/png": "[encoded data removed]",
      "text/plain": [
       "<Figure size 432x288 with 1 Axes>"
      ]
     },
     "metadata": {},
     "output_type": "display_data"
    }
   ],
   "source": [
    "sns.countplot(x = 'Pclass', hue = 'Survived' , data = titanic_df)"
   ]
  },
  {
   "cell_type": "code",
   "execution_count": 17,
   "id": "89b3b5ca",
   "metadata": {
    "execution": {
     "iopub.execute_input": "2022-02-02T09:07:02.268149Z",
     "iopub.status.busy": "2022-02-02T09:07:02.267129Z",
     "iopub.status.idle": "2022-02-02T09:07:02.514240Z",
     "shell.execute_reply": "2022-02-02T09:07:02.514718Z",
     "shell.execute_reply.started": "2022-02-02T08:53:31.605898Z"
    },
    "papermill": {
     "duration": 0.293388,
     "end_time": "2022-02-02T09:07:02.514894",
     "exception": false,
     "start_time": "2022-02-02T09:07:02.221506",
     "status": "completed"
    },
    "tags": []
   },
   "outputs": [
    {
     "data": {
      "text/plain": [
       "<AxesSubplot:xlabel='Parch', ylabel='count'>"
      ]
     },
     "execution_count": 17,
     "metadata": {},
     "output_type": "execute_result"
    },
    {
     "data": {
      "image/png": "[encoded data removed]",
      "text/plain": [
       "<Figure size 432x288 with 1 Axes>"
      ]
     },
     "metadata": {},
     "output_type": "display_data"
    }
   ],
   "source": [
    "sns.countplot(x = 'Parch', hue = 'Survived' , data = titanic_df)"
   ]
  },
  {
   "cell_type": "code",
   "execution_count": 18,
   "id": "43f43187",
   "metadata": {
    "execution": {
     "iopub.execute_input": "2022-02-02T09:07:02.605818Z",
     "iopub.status.busy": "2022-02-02T09:07:02.604777Z",
     "iopub.status.idle": "2022-02-02T09:07:02.773764Z",
     "shell.execute_reply": "2022-02-02T09:07:02.773158Z",
     "shell.execute_reply.started": "2022-02-02T08:53:31.888042Z"
    },
    "papermill": {
     "duration": 0.215963,
     "end_time": "2022-02-02T09:07:02.773917",
     "exception": false,
     "start_time": "2022-02-02T09:07:02.557954",
     "status": "completed"
    },
    "tags": []
   },
   "outputs": [
    {
     "data": {
      "text/plain": [
       "<AxesSubplot:xlabel='Sex', ylabel='count'>"
      ]
     },
     "execution_count": 18,
     "metadata": {},
     "output_type": "execute_result"
    },
    {
     "data": {
      "image/png": "[encoded data removed]",
      "text/plain": [
       "<Figure size 432x288 with 1 Axes>"
      ]
     },
     "metadata": {},
     "output_type": "display_data"
    }
   ],
   "source": [
    "sns.countplot(x = 'Sex', hue = 'Survived' , data = titanic_df)"
   ]
  },
  {
   "cell_type": "markdown",
   "id": "ee40e727",
   "metadata": {
    "papermill": {
     "duration": 0.04378,
     "end_time": "2022-02-02T09:07:02.863205",
     "exception": false,
     "start_time": "2022-02-02T09:07:02.819425",
     "status": "completed"
    },
    "tags": []
   },
   "source": [
    "#### **The above features seems to have co-relation so we should be including it** ####"
   ]
  },
  {
   "cell_type": "code",
   "execution_count": 19,
   "id": "66b15124",
   "metadata": {
    "execution": {
     "iopub.execute_input": "2022-02-02T09:07:02.959363Z",
     "iopub.status.busy": "2022-02-02T09:07:02.958630Z",
     "iopub.status.idle": "2022-02-02T09:07:02.972472Z",
     "shell.execute_reply": "2022-02-02T09:07:02.972985Z",
     "shell.execute_reply.started": "2022-02-02T08:53:32.125976Z"
    },
    "papermill": {
     "duration": 0.065356,
     "end_time": "2022-02-02T09:07:02.973156",
     "exception": false,
     "start_time": "2022-02-02T09:07:02.907800",
     "status": "completed"
    },
    "tags": []
   },
   "outputs": [
    {
     "name": "stdout",
     "output_type": "stream",
     "text": [
      "<class 'pandas.core.frame.DataFrame'>\n",
      "RangeIndex: 891 entries, 0 to 890\n",
      "Data columns (total 10 columns):\n",
      " #   Column       Non-Null Count  Dtype  \n",
      "---  ------       --------------  -----  \n",
      " 0   PassengerId  891 non-null    int64  \n",
      " 1   Survived     891 non-null    int64  \n",
      " 2   Pclass       891 non-null    int64  \n",
      " 3   Name         891 non-null    object \n",
      " 4   Sex          891 non-null    object \n",
      " 5   SibSp        891 non-null    int64  \n",
      " 6   Parch        891 non-null    int64  \n",
      " 7   Ticket       891 non-null    object \n",
      " 8   Fare         891 non-null    float64\n",
      " 9   Embarked     889 non-null    object \n",
      "dtypes: float64(1), int64(5), object(4)\n",
      "memory usage: 69.7+ KB\n"
     ]
    }
   ],
   "source": [
    "titanic_df.info()"
   ]
  },
  {
   "cell_type": "markdown",
   "id": "8415507e",
   "metadata": {
    "papermill": {
     "duration": 0.044116,
     "end_time": "2022-02-02T09:07:03.062801",
     "exception": false,
     "start_time": "2022-02-02T09:07:03.018685",
     "status": "completed"
    },
    "tags": []
   },
   "source": [
    "#### **The ticket feature has majority unique values and it is string value,hence we need to drop this column** ####"
   ]
  },
  {
   "cell_type": "code",
   "execution_count": 20,
   "id": "bc50894a",
   "metadata": {
    "execution": {
     "iopub.execute_input": "2022-02-02T09:07:03.158992Z",
     "iopub.status.busy": "2022-02-02T09:07:03.155430Z",
     "iopub.status.idle": "2022-02-02T09:07:03.161833Z",
     "shell.execute_reply": "2022-02-02T09:07:03.161190Z",
     "shell.execute_reply.started": "2022-02-02T08:53:32.147061Z"
    },
    "papermill": {
     "duration": 0.054324,
     "end_time": "2022-02-02T09:07:03.161977",
     "exception": false,
     "start_time": "2022-02-02T09:07:03.107653",
     "status": "completed"
    },
    "tags": []
   },
   "outputs": [],
   "source": [
    "titanic_df.drop('Ticket', inplace = True, axis =1)"
   ]
  },
  {
   "cell_type": "markdown",
   "id": "a92607e4",
   "metadata": {
    "papermill": {
     "duration": 0.044226,
     "end_time": "2022-02-02T09:07:03.252069",
     "exception": false,
     "start_time": "2022-02-02T09:07:03.207843",
     "status": "completed"
    },
    "tags": []
   },
   "source": [
    "#### **The passengerId and Name are use for identification thus I am removing the columns** ####"
   ]
  },
  {
   "cell_type": "code",
   "execution_count": 21,
   "id": "0cfc5464",
   "metadata": {
    "execution": {
     "iopub.execute_input": "2022-02-02T09:07:03.348226Z",
     "iopub.status.busy": "2022-02-02T09:07:03.347530Z",
     "iopub.status.idle": "2022-02-02T09:07:03.349317Z",
     "shell.execute_reply": "2022-02-02T09:07:03.349919Z",
     "shell.execute_reply.started": "2022-02-02T08:53:32.156389Z"
    },
    "papermill": {
     "duration": 0.053367,
     "end_time": "2022-02-02T09:07:03.350090",
     "exception": false,
     "start_time": "2022-02-02T09:07:03.296723",
     "status": "completed"
    },
    "tags": []
   },
   "outputs": [],
   "source": [
    "titanic_df.drop(['PassengerId', 'Name'] , inplace = True, axis =1)"
   ]
  },
  {
   "cell_type": "markdown",
   "id": "486b02fb",
   "metadata": {
    "papermill": {
     "duration": 0.044525,
     "end_time": "2022-02-02T09:07:03.440436",
     "exception": false,
     "start_time": "2022-02-02T09:07:03.395911",
     "status": "completed"
    },
    "tags": []
   },
   "source": [
    "# Modeling"
   ]
  },
  {
   "cell_type": "markdown",
   "id": "391839ab",
   "metadata": {
    "papermill": {
     "duration": 0.044619,
     "end_time": "2022-02-02T09:07:03.530814",
     "exception": false,
     "start_time": "2022-02-02T09:07:03.486195",
     "status": "completed"
    },
    "tags": []
   },
   "source": [
    "#### **I will using Random forest model to predict** ####"
   ]
  },
  {
   "cell_type": "code",
   "execution_count": 22,
   "id": "f7e5604f",
   "metadata": {
    "execution": {
     "iopub.execute_input": "2022-02-02T09:07:03.624715Z",
     "iopub.status.busy": "2022-02-02T09:07:03.624069Z",
     "iopub.status.idle": "2022-02-02T09:07:03.807205Z",
     "shell.execute_reply": "2022-02-02T09:07:03.807718Z",
     "shell.execute_reply.started": "2022-02-02T08:53:32.172892Z"
    },
    "papermill": {
     "duration": 0.23213,
     "end_time": "2022-02-02T09:07:03.807905",
     "exception": false,
     "start_time": "2022-02-02T09:07:03.575775",
     "status": "completed"
    },
    "tags": []
   },
   "outputs": [],
   "source": [
    "from sklearn.model_selection import train_test_split"
   ]
  },
  {
   "cell_type": "code",
   "execution_count": 23,
   "id": "ced558fd",
   "metadata": {
    "execution": {
     "iopub.execute_input": "2022-02-02T09:07:03.907891Z",
     "iopub.status.busy": "2022-02-02T09:07:03.907147Z",
     "iopub.status.idle": "2022-02-02T09:07:03.910541Z",
     "shell.execute_reply": "2022-02-02T09:07:03.911133Z",
     "shell.execute_reply.started": "2022-02-02T09:02:51.665440Z"
    },
    "papermill": {
     "duration": 0.058817,
     "end_time": "2022-02-02T09:07:03.911330",
     "exception": false,
     "start_time": "2022-02-02T09:07:03.852513",
     "status": "completed"
    },
    "tags": []
   },
   "outputs": [],
   "source": [
    "#test_data = pd.read_csv(\"/kaggle/input/titanic/test.csv\")\n",
    "#test_data.dropna()\n",
    "\n",
    "\n",
    "features = [\"Pclass\", \"Sex\", \"SibSp\", \"Parch\"]\n",
    "#X = pd.get_dummies(titanic_df[features])\n",
    "#X_test = pd.get_dummies(test_data[features])\n",
    "\n",
    "X = pd.get_dummies(titanic_df[features])\n",
    "y = titanic_df[\"Survived\"]"
   ]
  },
  {
   "cell_type": "code",
   "execution_count": 24,
   "id": "c8bebb73",
   "metadata": {
    "execution": {
     "iopub.execute_input": "2022-02-02T09:07:04.004363Z",
     "iopub.status.busy": "2022-02-02T09:07:04.003640Z",
     "iopub.status.idle": "2022-02-02T09:07:04.009590Z",
     "shell.execute_reply": "2022-02-02T09:07:04.010108Z",
     "shell.execute_reply.started": "2022-02-02T09:02:55.504605Z"
    },
    "papermill": {
     "duration": 0.054115,
     "end_time": "2022-02-02T09:07:04.010300",
     "exception": false,
     "start_time": "2022-02-02T09:07:03.956185",
     "status": "completed"
    },
    "tags": []
   },
   "outputs": [],
   "source": [
    "X_train, X_test, y_train, y_test = train_test_split(X, y, test_size=0.33, random_state=42)"
   ]
  },
  {
   "cell_type": "code",
   "execution_count": 25,
   "id": "9c102163",
   "metadata": {
    "execution": {
     "iopub.execute_input": "2022-02-02T09:07:04.103810Z",
     "iopub.status.busy": "2022-02-02T09:07:04.102411Z",
     "iopub.status.idle": "2022-02-02T09:07:04.251521Z",
     "shell.execute_reply": "2022-02-02T09:07:04.250890Z",
     "shell.execute_reply.started": "2022-02-02T08:55:47.244824Z"
    },
    "papermill": {
     "duration": 0.196779,
     "end_time": "2022-02-02T09:07:04.251671",
     "exception": false,
     "start_time": "2022-02-02T09:07:04.054892",
     "status": "completed"
    },
    "tags": []
   },
   "outputs": [],
   "source": [
    "from sklearn.neighbors import KNeighborsClassifier\n"
   ]
  },
  {
   "cell_type": "code",
   "execution_count": 26,
   "id": "d0ca72d0",
   "metadata": {
    "execution": {
     "iopub.execute_input": "2022-02-02T09:07:04.350822Z",
     "iopub.status.busy": "2022-02-02T09:07:04.350109Z",
     "iopub.status.idle": "2022-02-02T09:07:04.355186Z",
     "shell.execute_reply": "2022-02-02T09:07:04.355748Z",
     "shell.execute_reply.started": "2022-02-02T09:02:58.012855Z"
    },
    "papermill": {
     "duration": 0.059906,
     "end_time": "2022-02-02T09:07:04.355918",
     "exception": false,
     "start_time": "2022-02-02T09:07:04.296012",
     "status": "completed"
    },
    "tags": []
   },
   "outputs": [
    {
     "data": {
      "text/plain": [
       "KNeighborsClassifier()"
      ]
     },
     "execution_count": 26,
     "metadata": {},
     "output_type": "execute_result"
    }
   ],
   "source": [
    "model = KNeighborsClassifier()\n",
    "\n",
    "model.fit(X_train,y_train)"
   ]
  },
  {
   "cell_type": "code",
   "execution_count": 27,
   "id": "908c6d81",
   "metadata": {
    "execution": {
     "iopub.execute_input": "2022-02-02T09:07:04.448604Z",
     "iopub.status.busy": "2022-02-02T09:07:04.447931Z",
     "iopub.status.idle": "2022-02-02T09:07:04.465866Z",
     "shell.execute_reply": "2022-02-02T09:07:04.466409Z",
     "shell.execute_reply.started": "2022-02-02T09:02:59.999472Z"
    },
    "papermill": {
     "duration": 0.066075,
     "end_time": "2022-02-02T09:07:04.466608",
     "exception": false,
     "start_time": "2022-02-02T09:07:04.400533",
     "status": "completed"
    },
    "tags": []
   },
   "outputs": [],
   "source": [
    "predictions = model.predict(X_test)"
   ]
  },
  {
   "cell_type": "code",
   "execution_count": 28,
   "id": "b40c228d",
   "metadata": {
    "execution": {
     "iopub.execute_input": "2022-02-02T09:07:04.559687Z",
     "iopub.status.busy": "2022-02-02T09:07:04.558985Z",
     "iopub.status.idle": "2022-02-02T09:07:04.561916Z",
     "shell.execute_reply": "2022-02-02T09:07:04.562379Z",
     "shell.execute_reply.started": "2022-02-02T09:03:02.616670Z"
    },
    "papermill": {
     "duration": 0.050957,
     "end_time": "2022-02-02T09:07:04.562558",
     "exception": false,
     "start_time": "2022-02-02T09:07:04.511601",
     "status": "completed"
    },
    "tags": []
   },
   "outputs": [],
   "source": [
    "from sklearn.metrics import confusion_matrix,classification_report\n",
    "\n"
   ]
  },
  {
   "cell_type": "code",
   "execution_count": 29,
   "id": "9c113e37",
   "metadata": {
    "execution": {
     "iopub.execute_input": "2022-02-02T09:07:04.659361Z",
     "iopub.status.busy": "2022-02-02T09:07:04.658668Z",
     "iopub.status.idle": "2022-02-02T09:07:04.668551Z",
     "shell.execute_reply": "2022-02-02T09:07:04.669067Z",
     "shell.execute_reply.started": "2022-02-02T09:03:04.945158Z"
    },
    "papermill": {
     "duration": 0.061768,
     "end_time": "2022-02-02T09:07:04.669237",
     "exception": false,
     "start_time": "2022-02-02T09:07:04.607469",
     "status": "completed"
    },
    "tags": []
   },
   "outputs": [
    {
     "name": "stdout",
     "output_type": "stream",
     "text": [
      "[[154  21]\n",
      " [ 35  85]]\n",
      "\n",
      "\n",
      "              precision    recall  f1-score   support\n",
      "\n",
      "           0       0.81      0.88      0.85       175\n",
      "           1       0.80      0.71      0.75       120\n",
      "\n",
      "    accuracy                           0.81       295\n",
      "   macro avg       0.81      0.79      0.80       295\n",
      "weighted avg       0.81      0.81      0.81       295\n",
      "\n"
     ]
    }
   ],
   "source": [
    "print(confusion_matrix(y_test, predictions))\n",
    "print('\\n')\n",
    "print(classification_report(y_test, predictions))"
   ]
  },
  {
   "cell_type": "code",
   "execution_count": 30,
   "id": "bdd536fb",
   "metadata": {
    "execution": {
     "iopub.execute_input": "2022-02-02T09:07:04.763574Z",
     "iopub.status.busy": "2022-02-02T09:07:04.762895Z",
     "iopub.status.idle": "2022-02-02T09:07:05.446793Z",
     "shell.execute_reply": "2022-02-02T09:07:05.447330Z",
     "shell.execute_reply.started": "2022-02-02T09:03:15.741444Z"
    },
    "papermill": {
     "duration": 0.732409,
     "end_time": "2022-02-02T09:07:05.447543",
     "exception": false,
     "start_time": "2022-02-02T09:07:04.715134",
     "status": "completed"
    },
    "tags": []
   },
   "outputs": [],
   "source": [
    "error_rate = []\n",
    "\n",
    "# Will take some time\n",
    "for i in range(1,40):\n",
    "    \n",
    "    knn = KNeighborsClassifier(n_neighbors=i)\n",
    "    knn.fit(X_train,y_train)\n",
    "    pred_i = knn.predict(X_test)\n",
    "    error_rate.append(np.mean(pred_i != y_test))"
   ]
  },
  {
   "cell_type": "code",
   "execution_count": 31,
   "id": "0a8cf9ee",
   "metadata": {
    "execution": {
     "iopub.execute_input": "2022-02-02T09:07:05.546221Z",
     "iopub.status.busy": "2022-02-02T09:07:05.545554Z",
     "iopub.status.idle": "2022-02-02T09:07:05.813246Z",
     "shell.execute_reply": "2022-02-02T09:07:05.812515Z",
     "shell.execute_reply.started": "2022-02-02T09:03:18.907860Z"
    },
    "papermill": {
     "duration": 0.319562,
     "end_time": "2022-02-02T09:07:05.813526",
     "exception": false,
     "start_time": "2022-02-02T09:07:05.493964",
     "status": "completed"
    },
    "tags": []
   },
   "outputs": [
    {
     "data": {
      "text/plain": [
       "Text(0, 0.5, 'Error Rate')"
      ]
     },
     "execution_count": 31,
     "metadata": {},
     "output_type": "execute_result"
    },
    {
     "data": {
      "image/png": "[encoded data removed]",
      "text/plain": [
       "<Figure size 720x432 with 1 Axes>"
      ]
     },
     "metadata": {},
     "output_type": "display_data"
    }
   ],
   "source": [
    "plt.figure(figsize=(10,6))\n",
    "plt.plot(range(1,40),error_rate,color='blue', linestyle='dashed', marker='o',\n",
    "         markerfacecolor='red', markersize=10)\n",
    "plt.title('Error Rate vs. K Value')\n",
    "plt.xlabel('K')\n",
    "plt.ylabel('Error Rate')"
   ]
  },
  {
   "cell_type": "code",
   "execution_count": 32,
   "id": "9caf8ba5",
   "metadata": {
    "execution": {
     "iopub.execute_input": "2022-02-02T09:07:05.918825Z",
     "iopub.status.busy": "2022-02-02T09:07:05.918132Z",
     "iopub.status.idle": "2022-02-02T09:07:05.935967Z",
     "shell.execute_reply": "2022-02-02T09:07:05.935347Z",
     "shell.execute_reply.started": "2022-02-02T09:04:29.577055Z"
    },
    "papermill": {
     "duration": 0.07477,
     "end_time": "2022-02-02T09:07:05.936112",
     "exception": false,
     "start_time": "2022-02-02T09:07:05.861342",
     "status": "completed"
    },
    "tags": []
   },
   "outputs": [],
   "source": [
    "knn = KNeighborsClassifier(n_neighbors=37)\n",
    "knn.fit(X_train,y_train)\n",
    "predictions = knn.predict(X_test)"
   ]
  },
  {
   "cell_type": "code",
   "execution_count": 33,
   "id": "6f28549a",
   "metadata": {
    "execution": {
     "iopub.execute_input": "2022-02-02T09:07:06.037461Z",
     "iopub.status.busy": "2022-02-02T09:07:06.036793Z",
     "iopub.status.idle": "2022-02-02T09:07:06.046002Z",
     "shell.execute_reply": "2022-02-02T09:07:06.046561Z",
     "shell.execute_reply.started": "2022-02-02T09:04:32.177369Z"
    },
    "papermill": {
     "duration": 0.063335,
     "end_time": "2022-02-02T09:07:06.046733",
     "exception": false,
     "start_time": "2022-02-02T09:07:05.983398",
     "status": "completed"
    },
    "tags": []
   },
   "outputs": [
    {
     "name": "stdout",
     "output_type": "stream",
     "text": [
      "[[152  23]\n",
      " [ 31  89]]\n",
      "\n",
      "\n",
      "              precision    recall  f1-score   support\n",
      "\n",
      "           0       0.83      0.87      0.85       175\n",
      "           1       0.79      0.74      0.77       120\n",
      "\n",
      "    accuracy                           0.82       295\n",
      "   macro avg       0.81      0.81      0.81       295\n",
      "weighted avg       0.82      0.82      0.82       295\n",
      "\n"
     ]
    }
   ],
   "source": [
    "print(confusion_matrix(y_test, predictions))\n",
    "print('\\n')\n",
    "print(classification_report(y_test, predictions))"
   ]
  },
  {
   "cell_type": "code",
   "execution_count": 34,
   "id": "e5ca5de6",
   "metadata": {
    "execution": {
     "iopub.execute_input": "2022-02-02T09:07:06.146598Z",
     "iopub.status.busy": "2022-02-02T09:07:06.145890Z",
     "iopub.status.idle": "2022-02-02T09:07:06.170892Z",
     "shell.execute_reply": "2022-02-02T09:07:06.170326Z",
     "shell.execute_reply.started": "2022-02-02T09:04:34.861453Z"
    },
    "papermill": {
     "duration": 0.075878,
     "end_time": "2022-02-02T09:07:06.171047",
     "exception": false,
     "start_time": "2022-02-02T09:07:06.095169",
     "status": "completed"
    },
    "tags": []
   },
   "outputs": [],
   "source": [
    "y1 = titanic_df[\"Survived\"]\n",
    "\n",
    "test_data = pd.read_csv(\"/kaggle/input/titanic/test.csv\")\n",
    "#test_data.dropna()\n",
    "\n",
    "\n",
    "features = [\"Pclass\", \"Sex\", \"SibSp\", \"Parch\"]\n",
    "X1 = pd.get_dummies(titanic_df[features])\n",
    "X_test1 = pd.get_dummies(test_data[features])\n"
   ]
  },
  {
   "cell_type": "code",
   "execution_count": 35,
   "id": "1bbeaccf",
   "metadata": {
    "execution": {
     "iopub.execute_input": "2022-02-02T09:07:06.273134Z",
     "iopub.status.busy": "2022-02-02T09:07:06.272448Z",
     "iopub.status.idle": "2022-02-02T09:07:06.308564Z",
     "shell.execute_reply": "2022-02-02T09:07:06.307892Z",
     "shell.execute_reply.started": "2022-02-02T09:04:37.505557Z"
    },
    "papermill": {
     "duration": 0.089662,
     "end_time": "2022-02-02T09:07:06.308721",
     "exception": false,
     "start_time": "2022-02-02T09:07:06.219059",
     "status": "completed"
    },
    "tags": []
   },
   "outputs": [
    {
     "name": "stdout",
     "output_type": "stream",
     "text": [
      "Your submission was successfully saved!\n"
     ]
    }
   ],
   "source": [
    "model.fit(X1, y1)\n",
    "predictions = knn.predict(X_test1)\n",
    "\n",
    "output = pd.DataFrame({'PassengerId': test_data.PassengerId, 'Survived': predictions})\n",
    "output.to_csv('submission.csv', index=False)\n",
    "print(\"Your submission was successfully saved!\")"
   ]
  },
  {
   "cell_type": "markdown",
   "id": "791af40c",
   "metadata": {
    "papermill": {
     "duration": 0.047556,
     "end_time": "2022-02-02T09:07:06.404376",
     "exception": false,
     "start_time": "2022-02-02T09:07:06.356820",
     "status": "completed"
    },
    "tags": []
   },
   "source": []
  }
 ],
 "metadata": {
  "kernelspec": {
   "display_name": "Python 3",
   "language": "python",
   "name": "python3"
  },
  "language_info": {
   "codemirror_mode": {
    "name": "ipython",
    "version": 3
   },
   "file_extension": ".py",
   "mimetype": "text/x-python",
   "name": "python",
   "nbconvert_exporter": "python",
   "pygments_lexer": "ipython3",
   "version": "3.7.12"
  },
  "papermill": {
   "default_parameters": {},
   "duration": 19.210367,
   "end_time": "2022-02-02T09:07:07.163951",
   "environment_variables": {},
   "exception": null,
   "input_path": "__notebook__.ipynb",
   "output_path": "__notebook__.ipynb",
   "parameters": {},
   "start_time": "2022-02-02T09:06:47.953584",
   "version": "2.3.3"
  }
 },
 "nbformat": 4,
 "nbformat_minor": 5
}
