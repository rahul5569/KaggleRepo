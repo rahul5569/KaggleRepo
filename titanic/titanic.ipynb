{
 "cells": [
  {
   "cell_type": "code",
   "execution_count": 1,
   "id": "76a41cbd",
   "metadata": {
    "_cell_guid": "b1076dfc-b9ad-4769-8c92-a6c4dae69d19",
    "_uuid": "8f2839f25d086af736a60e9eeb907d3b93b6e0e5",
    "execution": {
     "iopub.execute_input": "2022-01-31T03:47:12.978754Z",
     "iopub.status.busy": "2022-01-31T03:47:12.977526Z",
     "iopub.status.idle": "2022-01-31T03:47:14.028461Z",
     "shell.execute_reply": "2022-01-31T03:47:14.029009Z",
     "shell.execute_reply.started": "2022-01-31T03:42:03.361349Z"
    },
    "papermill": {
     "duration": 1.067767,
     "end_time": "2022-01-31T03:47:14.029338",
     "exception": false,
     "start_time": "2022-01-31T03:47:12.961571",
     "status": "completed"
    },
    "tags": []
   },
   "outputs": [
    {
     "name": "stdout",
     "output_type": "stream",
     "text": [
      "/kaggle/input/titanic/train.csv\n",
      "/kaggle/input/titanic/test.csv\n",
      "/kaggle/input/titanic/gender_submission.csv\n"
     ]
    }
   ],
   "source": [
    "# This Python 3 environment comes with many helpful analytics libraries installed\n",
    "# It is defined by the kaggle/python Docker image: https://github.com/kaggle/docker-python\n",
    "# For example, here's several helpful packages to load\n",
    "\n",
    "import numpy as np # linear algebra\n",
    "import pandas as pd # data processing, CSV file I/O (e.g. pd.read_csv)\n",
    "import seaborn as sns\n",
    "\n",
    "# Input data files are available in the read-only \"../input/\" directory\n",
    "# For example, running this (by clicking run or pressing Shift+Enter) will list all files under the input directory\n",
    "\n",
    "import os\n",
    "for dirname, _, filenames in os.walk('/kaggle/input'):\n",
    "    for filename in filenames:\n",
    "        print(os.path.join(dirname, filename))\n",
    "\n",
    "# You can write up to 20GB to the current directory (/kaggle/working/) that gets preserved as output when you create a version using \"Save & Run All\" \n",
    "# You can also write temporary files to /kaggle/temp/, but they won't be saved outside of the current session"
   ]
  },
  {
   "cell_type": "markdown",
   "id": "9499e717",
   "metadata": {
    "papermill": {
     "duration": 0.011571,
     "end_time": "2022-01-31T03:47:14.053375",
     "exception": false,
     "start_time": "2022-01-31T03:47:14.041804",
     "status": "completed"
    },
    "tags": []
   },
   "source": [
    "# Extraction and Analysis "
   ]
  },
  {
   "cell_type": "code",
   "execution_count": 2,
   "id": "42c0308e",
   "metadata": {
    "execution": {
     "iopub.execute_input": "2022-01-31T03:47:14.082488Z",
     "iopub.status.busy": "2022-01-31T03:47:14.081708Z",
     "iopub.status.idle": "2022-01-31T03:47:14.100962Z",
     "shell.execute_reply": "2022-01-31T03:47:14.101487Z",
     "shell.execute_reply.started": "2022-01-31T03:42:03.372214Z"
    },
    "papermill": {
     "duration": 0.036561,
     "end_time": "2022-01-31T03:47:14.101691",
     "exception": false,
     "start_time": "2022-01-31T03:47:14.065130",
     "status": "completed"
    },
    "tags": []
   },
   "outputs": [],
   "source": [
    "titanic_df = pd.read_csv('/kaggle/input/titanic/train.csv')"
   ]
  },
  {
   "cell_type": "code",
   "execution_count": 3,
   "id": "4e030781",
   "metadata": {
    "execution": {
     "iopub.execute_input": "2022-01-31T03:47:14.129210Z",
     "iopub.status.busy": "2022-01-31T03:47:14.128235Z",
     "iopub.status.idle": "2022-01-31T03:47:14.150774Z",
     "shell.execute_reply": "2022-01-31T03:47:14.151278Z",
     "shell.execute_reply.started": "2022-01-31T03:42:03.397924Z"
    },
    "papermill": {
     "duration": 0.038076,
     "end_time": "2022-01-31T03:47:14.151451",
     "exception": false,
     "start_time": "2022-01-31T03:47:14.113375",
     "status": "completed"
    },
    "tags": []
   },
   "outputs": [
    {
     "data": {
      "text/html": [
       "<div>\n",
       "<style scoped>\n",
       "    .dataframe tbody tr th:only-of-type {\n",
       "        vertical-align: middle;\n",
       "    }\n",
       "\n",
       "    .dataframe tbody tr th {\n",
       "        vertical-align: top;\n",
       "    }\n",
       "\n",
       "    .dataframe thead th {\n",
       "        text-align: right;\n",
       "    }\n",
       "</style>\n",
       "<table border=\"1\" class=\"dataframe\">\n",
       "  <thead>\n",
       "    <tr style=\"text-align: right;\">\n",
       "      <th></th>\n",
       "      <th>PassengerId</th>\n",
       "      <th>Survived</th>\n",
       "      <th>Pclass</th>\n",
       "      <th>Name</th>\n",
       "      <th>Sex</th>\n",
       "      <th>Age</th>\n",
       "      <th>SibSp</th>\n",
       "      <th>Parch</th>\n",
       "      <th>Ticket</th>\n",
       "      <th>Fare</th>\n",
       "      <th>Cabin</th>\n",
       "      <th>Embarked</th>\n",
       "    </tr>\n",
       "  </thead>\n",
       "  <tbody>\n",
       "    <tr>\n",
       "      <th>0</th>\n",
       "      <td>1</td>\n",
       "      <td>0</td>\n",
       "      <td>3</td>\n",
       "      <td>Braund, Mr. Owen Harris</td>\n",
       "      <td>male</td>\n",
       "      <td>22.0</td>\n",
       "      <td>1</td>\n",
       "      <td>0</td>\n",
       "      <td>A/5 21171</td>\n",
       "      <td>7.2500</td>\n",
       "      <td>NaN</td>\n",
       "      <td>S</td>\n",
       "    </tr>\n",
       "    <tr>\n",
       "      <th>1</th>\n",
       "      <td>2</td>\n",
       "      <td>1</td>\n",
       "      <td>1</td>\n",
       "      <td>Cumings, Mrs. John Bradley (Florence Briggs Th...</td>\n",
       "      <td>female</td>\n",
       "      <td>38.0</td>\n",
       "      <td>1</td>\n",
       "      <td>0</td>\n",
       "      <td>PC 17599</td>\n",
       "      <td>71.2833</td>\n",
       "      <td>C85</td>\n",
       "      <td>C</td>\n",
       "    </tr>\n",
       "    <tr>\n",
       "      <th>2</th>\n",
       "      <td>3</td>\n",
       "      <td>1</td>\n",
       "      <td>3</td>\n",
       "      <td>Heikkinen, Miss. Laina</td>\n",
       "      <td>female</td>\n",
       "      <td>26.0</td>\n",
       "      <td>0</td>\n",
       "      <td>0</td>\n",
       "      <td>STON/O2. 3101282</td>\n",
       "      <td>7.9250</td>\n",
       "      <td>NaN</td>\n",
       "      <td>S</td>\n",
       "    </tr>\n",
       "    <tr>\n",
       "      <th>3</th>\n",
       "      <td>4</td>\n",
       "      <td>1</td>\n",
       "      <td>1</td>\n",
       "      <td>Futrelle, Mrs. Jacques Heath (Lily May Peel)</td>\n",
       "      <td>female</td>\n",
       "      <td>35.0</td>\n",
       "      <td>1</td>\n",
       "      <td>0</td>\n",
       "      <td>113803</td>\n",
       "      <td>53.1000</td>\n",
       "      <td>C123</td>\n",
       "      <td>S</td>\n",
       "    </tr>\n",
       "    <tr>\n",
       "      <th>4</th>\n",
       "      <td>5</td>\n",
       "      <td>0</td>\n",
       "      <td>3</td>\n",
       "      <td>Allen, Mr. William Henry</td>\n",
       "      <td>male</td>\n",
       "      <td>35.0</td>\n",
       "      <td>0</td>\n",
       "      <td>0</td>\n",
       "      <td>373450</td>\n",
       "      <td>8.0500</td>\n",
       "      <td>NaN</td>\n",
       "      <td>S</td>\n",
       "    </tr>\n",
       "  </tbody>\n",
       "</table>\n",
       "</div>"
      ],
      "text/plain": [
       "   PassengerId  Survived  Pclass  \\\n",
       "0            1         0       3   \n",
       "1            2         1       1   \n",
       "2            3         1       3   \n",
       "3            4         1       1   \n",
       "4            5         0       3   \n",
       "\n",
       "                                                Name     Sex   Age  SibSp  \\\n",
       "0                            Braund, Mr. Owen Harris    male  22.0      1   \n",
       "1  Cumings, Mrs. John Bradley (Florence Briggs Th...  female  38.0      1   \n",
       "2                             Heikkinen, Miss. Laina  female  26.0      0   \n",
       "3       Futrelle, Mrs. Jacques Heath (Lily May Peel)  female  35.0      1   \n",
       "4                           Allen, Mr. William Henry    male  35.0      0   \n",
       "\n",
       "   Parch            Ticket     Fare Cabin Embarked  \n",
       "0      0         A/5 21171   7.2500   NaN        S  \n",
       "1      0          PC 17599  71.2833   C85        C  \n",
       "2      0  STON/O2. 3101282   7.9250   NaN        S  \n",
       "3      0            113803  53.1000  C123        S  \n",
       "4      0            373450   8.0500   NaN        S  "
      ]
     },
     "execution_count": 3,
     "metadata": {},
     "output_type": "execute_result"
    }
   ],
   "source": [
    "titanic_df.head()"
   ]
  },
  {
   "cell_type": "code",
   "execution_count": 4,
   "id": "60a88b9c",
   "metadata": {
    "execution": {
     "iopub.execute_input": "2022-01-31T03:47:14.184307Z",
     "iopub.status.busy": "2022-01-31T03:47:14.179833Z",
     "iopub.status.idle": "2022-01-31T03:47:14.187282Z",
     "shell.execute_reply": "2022-01-31T03:47:14.187778Z",
     "shell.execute_reply.started": "2022-01-31T03:42:03.418075Z"
    },
    "papermill": {
     "duration": 0.024511,
     "end_time": "2022-01-31T03:47:14.187945",
     "exception": false,
     "start_time": "2022-01-31T03:47:14.163434",
     "status": "completed"
    },
    "tags": []
   },
   "outputs": [
    {
     "data": {
      "text/plain": [
       "PassengerId      0\n",
       "Survived         0\n",
       "Pclass           0\n",
       "Name             0\n",
       "Sex              0\n",
       "Age            177\n",
       "SibSp            0\n",
       "Parch            0\n",
       "Ticket           0\n",
       "Fare             0\n",
       "Cabin          687\n",
       "Embarked         2\n",
       "dtype: int64"
      ]
     },
     "execution_count": 4,
     "metadata": {},
     "output_type": "execute_result"
    }
   ],
   "source": [
    "titanic_df.isnull().sum()"
   ]
  },
  {
   "cell_type": "markdown",
   "id": "152ee1f0",
   "metadata": {
    "papermill": {
     "duration": 0.011999,
     "end_time": "2022-01-31T03:47:14.212478",
     "exception": false,
     "start_time": "2022-01-31T03:47:14.200479",
     "status": "completed"
    },
    "tags": []
   },
   "source": [
    "#### **I see that Age, Cabin and Emnarked have all some null value. Let's try fill out those missing values**"
   ]
  },
  {
   "cell_type": "code",
   "execution_count": 5,
   "id": "d66d3d42",
   "metadata": {
    "execution": {
     "iopub.execute_input": "2022-01-31T03:47:14.240224Z",
     "iopub.status.busy": "2022-01-31T03:47:14.239599Z",
     "iopub.status.idle": "2022-01-31T03:47:14.252844Z",
     "shell.execute_reply": "2022-01-31T03:47:14.253440Z",
     "shell.execute_reply.started": "2022-01-31T03:42:03.431016Z"
    },
    "papermill": {
     "duration": 0.028859,
     "end_time": "2022-01-31T03:47:14.253620",
     "exception": false,
     "start_time": "2022-01-31T03:47:14.224761",
     "status": "completed"
    },
    "tags": []
   },
   "outputs": [
    {
     "data": {
      "text/plain": [
       "count    714.000000\n",
       "mean      29.699118\n",
       "std       14.526497\n",
       "min        0.420000\n",
       "25%       20.125000\n",
       "50%       28.000000\n",
       "75%       38.000000\n",
       "max       80.000000\n",
       "Name: Age, dtype: float64"
      ]
     },
     "execution_count": 5,
     "metadata": {},
     "output_type": "execute_result"
    }
   ],
   "source": [
    "titanic_df.Age.describe()"
   ]
  },
  {
   "cell_type": "markdown",
   "id": "120cb196",
   "metadata": {
    "papermill": {
     "duration": 0.012438,
     "end_time": "2022-01-31T03:47:14.278787",
     "exception": false,
     "start_time": "2022-01-31T03:47:14.266349",
     "status": "completed"
    },
    "tags": []
   },
   "source": []
  },
  {
   "cell_type": "markdown",
   "id": "d5115b91",
   "metadata": {
    "papermill": {
     "duration": 0.012254,
     "end_time": "2022-01-31T03:47:14.303668",
     "exception": false,
     "start_time": "2022-01-31T03:47:14.291414",
     "status": "completed"
    },
    "tags": []
   },
   "source": [
    "#### **Ok as the age has a standard devition of 14, we cannot fill out the the missing values with mean and also there are 177 values we cannot simply remove the missing rows from the table. Hence, we need to remove the whole columns itself** ####"
   ]
  },
  {
   "cell_type": "code",
   "execution_count": 6,
   "id": "908722b5",
   "metadata": {
    "execution": {
     "iopub.execute_input": "2022-01-31T03:47:14.332717Z",
     "iopub.status.busy": "2022-01-31T03:47:14.332099Z",
     "iopub.status.idle": "2022-01-31T03:47:14.339889Z",
     "shell.execute_reply": "2022-01-31T03:47:14.340399Z",
     "shell.execute_reply.started": "2022-01-31T03:42:03.447515Z"
    },
    "papermill": {
     "duration": 0.02401,
     "end_time": "2022-01-31T03:47:14.340594",
     "exception": false,
     "start_time": "2022-01-31T03:47:14.316584",
     "status": "completed"
    },
    "tags": []
   },
   "outputs": [],
   "source": [
    "titanic_df.drop('Age', inplace = True, axis = 1)"
   ]
  },
  {
   "cell_type": "markdown",
   "id": "f7c74a65",
   "metadata": {
    "papermill": {
     "duration": 0.012482,
     "end_time": "2022-01-31T03:47:14.365977",
     "exception": false,
     "start_time": "2022-01-31T03:47:14.353495",
     "status": "completed"
    },
    "tags": []
   },
   "source": [
    "#### **Let's take look at Cabin** ####"
   ]
  },
  {
   "cell_type": "markdown",
   "id": "3671a49f",
   "metadata": {
    "papermill": {
     "duration": 0.012457,
     "end_time": "2022-01-31T03:47:14.391247",
     "exception": false,
     "start_time": "2022-01-31T03:47:14.378790",
     "status": "completed"
    },
    "tags": []
   },
   "source": []
  },
  {
   "cell_type": "code",
   "execution_count": 7,
   "id": "ae79ca14",
   "metadata": {
    "execution": {
     "iopub.execute_input": "2022-01-31T03:47:14.420016Z",
     "iopub.status.busy": "2022-01-31T03:47:14.419388Z",
     "iopub.status.idle": "2022-01-31T03:47:14.428312Z",
     "shell.execute_reply": "2022-01-31T03:47:14.428796Z",
     "shell.execute_reply.started": "2022-01-31T03:43:44.893112Z"
    },
    "papermill": {
     "duration": 0.024912,
     "end_time": "2022-01-31T03:47:14.428956",
     "exception": false,
     "start_time": "2022-01-31T03:47:14.404044",
     "status": "completed"
    },
    "tags": []
   },
   "outputs": [
    {
     "data": {
      "text/plain": [
       "count         204\n",
       "unique        147\n",
       "top       B96 B98\n",
       "freq            4\n",
       "Name: Cabin, dtype: object"
      ]
     },
     "execution_count": 7,
     "metadata": {},
     "output_type": "execute_result"
    }
   ],
   "source": [
    "titanic_df.Cabin.describe()"
   ]
  },
  {
   "cell_type": "code",
   "execution_count": 8,
   "id": "81330d72",
   "metadata": {
    "execution": {
     "iopub.execute_input": "2022-01-31T03:47:14.459255Z",
     "iopub.status.busy": "2022-01-31T03:47:14.458611Z",
     "iopub.status.idle": "2022-01-31T03:47:14.465744Z",
     "shell.execute_reply": "2022-01-31T03:47:14.466237Z",
     "shell.execute_reply.started": "2022-01-31T03:44:00.708388Z"
    },
    "papermill": {
     "duration": 0.024422,
     "end_time": "2022-01-31T03:47:14.466405",
     "exception": false,
     "start_time": "2022-01-31T03:47:14.441983",
     "status": "completed"
    },
    "tags": []
   },
   "outputs": [
    {
     "data": {
      "text/plain": [
       "B96 B98        4\n",
       "G6             4\n",
       "C23 C25 C27    4\n",
       "C22 C26        3\n",
       "F33            3\n",
       "              ..\n",
       "E34            1\n",
       "C7             1\n",
       "C54            1\n",
       "E36            1\n",
       "C148           1\n",
       "Name: Cabin, Length: 147, dtype: int64"
      ]
     },
     "execution_count": 8,
     "metadata": {},
     "output_type": "execute_result"
    }
   ],
   "source": [
    "titanic_df.Cabin.value_counts()"
   ]
  },
  {
   "cell_type": "code",
   "execution_count": 9,
   "id": "ef493286",
   "metadata": {
    "execution": {
     "iopub.execute_input": "2022-01-31T03:47:14.496744Z",
     "iopub.status.busy": "2022-01-31T03:47:14.496121Z",
     "iopub.status.idle": "2022-01-31T03:47:14.502808Z",
     "shell.execute_reply": "2022-01-31T03:47:14.503443Z",
     "shell.execute_reply.started": "2022-01-31T03:44:28.602599Z"
    },
    "papermill": {
     "duration": 0.023744,
     "end_time": "2022-01-31T03:47:14.503638",
     "exception": false,
     "start_time": "2022-01-31T03:47:14.479894",
     "status": "completed"
    },
    "tags": []
   },
   "outputs": [
    {
     "data": {
      "text/plain": [
       "147"
      ]
     },
     "execution_count": 9,
     "metadata": {},
     "output_type": "execute_result"
    }
   ],
   "source": [
    "titanic_df.Cabin.nunique()"
   ]
  }
 ],
 "metadata": {
  "kernelspec": {
   "display_name": "Python 3",
   "language": "python",
   "name": "python3"
  },
  "language_info": {
   "codemirror_mode": {
    "name": "ipython",
    "version": 3
   },
   "file_extension": ".py",
   "mimetype": "text/x-python",
   "name": "python",
   "nbconvert_exporter": "python",
   "pygments_lexer": "ipython3",
   "version": "3.7.12"
  },
  "papermill": {
   "default_parameters": {},
   "duration": 12.510063,
   "end_time": "2022-01-31T03:47:15.226597",
   "environment_variables": {},
   "exception": null,
   "input_path": "__notebook__.ipynb",
   "output_path": "__notebook__.ipynb",
   "parameters": {},
   "start_time": "2022-01-31T03:47:02.716534",
   "version": "2.3.3"
  }
 },
 "nbformat": 4,
 "nbformat_minor": 5
}
