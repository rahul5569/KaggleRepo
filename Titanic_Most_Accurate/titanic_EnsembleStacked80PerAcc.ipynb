{
 "cells": [
  {
   "cell_type": "code",
   "execution_count": 1,
   "id": "1fb93569",
   "metadata": {
    "_cell_guid": "b1076dfc-b9ad-4769-8c92-a6c4dae69d19",
    "_uuid": "8f2839f25d086af736a60e9eeb907d3b93b6e0e5",
    "execution": {
     "iopub.execute_input": "2022-02-19T10:30:52.560237Z",
     "iopub.status.busy": "2022-02-19T10:30:52.559012Z",
     "iopub.status.idle": "2022-02-19T10:30:53.710350Z",
     "shell.execute_reply": "2022-02-19T10:30:53.710968Z",
     "shell.execute_reply.started": "2022-02-19T10:24:39.949310Z"
    },
    "papermill": {
     "duration": 1.211823,
     "end_time": "2022-02-19T10:30:53.711277",
     "exception": false,
     "start_time": "2022-02-19T10:30:52.499454",
     "status": "completed"
    },
    "tags": []
   },
   "outputs": [
    {
     "name": "stdout",
     "output_type": "stream",
     "text": [
      "/kaggle/input/titanic/train.csv\n",
      "/kaggle/input/titanic/test.csv\n",
      "/kaggle/input/titanic/gender_submission.csv\n"
     ]
    }
   ],
   "source": [
    "# This Python 3 environment comes with many helpful analytics libraries installed\n",
    "# It is defined by the kaggle/python Docker image: https://github.com/kaggle/docker-python\n",
    "# For example, here's several helpful packages to load\n",
    "\n",
    "import numpy as np # linear algebra\n",
    "import pandas as pd # data processing, CSV file I/O (e.g. pd.read_csv)\n",
    "import seaborn as sns\n",
    "import matplotlib.pyplot as plt\n",
    "\n",
    "# Input data files are available in the read-only \"../input/\" directory\n",
    "# For example, running this (by clicking run or pressing Shift+Enter) will list all files under the input directory\n",
    "\n",
    "import os\n",
    "for dirname, _, filenames in os.walk('/kaggle/input'):\n",
    "    for filename in filenames:\n",
    "        print(os.path.join(dirname, filename))\n",
    "\n",
    "# You can write up to 20GB to the current directory (/kaggle/working/) that gets preserved as output when you create a version using \"Save & Run All\" \n",
    "# You can also write temporary files to /kaggle/temp/, but they won't be saved outside of the current session"
   ]
  },
  {
   "cell_type": "markdown",
   "id": "6afd3fea",
   "metadata": {
    "papermill": {
     "duration": 0.052013,
     "end_time": "2022-02-19T10:30:53.818147",
     "exception": false,
     "start_time": "2022-02-19T10:30:53.766134",
     "status": "completed"
    },
    "tags": []
   },
   "source": [
    "# Extraction and Analysis "
   ]
  },
  {
   "cell_type": "code",
   "execution_count": 2,
   "id": "dabc7020",
   "metadata": {
    "execution": {
     "iopub.execute_input": "2022-02-19T10:30:53.930671Z",
     "iopub.status.busy": "2022-02-19T10:30:53.929764Z",
     "iopub.status.idle": "2022-02-19T10:30:53.949130Z",
     "shell.execute_reply": "2022-02-19T10:30:53.949744Z",
     "shell.execute_reply.started": "2022-02-19T10:24:39.962795Z"
    },
    "papermill": {
     "duration": 0.078123,
     "end_time": "2022-02-19T10:30:53.949959",
     "exception": false,
     "start_time": "2022-02-19T10:30:53.871836",
     "status": "completed"
    },
    "tags": []
   },
   "outputs": [],
   "source": [
    "titanic_df = pd.read_csv('/kaggle/input/titanic/train.csv')"
   ]
  },
  {
   "cell_type": "markdown",
   "id": "b6be243e",
   "metadata": {
    "papermill": {
     "duration": 0.056009,
     "end_time": "2022-02-19T10:30:54.059596",
     "exception": false,
     "start_time": "2022-02-19T10:30:54.003587",
     "status": "completed"
    },
    "tags": []
   },
   "source": []
  },
  {
   "cell_type": "code",
   "execution_count": 3,
   "id": "b955750c",
   "metadata": {
    "execution": {
     "iopub.execute_input": "2022-02-19T10:30:54.178365Z",
     "iopub.status.busy": "2022-02-19T10:30:54.177543Z",
     "iopub.status.idle": "2022-02-19T10:30:54.186472Z",
     "shell.execute_reply": "2022-02-19T10:30:54.187113Z",
     "shell.execute_reply.started": "2022-02-19T10:24:39.986004Z"
    },
    "papermill": {
     "duration": 0.071351,
     "end_time": "2022-02-19T10:30:54.187294",
     "exception": false,
     "start_time": "2022-02-19T10:30:54.115943",
     "status": "completed"
    },
    "tags": []
   },
   "outputs": [
    {
     "data": {
      "text/plain": [
       "array([nan, 'C85', 'C123', 'E46', 'G6', 'C103', 'D56', 'A6',\n",
       "       'C23 C25 C27', 'B78', 'D33', 'B30', 'C52', 'B28', 'C83', 'F33',\n",
       "       'F G73', 'E31', 'A5', 'D10 D12', 'D26', 'C110', 'B58 B60', 'E101',\n",
       "       'F E69', 'D47', 'B86', 'F2', 'C2', 'E33', 'B19', 'A7', 'C49', 'F4',\n",
       "       'A32', 'B4', 'B80', 'A31', 'D36', 'D15', 'C93', 'C78', 'D35',\n",
       "       'C87', 'B77', 'E67', 'B94', 'C125', 'C99', 'C118', 'D7', 'A19',\n",
       "       'B49', 'D', 'C22 C26', 'C106', 'C65', 'E36', 'C54',\n",
       "       'B57 B59 B63 B66', 'C7', 'E34', 'C32', 'B18', 'C124', 'C91', 'E40',\n",
       "       'T', 'C128', 'D37', 'B35', 'E50', 'C82', 'B96 B98', 'E10', 'E44',\n",
       "       'A34', 'C104', 'C111', 'C92', 'E38', 'D21', 'E12', 'E63', 'A14',\n",
       "       'B37', 'C30', 'D20', 'B79', 'E25', 'D46', 'B73', 'C95', 'B38',\n",
       "       'B39', 'B22', 'C86', 'C70', 'A16', 'C101', 'C68', 'A10', 'E68',\n",
       "       'B41', 'A20', 'D19', 'D50', 'D9', 'A23', 'B50', 'A26', 'D48',\n",
       "       'E58', 'C126', 'B71', 'B51 B53 B55', 'D49', 'B5', 'B20', 'F G63',\n",
       "       'C62 C64', 'E24', 'C90', 'C45', 'E8', 'B101', 'D45', 'C46', 'D30',\n",
       "       'E121', 'D11', 'E77', 'F38', 'B3', 'D6', 'B82 B84', 'D17', 'A36',\n",
       "       'B102', 'B69', 'E49', 'C47', 'D28', 'E17', 'A24', 'C50', 'B42',\n",
       "       'C148'], dtype=object)"
      ]
     },
     "execution_count": 3,
     "metadata": {},
     "output_type": "execute_result"
    }
   ],
   "source": [
    "#pd.set_option(\"display.max_rows\", None, \"display.max_columns\", None)\n",
    "\n",
    "titanic_df.Cabin.unique()"
   ]
  },
  {
   "cell_type": "code",
   "execution_count": 4,
   "id": "f9e232a1",
   "metadata": {
    "execution": {
     "iopub.execute_input": "2022-02-19T10:30:54.306360Z",
     "iopub.status.busy": "2022-02-19T10:30:54.305269Z",
     "iopub.status.idle": "2022-02-19T10:30:54.329266Z",
     "shell.execute_reply": "2022-02-19T10:30:54.329829Z",
     "shell.execute_reply.started": "2022-02-19T10:24:39.999578Z"
    },
    "papermill": {
     "duration": 0.090946,
     "end_time": "2022-02-19T10:30:54.330030",
     "exception": false,
     "start_time": "2022-02-19T10:30:54.239084",
     "status": "completed"
    },
    "tags": []
   },
   "outputs": [
    {
     "data": {
      "text/html": [
       "<div>\n",
       "<style scoped>\n",
       "    .dataframe tbody tr th:only-of-type {\n",
       "        vertical-align: middle;\n",
       "    }\n",
       "\n",
       "    .dataframe tbody tr th {\n",
       "        vertical-align: top;\n",
       "    }\n",
       "\n",
       "    .dataframe thead th {\n",
       "        text-align: right;\n",
       "    }\n",
       "</style>\n",
       "<table border=\"1\" class=\"dataframe\">\n",
       "  <thead>\n",
       "    <tr style=\"text-align: right;\">\n",
       "      <th></th>\n",
       "      <th>PassengerId</th>\n",
       "      <th>Survived</th>\n",
       "      <th>Pclass</th>\n",
       "      <th>Name</th>\n",
       "      <th>Sex</th>\n",
       "      <th>Age</th>\n",
       "      <th>SibSp</th>\n",
       "      <th>Parch</th>\n",
       "      <th>Ticket</th>\n",
       "      <th>Fare</th>\n",
       "      <th>Cabin</th>\n",
       "      <th>Embarked</th>\n",
       "    </tr>\n",
       "  </thead>\n",
       "  <tbody>\n",
       "    <tr>\n",
       "      <th>2</th>\n",
       "      <td>3</td>\n",
       "      <td>1</td>\n",
       "      <td>3</td>\n",
       "      <td>Heikkinen, Miss. Laina</td>\n",
       "      <td>female</td>\n",
       "      <td>26.0</td>\n",
       "      <td>0</td>\n",
       "      <td>0</td>\n",
       "      <td>STON/O2. 3101282</td>\n",
       "      <td>7.9250</td>\n",
       "      <td>NaN</td>\n",
       "      <td>S</td>\n",
       "    </tr>\n",
       "    <tr>\n",
       "      <th>8</th>\n",
       "      <td>9</td>\n",
       "      <td>1</td>\n",
       "      <td>3</td>\n",
       "      <td>Johnson, Mrs. Oscar W (Elisabeth Vilhelmina Berg)</td>\n",
       "      <td>female</td>\n",
       "      <td>27.0</td>\n",
       "      <td>0</td>\n",
       "      <td>2</td>\n",
       "      <td>347742</td>\n",
       "      <td>11.1333</td>\n",
       "      <td>NaN</td>\n",
       "      <td>S</td>\n",
       "    </tr>\n",
       "    <tr>\n",
       "      <th>9</th>\n",
       "      <td>10</td>\n",
       "      <td>1</td>\n",
       "      <td>2</td>\n",
       "      <td>Nasser, Mrs. Nicholas (Adele Achem)</td>\n",
       "      <td>female</td>\n",
       "      <td>14.0</td>\n",
       "      <td>1</td>\n",
       "      <td>0</td>\n",
       "      <td>237736</td>\n",
       "      <td>30.0708</td>\n",
       "      <td>NaN</td>\n",
       "      <td>C</td>\n",
       "    </tr>\n",
       "    <tr>\n",
       "      <th>15</th>\n",
       "      <td>16</td>\n",
       "      <td>1</td>\n",
       "      <td>2</td>\n",
       "      <td>Hewlett, Mrs. (Mary D Kingcome)</td>\n",
       "      <td>female</td>\n",
       "      <td>55.0</td>\n",
       "      <td>0</td>\n",
       "      <td>0</td>\n",
       "      <td>248706</td>\n",
       "      <td>16.0000</td>\n",
       "      <td>NaN</td>\n",
       "      <td>S</td>\n",
       "    </tr>\n",
       "    <tr>\n",
       "      <th>17</th>\n",
       "      <td>18</td>\n",
       "      <td>1</td>\n",
       "      <td>2</td>\n",
       "      <td>Williams, Mr. Charles Eugene</td>\n",
       "      <td>male</td>\n",
       "      <td>NaN</td>\n",
       "      <td>0</td>\n",
       "      <td>0</td>\n",
       "      <td>244373</td>\n",
       "      <td>13.0000</td>\n",
       "      <td>NaN</td>\n",
       "      <td>S</td>\n",
       "    </tr>\n",
       "    <tr>\n",
       "      <th>...</th>\n",
       "      <td>...</td>\n",
       "      <td>...</td>\n",
       "      <td>...</td>\n",
       "      <td>...</td>\n",
       "      <td>...</td>\n",
       "      <td>...</td>\n",
       "      <td>...</td>\n",
       "      <td>...</td>\n",
       "      <td>...</td>\n",
       "      <td>...</td>\n",
       "      <td>...</td>\n",
       "      <td>...</td>\n",
       "    </tr>\n",
       "    <tr>\n",
       "      <th>866</th>\n",
       "      <td>867</td>\n",
       "      <td>1</td>\n",
       "      <td>2</td>\n",
       "      <td>Duran y More, Miss. Asuncion</td>\n",
       "      <td>female</td>\n",
       "      <td>27.0</td>\n",
       "      <td>1</td>\n",
       "      <td>0</td>\n",
       "      <td>SC/PARIS 2149</td>\n",
       "      <td>13.8583</td>\n",
       "      <td>NaN</td>\n",
       "      <td>C</td>\n",
       "    </tr>\n",
       "    <tr>\n",
       "      <th>869</th>\n",
       "      <td>870</td>\n",
       "      <td>1</td>\n",
       "      <td>3</td>\n",
       "      <td>Johnson, Master. Harold Theodor</td>\n",
       "      <td>male</td>\n",
       "      <td>4.0</td>\n",
       "      <td>1</td>\n",
       "      <td>1</td>\n",
       "      <td>347742</td>\n",
       "      <td>11.1333</td>\n",
       "      <td>NaN</td>\n",
       "      <td>S</td>\n",
       "    </tr>\n",
       "    <tr>\n",
       "      <th>874</th>\n",
       "      <td>875</td>\n",
       "      <td>1</td>\n",
       "      <td>2</td>\n",
       "      <td>Abelson, Mrs. Samuel (Hannah Wizosky)</td>\n",
       "      <td>female</td>\n",
       "      <td>28.0</td>\n",
       "      <td>1</td>\n",
       "      <td>0</td>\n",
       "      <td>P/PP 3381</td>\n",
       "      <td>24.0000</td>\n",
       "      <td>NaN</td>\n",
       "      <td>C</td>\n",
       "    </tr>\n",
       "    <tr>\n",
       "      <th>875</th>\n",
       "      <td>876</td>\n",
       "      <td>1</td>\n",
       "      <td>3</td>\n",
       "      <td>Najib, Miss. Adele Kiamie \"Jane\"</td>\n",
       "      <td>female</td>\n",
       "      <td>15.0</td>\n",
       "      <td>0</td>\n",
       "      <td>0</td>\n",
       "      <td>2667</td>\n",
       "      <td>7.2250</td>\n",
       "      <td>NaN</td>\n",
       "      <td>C</td>\n",
       "    </tr>\n",
       "    <tr>\n",
       "      <th>880</th>\n",
       "      <td>881</td>\n",
       "      <td>1</td>\n",
       "      <td>2</td>\n",
       "      <td>Shelley, Mrs. William (Imanita Parrish Hall)</td>\n",
       "      <td>female</td>\n",
       "      <td>25.0</td>\n",
       "      <td>0</td>\n",
       "      <td>1</td>\n",
       "      <td>230433</td>\n",
       "      <td>26.0000</td>\n",
       "      <td>NaN</td>\n",
       "      <td>S</td>\n",
       "    </tr>\n",
       "  </tbody>\n",
       "</table>\n",
       "<p>206 rows × 12 columns</p>\n",
       "</div>"
      ],
      "text/plain": [
       "     PassengerId  Survived  Pclass  \\\n",
       "2              3         1       3   \n",
       "8              9         1       3   \n",
       "9             10         1       2   \n",
       "15            16         1       2   \n",
       "17            18         1       2   \n",
       "..           ...       ...     ...   \n",
       "866          867         1       2   \n",
       "869          870         1       3   \n",
       "874          875         1       2   \n",
       "875          876         1       3   \n",
       "880          881         1       2   \n",
       "\n",
       "                                                  Name     Sex   Age  SibSp  \\\n",
       "2                               Heikkinen, Miss. Laina  female  26.0      0   \n",
       "8    Johnson, Mrs. Oscar W (Elisabeth Vilhelmina Berg)  female  27.0      0   \n",
       "9                  Nasser, Mrs. Nicholas (Adele Achem)  female  14.0      1   \n",
       "15                    Hewlett, Mrs. (Mary D Kingcome)   female  55.0      0   \n",
       "17                        Williams, Mr. Charles Eugene    male   NaN      0   \n",
       "..                                                 ...     ...   ...    ...   \n",
       "866                       Duran y More, Miss. Asuncion  female  27.0      1   \n",
       "869                    Johnson, Master. Harold Theodor    male   4.0      1   \n",
       "874              Abelson, Mrs. Samuel (Hannah Wizosky)  female  28.0      1   \n",
       "875                   Najib, Miss. Adele Kiamie \"Jane\"  female  15.0      0   \n",
       "880       Shelley, Mrs. William (Imanita Parrish Hall)  female  25.0      0   \n",
       "\n",
       "     Parch            Ticket     Fare Cabin Embarked  \n",
       "2        0  STON/O2. 3101282   7.9250   NaN        S  \n",
       "8        2            347742  11.1333   NaN        S  \n",
       "9        0            237736  30.0708   NaN        C  \n",
       "15       0            248706  16.0000   NaN        S  \n",
       "17       0            244373  13.0000   NaN        S  \n",
       "..     ...               ...      ...   ...      ...  \n",
       "866      0     SC/PARIS 2149  13.8583   NaN        C  \n",
       "869      1            347742  11.1333   NaN        S  \n",
       "874      0         P/PP 3381  24.0000   NaN        C  \n",
       "875      0              2667   7.2250   NaN        C  \n",
       "880      1            230433  26.0000   NaN        S  \n",
       "\n",
       "[206 rows x 12 columns]"
      ]
     },
     "execution_count": 4,
     "metadata": {},
     "output_type": "execute_result"
    }
   ],
   "source": [
    "titanic_df[titanic_df['Cabin'].isnull() & titanic_df['Survived'] == 1]"
   ]
  },
  {
   "cell_type": "code",
   "execution_count": 5,
   "id": "bae42cc3",
   "metadata": {
    "execution": {
     "iopub.execute_input": "2022-02-19T10:30:54.456346Z",
     "iopub.status.busy": "2022-02-19T10:30:54.455570Z",
     "iopub.status.idle": "2022-02-19T10:30:54.459532Z",
     "shell.execute_reply": "2022-02-19T10:30:54.460068Z",
     "shell.execute_reply.started": "2022-02-19T10:24:40.032568Z"
    },
    "papermill": {
     "duration": 0.076889,
     "end_time": "2022-02-19T10:30:54.460261",
     "exception": false,
     "start_time": "2022-02-19T10:30:54.383372",
     "status": "completed"
    },
    "tags": []
   },
   "outputs": [
    {
     "data": {
      "text/html": [
       "<div>\n",
       "<style scoped>\n",
       "    .dataframe tbody tr th:only-of-type {\n",
       "        vertical-align: middle;\n",
       "    }\n",
       "\n",
       "    .dataframe tbody tr th {\n",
       "        vertical-align: top;\n",
       "    }\n",
       "\n",
       "    .dataframe thead th {\n",
       "        text-align: right;\n",
       "    }\n",
       "</style>\n",
       "<table border=\"1\" class=\"dataframe\">\n",
       "  <thead>\n",
       "    <tr style=\"text-align: right;\">\n",
       "      <th></th>\n",
       "      <th>PassengerId</th>\n",
       "      <th>Survived</th>\n",
       "      <th>Pclass</th>\n",
       "      <th>Name</th>\n",
       "      <th>Sex</th>\n",
       "      <th>Age</th>\n",
       "      <th>SibSp</th>\n",
       "      <th>Parch</th>\n",
       "      <th>Ticket</th>\n",
       "      <th>Fare</th>\n",
       "      <th>Cabin</th>\n",
       "      <th>Embarked</th>\n",
       "    </tr>\n",
       "  </thead>\n",
       "  <tbody>\n",
       "    <tr>\n",
       "      <th>0</th>\n",
       "      <td>1</td>\n",
       "      <td>0</td>\n",
       "      <td>3</td>\n",
       "      <td>Braund, Mr. Owen Harris</td>\n",
       "      <td>male</td>\n",
       "      <td>22.0</td>\n",
       "      <td>1</td>\n",
       "      <td>0</td>\n",
       "      <td>A/5 21171</td>\n",
       "      <td>7.2500</td>\n",
       "      <td>NaN</td>\n",
       "      <td>S</td>\n",
       "    </tr>\n",
       "    <tr>\n",
       "      <th>1</th>\n",
       "      <td>2</td>\n",
       "      <td>1</td>\n",
       "      <td>1</td>\n",
       "      <td>Cumings, Mrs. John Bradley (Florence Briggs Th...</td>\n",
       "      <td>female</td>\n",
       "      <td>38.0</td>\n",
       "      <td>1</td>\n",
       "      <td>0</td>\n",
       "      <td>PC 17599</td>\n",
       "      <td>71.2833</td>\n",
       "      <td>C85</td>\n",
       "      <td>C</td>\n",
       "    </tr>\n",
       "    <tr>\n",
       "      <th>2</th>\n",
       "      <td>3</td>\n",
       "      <td>1</td>\n",
       "      <td>3</td>\n",
       "      <td>Heikkinen, Miss. Laina</td>\n",
       "      <td>female</td>\n",
       "      <td>26.0</td>\n",
       "      <td>0</td>\n",
       "      <td>0</td>\n",
       "      <td>STON/O2. 3101282</td>\n",
       "      <td>7.9250</td>\n",
       "      <td>NaN</td>\n",
       "      <td>S</td>\n",
       "    </tr>\n",
       "    <tr>\n",
       "      <th>3</th>\n",
       "      <td>4</td>\n",
       "      <td>1</td>\n",
       "      <td>1</td>\n",
       "      <td>Futrelle, Mrs. Jacques Heath (Lily May Peel)</td>\n",
       "      <td>female</td>\n",
       "      <td>35.0</td>\n",
       "      <td>1</td>\n",
       "      <td>0</td>\n",
       "      <td>113803</td>\n",
       "      <td>53.1000</td>\n",
       "      <td>C123</td>\n",
       "      <td>S</td>\n",
       "    </tr>\n",
       "    <tr>\n",
       "      <th>4</th>\n",
       "      <td>5</td>\n",
       "      <td>0</td>\n",
       "      <td>3</td>\n",
       "      <td>Allen, Mr. William Henry</td>\n",
       "      <td>male</td>\n",
       "      <td>35.0</td>\n",
       "      <td>0</td>\n",
       "      <td>0</td>\n",
       "      <td>373450</td>\n",
       "      <td>8.0500</td>\n",
       "      <td>NaN</td>\n",
       "      <td>S</td>\n",
       "    </tr>\n",
       "  </tbody>\n",
       "</table>\n",
       "</div>"
      ],
      "text/plain": [
       "   PassengerId  Survived  Pclass  \\\n",
       "0            1         0       3   \n",
       "1            2         1       1   \n",
       "2            3         1       3   \n",
       "3            4         1       1   \n",
       "4            5         0       3   \n",
       "\n",
       "                                                Name     Sex   Age  SibSp  \\\n",
       "0                            Braund, Mr. Owen Harris    male  22.0      1   \n",
       "1  Cumings, Mrs. John Bradley (Florence Briggs Th...  female  38.0      1   \n",
       "2                             Heikkinen, Miss. Laina  female  26.0      0   \n",
       "3       Futrelle, Mrs. Jacques Heath (Lily May Peel)  female  35.0      1   \n",
       "4                           Allen, Mr. William Henry    male  35.0      0   \n",
       "\n",
       "   Parch            Ticket     Fare Cabin Embarked  \n",
       "0      0         A/5 21171   7.2500   NaN        S  \n",
       "1      0          PC 17599  71.2833   C85        C  \n",
       "2      0  STON/O2. 3101282   7.9250   NaN        S  \n",
       "3      0            113803  53.1000  C123        S  \n",
       "4      0            373450   8.0500   NaN        S  "
      ]
     },
     "execution_count": 5,
     "metadata": {},
     "output_type": "execute_result"
    }
   ],
   "source": [
    "titanic_df.head()"
   ]
  },
  {
   "cell_type": "code",
   "execution_count": 6,
   "id": "74bf585f",
   "metadata": {
    "execution": {
     "iopub.execute_input": "2022-02-19T10:30:54.575618Z",
     "iopub.status.busy": "2022-02-19T10:30:54.573651Z",
     "iopub.status.idle": "2022-02-19T10:30:54.583588Z",
     "shell.execute_reply": "2022-02-19T10:30:54.584138Z",
     "shell.execute_reply.started": "2022-02-19T10:24:40.062080Z"
    },
    "papermill": {
     "duration": 0.068428,
     "end_time": "2022-02-19T10:30:54.584360",
     "exception": false,
     "start_time": "2022-02-19T10:30:54.515932",
     "status": "completed"
    },
    "tags": []
   },
   "outputs": [
    {
     "data": {
      "text/plain": [
       "PassengerId      0\n",
       "Survived         0\n",
       "Pclass           0\n",
       "Name             0\n",
       "Sex              0\n",
       "Age            177\n",
       "SibSp            0\n",
       "Parch            0\n",
       "Ticket           0\n",
       "Fare             0\n",
       "Cabin          687\n",
       "Embarked         2\n",
       "dtype: int64"
      ]
     },
     "execution_count": 6,
     "metadata": {},
     "output_type": "execute_result"
    }
   ],
   "source": [
    "titanic_df.isnull().sum()"
   ]
  },
  {
   "cell_type": "markdown",
   "id": "fb87da4b",
   "metadata": {
    "papermill": {
     "duration": 0.055278,
     "end_time": "2022-02-19T10:30:54.695545",
     "exception": false,
     "start_time": "2022-02-19T10:30:54.640267",
     "status": "completed"
    },
    "tags": []
   },
   "source": [
    "#### **I see that Age, Cabin and Emnarked have all some null value. Let's try fill out those missing values**"
   ]
  },
  {
   "cell_type": "code",
   "execution_count": 7,
   "id": "ac26f914",
   "metadata": {
    "execution": {
     "iopub.execute_input": "2022-02-19T10:30:54.808930Z",
     "iopub.status.busy": "2022-02-19T10:30:54.808185Z",
     "iopub.status.idle": "2022-02-19T10:30:54.820584Z",
     "shell.execute_reply": "2022-02-19T10:30:54.819854Z",
     "shell.execute_reply.started": "2022-02-19T10:24:40.074755Z"
    },
    "papermill": {
     "duration": 0.070254,
     "end_time": "2022-02-19T10:30:54.820747",
     "exception": false,
     "start_time": "2022-02-19T10:30:54.750493",
     "status": "completed"
    },
    "tags": []
   },
   "outputs": [
    {
     "data": {
      "text/plain": [
       "count    714.000000\n",
       "mean      29.699118\n",
       "std       14.526497\n",
       "min        0.420000\n",
       "25%       20.125000\n",
       "50%       28.000000\n",
       "75%       38.000000\n",
       "max       80.000000\n",
       "Name: Age, dtype: float64"
      ]
     },
     "execution_count": 7,
     "metadata": {},
     "output_type": "execute_result"
    }
   ],
   "source": [
    "titanic_df.Age.describe()"
   ]
  },
  {
   "cell_type": "markdown",
   "id": "19ed26fc",
   "metadata": {
    "papermill": {
     "duration": 0.058236,
     "end_time": "2022-02-19T10:30:54.933141",
     "exception": false,
     "start_time": "2022-02-19T10:30:54.874905",
     "status": "completed"
    },
    "tags": []
   },
   "source": []
  },
  {
   "cell_type": "markdown",
   "id": "ac9994a9",
   "metadata": {
    "papermill": {
     "duration": 0.055495,
     "end_time": "2022-02-19T10:30:55.045207",
     "exception": false,
     "start_time": "2022-02-19T10:30:54.989712",
     "status": "completed"
    },
    "tags": []
   },
   "source": [
    "### **Lets look at age countplot** ###"
   ]
  },
  {
   "cell_type": "code",
   "execution_count": 8,
   "id": "1a947de2",
   "metadata": {
    "execution": {
     "iopub.execute_input": "2022-02-19T10:30:55.162513Z",
     "iopub.status.busy": "2022-02-19T10:30:55.161528Z",
     "iopub.status.idle": "2022-02-19T10:30:55.164593Z",
     "shell.execute_reply": "2022-02-19T10:30:55.163833Z",
     "shell.execute_reply.started": "2022-02-19T10:24:40.092257Z"
    },
    "papermill": {
     "duration": 0.063311,
     "end_time": "2022-02-19T10:30:55.164773",
     "exception": false,
     "start_time": "2022-02-19T10:30:55.101462",
     "status": "completed"
    },
    "tags": []
   },
   "outputs": [],
   "source": [
    "sns.set_style('darkgrid')"
   ]
  },
  {
   "cell_type": "code",
   "execution_count": 9,
   "id": "fa8a33d7",
   "metadata": {
    "execution": {
     "iopub.execute_input": "2022-02-19T10:30:55.286435Z",
     "iopub.status.busy": "2022-02-19T10:30:55.282463Z",
     "iopub.status.idle": "2022-02-19T10:30:58.488600Z",
     "shell.execute_reply": "2022-02-19T10:30:58.489361Z",
     "shell.execute_reply.started": "2022-02-19T10:24:40.100504Z"
    },
    "papermill": {
     "duration": 3.268783,
     "end_time": "2022-02-19T10:30:58.489629",
     "exception": false,
     "start_time": "2022-02-19T10:30:55.220846",
     "status": "completed"
    },
    "tags": []
   },
   "outputs": [
    {
     "data": {
      "text/plain": [
       "<AxesSubplot:xlabel='Age', ylabel='count'>"
      ]
     },
     "execution_count": 9,
     "metadata": {},
     "output_type": "execute_result"
    },
    {
     "data": {
      "image/png": "[encoded data removed]",
      "text/plain": [
       "<Figure size 3600x288 with 1 Axes>"
      ]
     },
     "metadata": {},
     "output_type": "display_data"
    }
   ],
   "source": [
    "plt.figure(figsize=(50,4))\n",
    "sns.countplot(x = 'Age',data = titanic_df, hue = 'Survived')"
   ]
  },
  {
   "cell_type": "markdown",
   "id": "9f139d53",
   "metadata": {
    "papermill": {
     "duration": 0.071748,
     "end_time": "2022-02-19T10:30:58.622379",
     "exception": false,
     "start_time": "2022-02-19T10:30:58.550631",
     "status": "completed"
    },
    "tags": []
   },
   "source": [
    "#### **Ok as the age has a standard devition of 14, though it turns out we can try filling out the null values by mean value and also as part of feature engineering we will classify the age in to different categories** ####"
   ]
  },
  {
   "cell_type": "code",
   "execution_count": 10,
   "id": "ca6e0e06",
   "metadata": {
    "execution": {
     "iopub.execute_input": "2022-02-19T10:30:58.752776Z",
     "iopub.status.busy": "2022-02-19T10:30:58.751743Z",
     "iopub.status.idle": "2022-02-19T10:30:58.761849Z",
     "shell.execute_reply": "2022-02-19T10:30:58.762487Z",
     "shell.execute_reply.started": "2022-02-19T10:24:43.194466Z"
    },
    "papermill": {
     "duration": 0.082633,
     "end_time": "2022-02-19T10:30:58.762713",
     "exception": false,
     "start_time": "2022-02-19T10:30:58.680080",
     "status": "completed"
    },
    "tags": []
   },
   "outputs": [
    {
     "data": {
      "text/plain": [
       "count    714.000000\n",
       "mean      29.699118\n",
       "std       14.526497\n",
       "min        0.420000\n",
       "25%       20.125000\n",
       "50%       28.000000\n",
       "75%       38.000000\n",
       "max       80.000000\n",
       "Name: Age, dtype: float64"
      ]
     },
     "execution_count": 10,
     "metadata": {},
     "output_type": "execute_result"
    }
   ],
   "source": [
    "titanic_df.Age.describe()"
   ]
  },
  {
   "cell_type": "code",
   "execution_count": 11,
   "id": "a3a98fa6",
   "metadata": {
    "execution": {
     "iopub.execute_input": "2022-02-19T10:30:58.885344Z",
     "iopub.status.busy": "2022-02-19T10:30:58.884332Z",
     "iopub.status.idle": "2022-02-19T10:30:58.909181Z",
     "shell.execute_reply": "2022-02-19T10:30:58.909660Z",
     "shell.execute_reply.started": "2022-02-19T10:24:43.206886Z"
    },
    "papermill": {
     "duration": 0.088192,
     "end_time": "2022-02-19T10:30:58.909848",
     "exception": false,
     "start_time": "2022-02-19T10:30:58.821656",
     "status": "completed"
    },
    "tags": []
   },
   "outputs": [
    {
     "data": {
      "text/html": [
       "<div>\n",
       "<style scoped>\n",
       "    .dataframe tbody tr th:only-of-type {\n",
       "        vertical-align: middle;\n",
       "    }\n",
       "\n",
       "    .dataframe tbody tr th {\n",
       "        vertical-align: top;\n",
       "    }\n",
       "\n",
       "    .dataframe thead th {\n",
       "        text-align: right;\n",
       "    }\n",
       "</style>\n",
       "<table border=\"1\" class=\"dataframe\">\n",
       "  <thead>\n",
       "    <tr style=\"text-align: right;\">\n",
       "      <th></th>\n",
       "      <th>PassengerId</th>\n",
       "      <th>Survived</th>\n",
       "      <th>Pclass</th>\n",
       "      <th>Name</th>\n",
       "      <th>Sex</th>\n",
       "      <th>Age</th>\n",
       "      <th>SibSp</th>\n",
       "      <th>Parch</th>\n",
       "      <th>Ticket</th>\n",
       "      <th>Fare</th>\n",
       "      <th>Cabin</th>\n",
       "      <th>Embarked</th>\n",
       "    </tr>\n",
       "  </thead>\n",
       "  <tbody>\n",
       "    <tr>\n",
       "      <th>0</th>\n",
       "      <td>1</td>\n",
       "      <td>0</td>\n",
       "      <td>3</td>\n",
       "      <td>Braund, Mr. Owen Harris</td>\n",
       "      <td>male</td>\n",
       "      <td>22.0</td>\n",
       "      <td>1</td>\n",
       "      <td>0</td>\n",
       "      <td>A/5 21171</td>\n",
       "      <td>7.2500</td>\n",
       "      <td>NaN</td>\n",
       "      <td>S</td>\n",
       "    </tr>\n",
       "    <tr>\n",
       "      <th>1</th>\n",
       "      <td>2</td>\n",
       "      <td>1</td>\n",
       "      <td>1</td>\n",
       "      <td>Cumings, Mrs. John Bradley (Florence Briggs Th...</td>\n",
       "      <td>female</td>\n",
       "      <td>38.0</td>\n",
       "      <td>1</td>\n",
       "      <td>0</td>\n",
       "      <td>PC 17599</td>\n",
       "      <td>71.2833</td>\n",
       "      <td>C85</td>\n",
       "      <td>C</td>\n",
       "    </tr>\n",
       "    <tr>\n",
       "      <th>2</th>\n",
       "      <td>3</td>\n",
       "      <td>1</td>\n",
       "      <td>3</td>\n",
       "      <td>Heikkinen, Miss. Laina</td>\n",
       "      <td>female</td>\n",
       "      <td>26.0</td>\n",
       "      <td>0</td>\n",
       "      <td>0</td>\n",
       "      <td>STON/O2. 3101282</td>\n",
       "      <td>7.9250</td>\n",
       "      <td>NaN</td>\n",
       "      <td>S</td>\n",
       "    </tr>\n",
       "    <tr>\n",
       "      <th>3</th>\n",
       "      <td>4</td>\n",
       "      <td>1</td>\n",
       "      <td>1</td>\n",
       "      <td>Futrelle, Mrs. Jacques Heath (Lily May Peel)</td>\n",
       "      <td>female</td>\n",
       "      <td>35.0</td>\n",
       "      <td>1</td>\n",
       "      <td>0</td>\n",
       "      <td>113803</td>\n",
       "      <td>53.1000</td>\n",
       "      <td>C123</td>\n",
       "      <td>S</td>\n",
       "    </tr>\n",
       "    <tr>\n",
       "      <th>4</th>\n",
       "      <td>5</td>\n",
       "      <td>0</td>\n",
       "      <td>3</td>\n",
       "      <td>Allen, Mr. William Henry</td>\n",
       "      <td>male</td>\n",
       "      <td>35.0</td>\n",
       "      <td>0</td>\n",
       "      <td>0</td>\n",
       "      <td>373450</td>\n",
       "      <td>8.0500</td>\n",
       "      <td>NaN</td>\n",
       "      <td>S</td>\n",
       "    </tr>\n",
       "    <tr>\n",
       "      <th>...</th>\n",
       "      <td>...</td>\n",
       "      <td>...</td>\n",
       "      <td>...</td>\n",
       "      <td>...</td>\n",
       "      <td>...</td>\n",
       "      <td>...</td>\n",
       "      <td>...</td>\n",
       "      <td>...</td>\n",
       "      <td>...</td>\n",
       "      <td>...</td>\n",
       "      <td>...</td>\n",
       "      <td>...</td>\n",
       "    </tr>\n",
       "    <tr>\n",
       "      <th>886</th>\n",
       "      <td>887</td>\n",
       "      <td>0</td>\n",
       "      <td>2</td>\n",
       "      <td>Montvila, Rev. Juozas</td>\n",
       "      <td>male</td>\n",
       "      <td>27.0</td>\n",
       "      <td>0</td>\n",
       "      <td>0</td>\n",
       "      <td>211536</td>\n",
       "      <td>13.0000</td>\n",
       "      <td>NaN</td>\n",
       "      <td>S</td>\n",
       "    </tr>\n",
       "    <tr>\n",
       "      <th>887</th>\n",
       "      <td>888</td>\n",
       "      <td>1</td>\n",
       "      <td>1</td>\n",
       "      <td>Graham, Miss. Margaret Edith</td>\n",
       "      <td>female</td>\n",
       "      <td>19.0</td>\n",
       "      <td>0</td>\n",
       "      <td>0</td>\n",
       "      <td>112053</td>\n",
       "      <td>30.0000</td>\n",
       "      <td>B42</td>\n",
       "      <td>S</td>\n",
       "    </tr>\n",
       "    <tr>\n",
       "      <th>888</th>\n",
       "      <td>889</td>\n",
       "      <td>0</td>\n",
       "      <td>3</td>\n",
       "      <td>Johnston, Miss. Catherine Helen \"Carrie\"</td>\n",
       "      <td>female</td>\n",
       "      <td>&lt;bound method NDFrame._add_numeric_operations....</td>\n",
       "      <td>1</td>\n",
       "      <td>2</td>\n",
       "      <td>W./C. 6607</td>\n",
       "      <td>23.4500</td>\n",
       "      <td>NaN</td>\n",
       "      <td>S</td>\n",
       "    </tr>\n",
       "    <tr>\n",
       "      <th>889</th>\n",
       "      <td>890</td>\n",
       "      <td>1</td>\n",
       "      <td>1</td>\n",
       "      <td>Behr, Mr. Karl Howell</td>\n",
       "      <td>male</td>\n",
       "      <td>26.0</td>\n",
       "      <td>0</td>\n",
       "      <td>0</td>\n",
       "      <td>111369</td>\n",
       "      <td>30.0000</td>\n",
       "      <td>C148</td>\n",
       "      <td>C</td>\n",
       "    </tr>\n",
       "    <tr>\n",
       "      <th>890</th>\n",
       "      <td>891</td>\n",
       "      <td>0</td>\n",
       "      <td>3</td>\n",
       "      <td>Dooley, Mr. Patrick</td>\n",
       "      <td>male</td>\n",
       "      <td>32.0</td>\n",
       "      <td>0</td>\n",
       "      <td>0</td>\n",
       "      <td>370376</td>\n",
       "      <td>7.7500</td>\n",
       "      <td>NaN</td>\n",
       "      <td>Q</td>\n",
       "    </tr>\n",
       "  </tbody>\n",
       "</table>\n",
       "<p>891 rows × 12 columns</p>\n",
       "</div>"
      ],
      "text/plain": [
       "     PassengerId  Survived  Pclass  \\\n",
       "0              1         0       3   \n",
       "1              2         1       1   \n",
       "2              3         1       3   \n",
       "3              4         1       1   \n",
       "4              5         0       3   \n",
       "..           ...       ...     ...   \n",
       "886          887         0       2   \n",
       "887          888         1       1   \n",
       "888          889         0       3   \n",
       "889          890         1       1   \n",
       "890          891         0       3   \n",
       "\n",
       "                                                  Name     Sex  \\\n",
       "0                              Braund, Mr. Owen Harris    male   \n",
       "1    Cumings, Mrs. John Bradley (Florence Briggs Th...  female   \n",
       "2                               Heikkinen, Miss. Laina  female   \n",
       "3         Futrelle, Mrs. Jacques Heath (Lily May Peel)  female   \n",
       "4                             Allen, Mr. William Henry    male   \n",
       "..                                                 ...     ...   \n",
       "886                              Montvila, Rev. Juozas    male   \n",
       "887                       Graham, Miss. Margaret Edith  female   \n",
       "888           Johnston, Miss. Catherine Helen \"Carrie\"  female   \n",
       "889                              Behr, Mr. Karl Howell    male   \n",
       "890                                Dooley, Mr. Patrick    male   \n",
       "\n",
       "                                                   Age  SibSp  Parch  \\\n",
       "0                                                 22.0      1      0   \n",
       "1                                                 38.0      1      0   \n",
       "2                                                 26.0      0      0   \n",
       "3                                                 35.0      1      0   \n",
       "4                                                 35.0      0      0   \n",
       "..                                                 ...    ...    ...   \n",
       "886                                               27.0      0      0   \n",
       "887                                               19.0      0      0   \n",
       "888  <bound method NDFrame._add_numeric_operations....      1      2   \n",
       "889                                               26.0      0      0   \n",
       "890                                               32.0      0      0   \n",
       "\n",
       "               Ticket     Fare Cabin Embarked  \n",
       "0           A/5 21171   7.2500   NaN        S  \n",
       "1            PC 17599  71.2833   C85        C  \n",
       "2    STON/O2. 3101282   7.9250   NaN        S  \n",
       "3              113803  53.1000  C123        S  \n",
       "4              373450   8.0500   NaN        S  \n",
       "..                ...      ...   ...      ...  \n",
       "886            211536  13.0000   NaN        S  \n",
       "887            112053  30.0000   B42        S  \n",
       "888        W./C. 6607  23.4500   NaN        S  \n",
       "889            111369  30.0000  C148        C  \n",
       "890            370376   7.7500   NaN        Q  \n",
       "\n",
       "[891 rows x 12 columns]"
      ]
     },
     "execution_count": 11,
     "metadata": {},
     "output_type": "execute_result"
    }
   ],
   "source": [
    "values = {\"Age\": titanic_df['Age'].mean}\n",
    "\n",
    "titanic_df.fillna(value=values)"
   ]
  },
  {
   "cell_type": "code",
   "execution_count": 12,
   "id": "828c92d8",
   "metadata": {
    "execution": {
     "iopub.execute_input": "2022-02-19T10:30:59.035760Z",
     "iopub.status.busy": "2022-02-19T10:30:59.034973Z",
     "iopub.status.idle": "2022-02-19T10:30:59.043651Z",
     "shell.execute_reply": "2022-02-19T10:30:59.044195Z",
     "shell.execute_reply.started": "2022-02-19T10:24:43.238267Z"
    },
    "papermill": {
     "duration": 0.075588,
     "end_time": "2022-02-19T10:30:59.044382",
     "exception": false,
     "start_time": "2022-02-19T10:30:58.968794",
     "status": "completed"
    },
    "tags": []
   },
   "outputs": [
    {
     "data": {
      "text/plain": [
       "count    714.000000\n",
       "mean      29.699118\n",
       "std       14.526497\n",
       "min        0.420000\n",
       "25%       20.125000\n",
       "50%       28.000000\n",
       "75%       38.000000\n",
       "max       80.000000\n",
       "Name: Age, dtype: float64"
      ]
     },
     "execution_count": 12,
     "metadata": {},
     "output_type": "execute_result"
    }
   ],
   "source": [
    "titanic_df['Age'].describe()"
   ]
  },
  {
   "cell_type": "code",
   "execution_count": 13,
   "id": "72b5a27b",
   "metadata": {
    "execution": {
     "iopub.execute_input": "2022-02-19T10:30:59.180041Z",
     "iopub.status.busy": "2022-02-19T10:30:59.177427Z",
     "iopub.status.idle": "2022-02-19T10:30:59.556697Z",
     "shell.execute_reply": "2022-02-19T10:30:59.555288Z",
     "shell.execute_reply.started": "2022-02-19T10:24:43.249949Z"
    },
    "papermill": {
     "duration": 0.450258,
     "end_time": "2022-02-19T10:30:59.556873",
     "exception": false,
     "start_time": "2022-02-19T10:30:59.106615",
     "status": "completed"
    },
    "tags": []
   },
   "outputs": [
    {
     "data": {
      "text/plain": [
       "<AxesSubplot:>"
      ]
     },
     "execution_count": 13,
     "metadata": {},
     "output_type": "execute_result"
    },
    {
     "data": {
      "image/png": "[encoded data removed]",
      "text/plain": [
       "<Figure size 432x288 with 1 Axes>"
      ]
     },
     "metadata": {},
     "output_type": "display_data"
    }
   ],
   "source": [
    "titanic_df['Age'].hist(bins = 50)"
   ]
  },
  {
   "cell_type": "markdown",
   "id": "a37ccf39",
   "metadata": {
    "papermill": {
     "duration": 0.059186,
     "end_time": "2022-02-19T10:30:59.679416",
     "exception": false,
     "start_time": "2022-02-19T10:30:59.620230",
     "status": "completed"
    },
    "tags": []
   },
   "source": [
    "### **Going to classify age as per the countplot** ###"
   ]
  },
  {
   "cell_type": "code",
   "execution_count": 14,
   "id": "53ce0927",
   "metadata": {
    "execution": {
     "iopub.execute_input": "2022-02-19T10:30:59.811270Z",
     "iopub.status.busy": "2022-02-19T10:30:59.810517Z",
     "iopub.status.idle": "2022-02-19T10:30:59.813630Z",
     "shell.execute_reply": "2022-02-19T10:30:59.812738Z",
     "shell.execute_reply.started": "2022-02-19T10:24:43.642956Z"
    },
    "papermill": {
     "duration": 0.072053,
     "end_time": "2022-02-19T10:30:59.813834",
     "exception": false,
     "start_time": "2022-02-19T10:30:59.741781",
     "status": "completed"
    },
    "tags": []
   },
   "outputs": [],
   "source": [
    "def classiyfAge(age):  \n",
    "    if(age > 0 and age < 15):\n",
    "        return '0-15';\n",
    "    elif(age > 15 and age < 45):\n",
    "        return '15-45'\n",
    "    else:\n",
    "        return '45+'"
   ]
  },
  {
   "cell_type": "code",
   "execution_count": 15,
   "id": "56066acc",
   "metadata": {
    "execution": {
     "iopub.execute_input": "2022-02-19T10:30:59.943817Z",
     "iopub.status.busy": "2022-02-19T10:30:59.943058Z",
     "iopub.status.idle": "2022-02-19T10:30:59.944936Z",
     "shell.execute_reply": "2022-02-19T10:30:59.945596Z",
     "shell.execute_reply.started": "2022-02-19T10:24:43.650922Z"
    },
    "papermill": {
     "duration": 0.069985,
     "end_time": "2022-02-19T10:30:59.945798",
     "exception": false,
     "start_time": "2022-02-19T10:30:59.875813",
     "status": "completed"
    },
    "tags": []
   },
   "outputs": [],
   "source": [
    "titanic_df['Age'] = titanic_df['Age'].apply(lambda x: classiyfAge(x))"
   ]
  },
  {
   "cell_type": "markdown",
   "id": "0c281721",
   "metadata": {
    "papermill": {
     "duration": 0.060818,
     "end_time": "2022-02-19T10:31:00.067742",
     "exception": false,
     "start_time": "2022-02-19T10:31:00.006924",
     "status": "completed"
    },
    "tags": []
   },
   "source": [
    "#### **Let's take look at Cabin** ####"
   ]
  },
  {
   "cell_type": "markdown",
   "id": "930c8d38",
   "metadata": {
    "papermill": {
     "duration": 0.059296,
     "end_time": "2022-02-19T10:31:00.188329",
     "exception": false,
     "start_time": "2022-02-19T10:31:00.129033",
     "status": "completed"
    },
    "tags": []
   },
   "source": []
  },
  {
   "cell_type": "code",
   "execution_count": 16,
   "id": "12bcde13",
   "metadata": {
    "execution": {
     "iopub.execute_input": "2022-02-19T10:31:00.318731Z",
     "iopub.status.busy": "2022-02-19T10:31:00.318025Z",
     "iopub.status.idle": "2022-02-19T10:31:00.323003Z",
     "shell.execute_reply": "2022-02-19T10:31:00.323917Z",
     "shell.execute_reply.started": "2022-02-19T10:24:43.671125Z"
    },
    "papermill": {
     "duration": 0.074872,
     "end_time": "2022-02-19T10:31:00.324171",
     "exception": false,
     "start_time": "2022-02-19T10:31:00.249299",
     "status": "completed"
    },
    "tags": []
   },
   "outputs": [
    {
     "data": {
      "text/plain": [
       "count         204\n",
       "unique        147\n",
       "top       B96 B98\n",
       "freq            4\n",
       "Name: Cabin, dtype: object"
      ]
     },
     "execution_count": 16,
     "metadata": {},
     "output_type": "execute_result"
    }
   ],
   "source": [
    "titanic_df.Cabin.describe()"
   ]
  },
  {
   "cell_type": "code",
   "execution_count": 17,
   "id": "96cd8c93",
   "metadata": {
    "execution": {
     "iopub.execute_input": "2022-02-19T10:31:00.475255Z",
     "iopub.status.busy": "2022-02-19T10:31:00.469785Z",
     "iopub.status.idle": "2022-02-19T10:31:00.477752Z",
     "shell.execute_reply": "2022-02-19T10:31:00.478285Z",
     "shell.execute_reply.started": "2022-02-19T10:24:43.687247Z"
    },
    "papermill": {
     "duration": 0.077369,
     "end_time": "2022-02-19T10:31:00.478461",
     "exception": false,
     "start_time": "2022-02-19T10:31:00.401092",
     "status": "completed"
    },
    "tags": []
   },
   "outputs": [
    {
     "data": {
      "text/plain": [
       "B96 B98        4\n",
       "G6             4\n",
       "C23 C25 C27    4\n",
       "C22 C26        3\n",
       "F33            3\n",
       "              ..\n",
       "E34            1\n",
       "C7             1\n",
       "C54            1\n",
       "E36            1\n",
       "C148           1\n",
       "Name: Cabin, Length: 147, dtype: int64"
      ]
     },
     "execution_count": 17,
     "metadata": {},
     "output_type": "execute_result"
    }
   ],
   "source": [
    "titanic_df.Cabin.value_counts()"
   ]
  },
  {
   "cell_type": "code",
   "execution_count": 18,
   "id": "cc7974b4",
   "metadata": {
    "execution": {
     "iopub.execute_input": "2022-02-19T10:31:00.601709Z",
     "iopub.status.busy": "2022-02-19T10:31:00.600993Z",
     "iopub.status.idle": "2022-02-19T10:31:00.606601Z",
     "shell.execute_reply": "2022-02-19T10:31:00.607090Z",
     "shell.execute_reply.started": "2022-02-19T10:24:43.700662Z"
    },
    "papermill": {
     "duration": 0.070015,
     "end_time": "2022-02-19T10:31:00.607279",
     "exception": false,
     "start_time": "2022-02-19T10:31:00.537264",
     "status": "completed"
    },
    "tags": []
   },
   "outputs": [
    {
     "data": {
      "text/plain": [
       "147"
      ]
     },
     "execution_count": 18,
     "metadata": {},
     "output_type": "execute_result"
    }
   ],
   "source": [
    "titanic_df.Cabin.nunique()"
   ]
  },
  {
   "cell_type": "markdown",
   "id": "8279a9d7",
   "metadata": {
    "papermill": {
     "duration": 0.060072,
     "end_time": "2022-02-19T10:31:00.727138",
     "exception": false,
     "start_time": "2022-02-19T10:31:00.667066",
     "status": "completed"
    },
    "tags": []
   },
   "source": [
    "#### **It seems the number of unique values are 147 out 158 non null cabin values which is about 93% from the available data. Hence, need to drop this column as well** ####"
   ]
  },
  {
   "cell_type": "code",
   "execution_count": 19,
   "id": "14b0cdab",
   "metadata": {
    "execution": {
     "iopub.execute_input": "2022-02-19T10:31:00.851856Z",
     "iopub.status.busy": "2022-02-19T10:31:00.851140Z",
     "iopub.status.idle": "2022-02-19T10:31:00.854386Z",
     "shell.execute_reply": "2022-02-19T10:31:00.854900Z",
     "shell.execute_reply.started": "2022-02-19T10:24:43.711261Z"
    },
    "papermill": {
     "duration": 0.068661,
     "end_time": "2022-02-19T10:31:00.855086",
     "exception": false,
     "start_time": "2022-02-19T10:31:00.786425",
     "status": "completed"
    },
    "tags": []
   },
   "outputs": [],
   "source": [
    "#titanic_df.drop('Cabin', inplace = True, axis = 1)"
   ]
  },
  {
   "cell_type": "markdown",
   "id": "0e730dfe",
   "metadata": {
    "papermill": {
     "duration": 0.058903,
     "end_time": "2022-02-19T10:31:00.973037",
     "exception": false,
     "start_time": "2022-02-19T10:31:00.914134",
     "status": "completed"
    },
    "tags": []
   },
   "source": [
    "#### **The number of embarked rows that have null values are 2 which very low, therefore instead of dropping the whole column we just drop the empty rows** #### "
   ]
  },
  {
   "cell_type": "code",
   "execution_count": 20,
   "id": "05e3cb11",
   "metadata": {
    "execution": {
     "iopub.execute_input": "2022-02-19T10:31:01.098110Z",
     "iopub.status.busy": "2022-02-19T10:31:01.097377Z",
     "iopub.status.idle": "2022-02-19T10:31:01.118238Z",
     "shell.execute_reply": "2022-02-19T10:31:01.118722Z",
     "shell.execute_reply.started": "2022-02-19T10:24:43.729603Z"
    },
    "papermill": {
     "duration": 0.087054,
     "end_time": "2022-02-19T10:31:01.118913",
     "exception": false,
     "start_time": "2022-02-19T10:31:01.031859",
     "status": "completed"
    },
    "tags": []
   },
   "outputs": [
    {
     "data": {
      "text/html": [
       "<div>\n",
       "<style scoped>\n",
       "    .dataframe tbody tr th:only-of-type {\n",
       "        vertical-align: middle;\n",
       "    }\n",
       "\n",
       "    .dataframe tbody tr th {\n",
       "        vertical-align: top;\n",
       "    }\n",
       "\n",
       "    .dataframe thead th {\n",
       "        text-align: right;\n",
       "    }\n",
       "</style>\n",
       "<table border=\"1\" class=\"dataframe\">\n",
       "  <thead>\n",
       "    <tr style=\"text-align: right;\">\n",
       "      <th></th>\n",
       "      <th>PassengerId</th>\n",
       "      <th>Survived</th>\n",
       "      <th>Pclass</th>\n",
       "      <th>Name</th>\n",
       "      <th>Sex</th>\n",
       "      <th>Age</th>\n",
       "      <th>SibSp</th>\n",
       "      <th>Parch</th>\n",
       "      <th>Ticket</th>\n",
       "      <th>Fare</th>\n",
       "      <th>Cabin</th>\n",
       "      <th>Embarked</th>\n",
       "    </tr>\n",
       "  </thead>\n",
       "  <tbody>\n",
       "    <tr>\n",
       "      <th>1</th>\n",
       "      <td>2</td>\n",
       "      <td>1</td>\n",
       "      <td>1</td>\n",
       "      <td>Cumings, Mrs. John Bradley (Florence Briggs Th...</td>\n",
       "      <td>female</td>\n",
       "      <td>15-45</td>\n",
       "      <td>1</td>\n",
       "      <td>0</td>\n",
       "      <td>PC 17599</td>\n",
       "      <td>71.2833</td>\n",
       "      <td>C85</td>\n",
       "      <td>C</td>\n",
       "    </tr>\n",
       "    <tr>\n",
       "      <th>3</th>\n",
       "      <td>4</td>\n",
       "      <td>1</td>\n",
       "      <td>1</td>\n",
       "      <td>Futrelle, Mrs. Jacques Heath (Lily May Peel)</td>\n",
       "      <td>female</td>\n",
       "      <td>15-45</td>\n",
       "      <td>1</td>\n",
       "      <td>0</td>\n",
       "      <td>113803</td>\n",
       "      <td>53.1000</td>\n",
       "      <td>C123</td>\n",
       "      <td>S</td>\n",
       "    </tr>\n",
       "    <tr>\n",
       "      <th>6</th>\n",
       "      <td>7</td>\n",
       "      <td>0</td>\n",
       "      <td>1</td>\n",
       "      <td>McCarthy, Mr. Timothy J</td>\n",
       "      <td>male</td>\n",
       "      <td>45+</td>\n",
       "      <td>0</td>\n",
       "      <td>0</td>\n",
       "      <td>17463</td>\n",
       "      <td>51.8625</td>\n",
       "      <td>E46</td>\n",
       "      <td>S</td>\n",
       "    </tr>\n",
       "    <tr>\n",
       "      <th>10</th>\n",
       "      <td>11</td>\n",
       "      <td>1</td>\n",
       "      <td>3</td>\n",
       "      <td>Sandstrom, Miss. Marguerite Rut</td>\n",
       "      <td>female</td>\n",
       "      <td>0-15</td>\n",
       "      <td>1</td>\n",
       "      <td>1</td>\n",
       "      <td>PP 9549</td>\n",
       "      <td>16.7000</td>\n",
       "      <td>G6</td>\n",
       "      <td>S</td>\n",
       "    </tr>\n",
       "    <tr>\n",
       "      <th>11</th>\n",
       "      <td>12</td>\n",
       "      <td>1</td>\n",
       "      <td>1</td>\n",
       "      <td>Bonnell, Miss. Elizabeth</td>\n",
       "      <td>female</td>\n",
       "      <td>45+</td>\n",
       "      <td>0</td>\n",
       "      <td>0</td>\n",
       "      <td>113783</td>\n",
       "      <td>26.5500</td>\n",
       "      <td>C103</td>\n",
       "      <td>S</td>\n",
       "    </tr>\n",
       "    <tr>\n",
       "      <th>...</th>\n",
       "      <td>...</td>\n",
       "      <td>...</td>\n",
       "      <td>...</td>\n",
       "      <td>...</td>\n",
       "      <td>...</td>\n",
       "      <td>...</td>\n",
       "      <td>...</td>\n",
       "      <td>...</td>\n",
       "      <td>...</td>\n",
       "      <td>...</td>\n",
       "      <td>...</td>\n",
       "      <td>...</td>\n",
       "    </tr>\n",
       "    <tr>\n",
       "      <th>871</th>\n",
       "      <td>872</td>\n",
       "      <td>1</td>\n",
       "      <td>1</td>\n",
       "      <td>Beckwith, Mrs. Richard Leonard (Sallie Monypeny)</td>\n",
       "      <td>female</td>\n",
       "      <td>45+</td>\n",
       "      <td>1</td>\n",
       "      <td>1</td>\n",
       "      <td>11751</td>\n",
       "      <td>52.5542</td>\n",
       "      <td>D35</td>\n",
       "      <td>S</td>\n",
       "    </tr>\n",
       "    <tr>\n",
       "      <th>872</th>\n",
       "      <td>873</td>\n",
       "      <td>0</td>\n",
       "      <td>1</td>\n",
       "      <td>Carlsson, Mr. Frans Olof</td>\n",
       "      <td>male</td>\n",
       "      <td>15-45</td>\n",
       "      <td>0</td>\n",
       "      <td>0</td>\n",
       "      <td>695</td>\n",
       "      <td>5.0000</td>\n",
       "      <td>B51 B53 B55</td>\n",
       "      <td>S</td>\n",
       "    </tr>\n",
       "    <tr>\n",
       "      <th>879</th>\n",
       "      <td>880</td>\n",
       "      <td>1</td>\n",
       "      <td>1</td>\n",
       "      <td>Potter, Mrs. Thomas Jr (Lily Alexenia Wilson)</td>\n",
       "      <td>female</td>\n",
       "      <td>45+</td>\n",
       "      <td>0</td>\n",
       "      <td>1</td>\n",
       "      <td>11767</td>\n",
       "      <td>83.1583</td>\n",
       "      <td>C50</td>\n",
       "      <td>C</td>\n",
       "    </tr>\n",
       "    <tr>\n",
       "      <th>887</th>\n",
       "      <td>888</td>\n",
       "      <td>1</td>\n",
       "      <td>1</td>\n",
       "      <td>Graham, Miss. Margaret Edith</td>\n",
       "      <td>female</td>\n",
       "      <td>15-45</td>\n",
       "      <td>0</td>\n",
       "      <td>0</td>\n",
       "      <td>112053</td>\n",
       "      <td>30.0000</td>\n",
       "      <td>B42</td>\n",
       "      <td>S</td>\n",
       "    </tr>\n",
       "    <tr>\n",
       "      <th>889</th>\n",
       "      <td>890</td>\n",
       "      <td>1</td>\n",
       "      <td>1</td>\n",
       "      <td>Behr, Mr. Karl Howell</td>\n",
       "      <td>male</td>\n",
       "      <td>15-45</td>\n",
       "      <td>0</td>\n",
       "      <td>0</td>\n",
       "      <td>111369</td>\n",
       "      <td>30.0000</td>\n",
       "      <td>C148</td>\n",
       "      <td>C</td>\n",
       "    </tr>\n",
       "  </tbody>\n",
       "</table>\n",
       "<p>202 rows × 12 columns</p>\n",
       "</div>"
      ],
      "text/plain": [
       "     PassengerId  Survived  Pclass  \\\n",
       "1              2         1       1   \n",
       "3              4         1       1   \n",
       "6              7         0       1   \n",
       "10            11         1       3   \n",
       "11            12         1       1   \n",
       "..           ...       ...     ...   \n",
       "871          872         1       1   \n",
       "872          873         0       1   \n",
       "879          880         1       1   \n",
       "887          888         1       1   \n",
       "889          890         1       1   \n",
       "\n",
       "                                                  Name     Sex    Age  SibSp  \\\n",
       "1    Cumings, Mrs. John Bradley (Florence Briggs Th...  female  15-45      1   \n",
       "3         Futrelle, Mrs. Jacques Heath (Lily May Peel)  female  15-45      1   \n",
       "6                              McCarthy, Mr. Timothy J    male    45+      0   \n",
       "10                     Sandstrom, Miss. Marguerite Rut  female   0-15      1   \n",
       "11                            Bonnell, Miss. Elizabeth  female    45+      0   \n",
       "..                                                 ...     ...    ...    ...   \n",
       "871   Beckwith, Mrs. Richard Leonard (Sallie Monypeny)  female    45+      1   \n",
       "872                           Carlsson, Mr. Frans Olof    male  15-45      0   \n",
       "879      Potter, Mrs. Thomas Jr (Lily Alexenia Wilson)  female    45+      0   \n",
       "887                       Graham, Miss. Margaret Edith  female  15-45      0   \n",
       "889                              Behr, Mr. Karl Howell    male  15-45      0   \n",
       "\n",
       "     Parch    Ticket     Fare        Cabin Embarked  \n",
       "1        0  PC 17599  71.2833          C85        C  \n",
       "3        0    113803  53.1000         C123        S  \n",
       "6        0     17463  51.8625          E46        S  \n",
       "10       1   PP 9549  16.7000           G6        S  \n",
       "11       0    113783  26.5500         C103        S  \n",
       "..     ...       ...      ...          ...      ...  \n",
       "871      1     11751  52.5542          D35        S  \n",
       "872      0       695   5.0000  B51 B53 B55        S  \n",
       "879      1     11767  83.1583          C50        C  \n",
       "887      0    112053  30.0000          B42        S  \n",
       "889      0    111369  30.0000         C148        C  \n",
       "\n",
       "[202 rows x 12 columns]"
      ]
     },
     "execution_count": 20,
     "metadata": {},
     "output_type": "execute_result"
    }
   ],
   "source": [
    "titanic_df.dropna()"
   ]
  },
  {
   "cell_type": "markdown",
   "id": "229d542e",
   "metadata": {
    "papermill": {
     "duration": 0.061579,
     "end_time": "2022-02-19T10:31:01.242036",
     "exception": false,
     "start_time": "2022-02-19T10:31:01.180457",
     "status": "completed"
    },
    "tags": []
   },
   "source": [
    "### **Lets take a look at fare** ###"
   ]
  },
  {
   "cell_type": "code",
   "execution_count": 21,
   "id": "f6df7b61",
   "metadata": {
    "execution": {
     "iopub.execute_input": "2022-02-19T10:31:01.369716Z",
     "iopub.status.busy": "2022-02-19T10:31:01.367445Z",
     "iopub.status.idle": "2022-02-19T10:31:01.538472Z",
     "shell.execute_reply": "2022-02-19T10:31:01.539078Z",
     "shell.execute_reply.started": "2022-02-19T10:24:43.766673Z"
    },
    "papermill": {
     "duration": 0.237265,
     "end_time": "2022-02-19T10:31:01.539268",
     "exception": false,
     "start_time": "2022-02-19T10:31:01.302003",
     "status": "completed"
    },
    "tags": []
   },
   "outputs": [
    {
     "data": {
      "text/plain": [
       "<AxesSubplot:xlabel='Survived', ylabel='Fare'>"
      ]
     },
     "execution_count": 21,
     "metadata": {},
     "output_type": "execute_result"
    },
    {
     "data": {
      "image/png": "[encoded data removed]",
      "text/plain": [
       "<Figure size 432x288 with 1 Axes>"
      ]
     },
     "metadata": {},
     "output_type": "display_data"
    }
   ],
   "source": [
    "sns.boxplot(y = 'Fare' , x = 'Survived' , data = titanic_df)"
   ]
  },
  {
   "cell_type": "code",
   "execution_count": 22,
   "id": "859d8e22",
   "metadata": {
    "execution": {
     "iopub.execute_input": "2022-02-19T10:31:01.673966Z",
     "iopub.status.busy": "2022-02-19T10:31:01.672986Z",
     "iopub.status.idle": "2022-02-19T10:31:10.771210Z",
     "shell.execute_reply": "2022-02-19T10:31:10.770685Z",
     "shell.execute_reply.started": "2022-02-19T10:24:43.981331Z"
    },
    "papermill": {
     "duration": 9.165369,
     "end_time": "2022-02-19T10:31:10.771364",
     "exception": false,
     "start_time": "2022-02-19T10:31:01.605995",
     "status": "completed"
    },
    "tags": []
   },
   "outputs": [
    {
     "data": {
      "text/plain": [
       "<AxesSubplot:xlabel='Fare', ylabel='count'>"
      ]
     },
     "execution_count": 22,
     "metadata": {},
     "output_type": "execute_result"
    },
    {
     "data": {
      "image/png": "[encoded data removed]",
      "text/plain": [
       "<Figure size 14400x720 with 1 Axes>"
      ]
     },
     "metadata": {},
     "output_type": "display_data"
    }
   ],
   "source": [
    "plt.figure(figsize = (200,10))\n",
    "sns.countplot(x='Fare',hue = 'Survived',data = titanic_df)"
   ]
  },
  {
   "cell_type": "markdown",
   "id": "a4aeaaf6",
   "metadata": {
    "papermill": {
     "duration": 0.063908,
     "end_time": "2022-02-19T10:31:10.899777",
     "exception": false,
     "start_time": "2022-02-19T10:31:10.835869",
     "status": "completed"
    },
    "tags": []
   },
   "source": [
    "### **Going to classify fare as per the countplot** ###"
   ]
  },
  {
   "cell_type": "code",
   "execution_count": 23,
   "id": "a9391604",
   "metadata": {
    "execution": {
     "iopub.execute_input": "2022-02-19T10:31:11.034687Z",
     "iopub.status.busy": "2022-02-19T10:31:11.033987Z",
     "iopub.status.idle": "2022-02-19T10:31:11.036437Z",
     "shell.execute_reply": "2022-02-19T10:31:11.035890Z",
     "shell.execute_reply.started": "2022-02-19T10:24:53.454058Z"
    },
    "papermill": {
     "duration": 0.073406,
     "end_time": "2022-02-19T10:31:11.036599",
     "exception": false,
     "start_time": "2022-02-19T10:31:10.963193",
     "status": "completed"
    },
    "tags": []
   },
   "outputs": [],
   "source": [
    "def classifyFare(Fare):\n",
    "    \n",
    "     if(Fare>30 and Fare <50):\n",
    "        return 'Medium Fare';\n",
    "     elif(Fare > 50):\n",
    "        return 'High Fare';\n",
    "     else:\n",
    "        return 'Low Fare';"
   ]
  },
  {
   "cell_type": "code",
   "execution_count": 24,
   "id": "8ec2fd52",
   "metadata": {
    "execution": {
     "iopub.execute_input": "2022-02-19T10:31:11.172865Z",
     "iopub.status.busy": "2022-02-19T10:31:11.172166Z",
     "iopub.status.idle": "2022-02-19T10:31:11.174985Z",
     "shell.execute_reply": "2022-02-19T10:31:11.175453Z",
     "shell.execute_reply.started": "2022-02-19T10:24:53.461589Z"
    },
    "papermill": {
     "duration": 0.074354,
     "end_time": "2022-02-19T10:31:11.175656",
     "exception": false,
     "start_time": "2022-02-19T10:31:11.101302",
     "status": "completed"
    },
    "tags": []
   },
   "outputs": [],
   "source": [
    "titanic_df['Fare'] = titanic_df['Fare'].apply(lambda x : classifyFare(x))"
   ]
  },
  {
   "cell_type": "markdown",
   "id": "748a8d80",
   "metadata": {
    "papermill": {
     "duration": 0.064967,
     "end_time": "2022-02-19T10:31:11.310974",
     "exception": false,
     "start_time": "2022-02-19T10:31:11.246007",
     "status": "completed"
    },
    "tags": []
   },
   "source": []
  },
  {
   "cell_type": "markdown",
   "id": "b6612774",
   "metadata": {
    "papermill": {
     "duration": 0.080666,
     "end_time": "2022-02-19T10:31:11.481428",
     "exception": false,
     "start_time": "2022-02-19T10:31:11.400762",
     "status": "completed"
    },
    "tags": []
   },
   "source": [
    "#### **It seems the fare is slightly co-related but we may get some patterns on that** ####"
   ]
  },
  {
   "cell_type": "code",
   "execution_count": 25,
   "id": "f8ac7e3b",
   "metadata": {
    "execution": {
     "iopub.execute_input": "2022-02-19T10:31:11.628034Z",
     "iopub.status.busy": "2022-02-19T10:31:11.627050Z",
     "iopub.status.idle": "2022-02-19T10:31:11.898588Z",
     "shell.execute_reply": "2022-02-19T10:31:11.898006Z",
     "shell.execute_reply.started": "2022-02-19T10:24:53.482354Z"
    },
    "papermill": {
     "duration": 0.349167,
     "end_time": "2022-02-19T10:31:11.898782",
     "exception": false,
     "start_time": "2022-02-19T10:31:11.549615",
     "status": "completed"
    },
    "tags": []
   },
   "outputs": [
    {
     "data": {
      "text/plain": [
       "<AxesSubplot:xlabel='Embarked', ylabel='count'>"
      ]
     },
     "execution_count": 25,
     "metadata": {},
     "output_type": "execute_result"
    },
    {
     "data": {
      "image/png": "[encoded data removed]",
      "text/plain": [
       "<Figure size 432x288 with 1 Axes>"
      ]
     },
     "metadata": {},
     "output_type": "display_data"
    }
   ],
   "source": [
    "sns.countplot(x = 'Embarked', hue = 'Survived' , data = titanic_df)"
   ]
  },
  {
   "cell_type": "markdown",
   "id": "3cb073b8",
   "metadata": {
    "papermill": {
     "duration": 0.070149,
     "end_time": "2022-02-19T10:31:12.041836",
     "exception": false,
     "start_time": "2022-02-19T10:31:11.971687",
     "status": "completed"
    },
    "tags": []
   },
   "source": [
    "### **Checking out various other features** ###"
   ]
  },
  {
   "cell_type": "code",
   "execution_count": 26,
   "id": "b623ebc1",
   "metadata": {
    "execution": {
     "iopub.execute_input": "2022-02-19T10:31:12.186447Z",
     "iopub.status.busy": "2022-02-19T10:31:12.185667Z",
     "iopub.status.idle": "2022-02-19T10:31:12.526255Z",
     "shell.execute_reply": "2022-02-19T10:31:12.526863Z",
     "shell.execute_reply.started": "2022-02-19T10:24:53.753879Z"
    },
    "papermill": {
     "duration": 0.416367,
     "end_time": "2022-02-19T10:31:12.527051",
     "exception": false,
     "start_time": "2022-02-19T10:31:12.110684",
     "status": "completed"
    },
    "tags": []
   },
   "outputs": [
    {
     "data": {
      "text/plain": [
       "<AxesSubplot:xlabel='SibSp', ylabel='count'>"
      ]
     },
     "execution_count": 26,
     "metadata": {},
     "output_type": "execute_result"
    },
    {
     "data": {
      "image/png": "[encoded data removed]",
      "text/plain": [
       "<Figure size 432x288 with 1 Axes>"
      ]
     },
     "metadata": {},
     "output_type": "display_data"
    }
   ],
   "source": [
    "sns.countplot(x = 'SibSp', hue = 'Survived' , data = titanic_df)"
   ]
  },
  {
   "cell_type": "code",
   "execution_count": 27,
   "id": "02b5ef7b",
   "metadata": {
    "execution": {
     "iopub.execute_input": "2022-02-19T10:31:12.677143Z",
     "iopub.status.busy": "2022-02-19T10:31:12.675542Z",
     "iopub.status.idle": "2022-02-19T10:31:12.928968Z",
     "shell.execute_reply": "2022-02-19T10:31:12.929577Z",
     "shell.execute_reply.started": "2022-02-19T10:24:54.091611Z"
    },
    "papermill": {
     "duration": 0.330369,
     "end_time": "2022-02-19T10:31:12.929788",
     "exception": false,
     "start_time": "2022-02-19T10:31:12.599419",
     "status": "completed"
    },
    "tags": []
   },
   "outputs": [
    {
     "data": {
      "text/plain": [
       "<AxesSubplot:xlabel='Pclass', ylabel='count'>"
      ]
     },
     "execution_count": 27,
     "metadata": {},
     "output_type": "execute_result"
    },
    {
     "data": {
      "image/png": "[encoded data removed]",
      "text/plain": [
       "<Figure size 432x288 with 1 Axes>"
      ]
     },
     "metadata": {},
     "output_type": "display_data"
    }
   ],
   "source": [
    "sns.countplot(x = 'Pclass', hue = 'Survived' , data = titanic_df)"
   ]
  },
  {
   "cell_type": "code",
   "execution_count": 28,
   "id": "c01bde41",
   "metadata": {
    "execution": {
     "iopub.execute_input": "2022-02-19T10:31:13.077261Z",
     "iopub.status.busy": "2022-02-19T10:31:13.076564Z",
     "iopub.status.idle": "2022-02-19T10:31:13.397095Z",
     "shell.execute_reply": "2022-02-19T10:31:13.396316Z",
     "shell.execute_reply.started": "2022-02-19T10:24:54.351681Z"
    },
    "papermill": {
     "duration": 0.395688,
     "end_time": "2022-02-19T10:31:13.397262",
     "exception": false,
     "start_time": "2022-02-19T10:31:13.001574",
     "status": "completed"
    },
    "tags": []
   },
   "outputs": [
    {
     "data": {
      "text/plain": [
       "<AxesSubplot:xlabel='Parch', ylabel='count'>"
      ]
     },
     "execution_count": 28,
     "metadata": {},
     "output_type": "execute_result"
    },
    {
     "data": {
      "image/png": "[encoded data removed]",
      "text/plain": [
       "<Figure size 432x288 with 1 Axes>"
      ]
     },
     "metadata": {},
     "output_type": "display_data"
    }
   ],
   "source": [
    "sns.countplot(x = 'Parch', hue = 'Survived' , data = titanic_df)"
   ]
  },
  {
   "cell_type": "code",
   "execution_count": 29,
   "id": "e3a4d063",
   "metadata": {
    "execution": {
     "iopub.execute_input": "2022-02-19T10:31:13.551596Z",
     "iopub.status.busy": "2022-02-19T10:31:13.550870Z",
     "iopub.status.idle": "2022-02-19T10:31:13.773704Z",
     "shell.execute_reply": "2022-02-19T10:31:13.774330Z",
     "shell.execute_reply.started": "2022-02-19T10:24:54.676049Z"
    },
    "papermill": {
     "duration": 0.301293,
     "end_time": "2022-02-19T10:31:13.774553",
     "exception": false,
     "start_time": "2022-02-19T10:31:13.473260",
     "status": "completed"
    },
    "tags": []
   },
   "outputs": [
    {
     "data": {
      "text/plain": [
       "<AxesSubplot:xlabel='Sex', ylabel='count'>"
      ]
     },
     "execution_count": 29,
     "metadata": {},
     "output_type": "execute_result"
    },
    {
     "data": {
      "image/png": "[encoded data removed]",
      "text/plain": [
       "<Figure size 432x288 with 1 Axes>"
      ]
     },
     "metadata": {},
     "output_type": "display_data"
    }
   ],
   "source": [
    "sns.countplot(x = 'Sex', hue = 'Survived' , data = titanic_df)"
   ]
  },
  {
   "cell_type": "markdown",
   "id": "e6946a26",
   "metadata": {
    "papermill": {
     "duration": 0.075797,
     "end_time": "2022-02-19T10:31:13.926382",
     "exception": false,
     "start_time": "2022-02-19T10:31:13.850585",
     "status": "completed"
    },
    "tags": []
   },
   "source": [
    "#### **The above features seems to have co-relation so we should be including it** ####"
   ]
  },
  {
   "cell_type": "code",
   "execution_count": 30,
   "id": "97d2f32f",
   "metadata": {
    "execution": {
     "iopub.execute_input": "2022-02-19T10:31:14.089114Z",
     "iopub.status.busy": "2022-02-19T10:31:14.088346Z",
     "iopub.status.idle": "2022-02-19T10:31:14.105335Z",
     "shell.execute_reply": "2022-02-19T10:31:14.106044Z",
     "shell.execute_reply.started": "2022-02-19T10:24:54.912530Z"
    },
    "papermill": {
     "duration": 0.104946,
     "end_time": "2022-02-19T10:31:14.106240",
     "exception": false,
     "start_time": "2022-02-19T10:31:14.001294",
     "status": "completed"
    },
    "tags": []
   },
   "outputs": [
    {
     "name": "stdout",
     "output_type": "stream",
     "text": [
      "<class 'pandas.core.frame.DataFrame'>\n",
      "RangeIndex: 891 entries, 0 to 890\n",
      "Data columns (total 12 columns):\n",
      " #   Column       Non-Null Count  Dtype \n",
      "---  ------       --------------  ----- \n",
      " 0   PassengerId  891 non-null    int64 \n",
      " 1   Survived     891 non-null    int64 \n",
      " 2   Pclass       891 non-null    int64 \n",
      " 3   Name         891 non-null    object\n",
      " 4   Sex          891 non-null    object\n",
      " 5   Age          891 non-null    object\n",
      " 6   SibSp        891 non-null    int64 \n",
      " 7   Parch        891 non-null    int64 \n",
      " 8   Ticket       891 non-null    object\n",
      " 9   Fare         891 non-null    object\n",
      " 10  Cabin        204 non-null    object\n",
      " 11  Embarked     889 non-null    object\n",
      "dtypes: int64(5), object(7)\n",
      "memory usage: 83.7+ KB\n"
     ]
    }
   ],
   "source": [
    "titanic_df.info()"
   ]
  },
  {
   "cell_type": "markdown",
   "id": "86ef276e",
   "metadata": {
    "papermill": {
     "duration": 0.074446,
     "end_time": "2022-02-19T10:31:14.260626",
     "exception": false,
     "start_time": "2022-02-19T10:31:14.186180",
     "status": "completed"
    },
    "tags": []
   },
   "source": [
    "#### **The ticket feature has majority unique values and it is string value,hence we need to drop this column** ####"
   ]
  },
  {
   "cell_type": "code",
   "execution_count": 31,
   "id": "02bb33d1",
   "metadata": {
    "execution": {
     "iopub.execute_input": "2022-02-19T10:31:14.414228Z",
     "iopub.status.busy": "2022-02-19T10:31:14.413440Z",
     "iopub.status.idle": "2022-02-19T10:31:14.419661Z",
     "shell.execute_reply": "2022-02-19T10:31:14.420257Z",
     "shell.execute_reply.started": "2022-02-19T10:24:54.930862Z"
    },
    "papermill": {
     "duration": 0.086072,
     "end_time": "2022-02-19T10:31:14.420479",
     "exception": false,
     "start_time": "2022-02-19T10:31:14.334407",
     "status": "completed"
    },
    "tags": []
   },
   "outputs": [],
   "source": [
    "titanic_df.drop('Ticket', inplace = True, axis =1)"
   ]
  },
  {
   "cell_type": "markdown",
   "id": "d08bb2b5",
   "metadata": {
    "papermill": {
     "duration": 0.07348,
     "end_time": "2022-02-19T10:31:14.572225",
     "exception": false,
     "start_time": "2022-02-19T10:31:14.498745",
     "status": "completed"
    },
    "tags": []
   },
   "source": [
    "#### **The passengerId and Name are use for identification thus I am removing the columns** ####"
   ]
  },
  {
   "cell_type": "code",
   "execution_count": 32,
   "id": "c967b9cf",
   "metadata": {
    "execution": {
     "iopub.execute_input": "2022-02-19T10:31:14.723281Z",
     "iopub.status.busy": "2022-02-19T10:31:14.719415Z",
     "iopub.status.idle": "2022-02-19T10:31:14.724975Z",
     "shell.execute_reply": "2022-02-19T10:31:14.725679Z",
     "shell.execute_reply.started": "2022-02-19T10:24:54.946412Z"
    },
    "papermill": {
     "duration": 0.080812,
     "end_time": "2022-02-19T10:31:14.725870",
     "exception": false,
     "start_time": "2022-02-19T10:31:14.645058",
     "status": "completed"
    },
    "tags": []
   },
   "outputs": [],
   "source": [
    "titanic_df.drop(['PassengerId', 'Name'] , inplace = True, axis =1)"
   ]
  },
  {
   "cell_type": "markdown",
   "id": "3067247c",
   "metadata": {
    "papermill": {
     "duration": 0.070411,
     "end_time": "2022-02-19T10:31:14.869255",
     "exception": false,
     "start_time": "2022-02-19T10:31:14.798844",
     "status": "completed"
    },
    "tags": []
   },
   "source": [
    "# Modeling"
   ]
  },
  {
   "cell_type": "markdown",
   "id": "10c255cb",
   "metadata": {
    "papermill": {
     "duration": 0.070049,
     "end_time": "2022-02-19T10:31:15.010364",
     "exception": false,
     "start_time": "2022-02-19T10:31:14.940315",
     "status": "completed"
    },
    "tags": []
   },
   "source": [
    "#### **I will use various models to predtict the outcome(each model will have seprate file)** ####"
   ]
  },
  {
   "cell_type": "code",
   "execution_count": 33,
   "id": "ec9d8890",
   "metadata": {
    "execution": {
     "iopub.execute_input": "2022-02-19T10:31:15.157998Z",
     "iopub.status.busy": "2022-02-19T10:31:15.157330Z",
     "iopub.status.idle": "2022-02-19T10:31:15.497909Z",
     "shell.execute_reply": "2022-02-19T10:31:15.497240Z",
     "shell.execute_reply.started": "2022-02-19T10:24:54.964702Z"
    },
    "papermill": {
     "duration": 0.41592,
     "end_time": "2022-02-19T10:31:15.498056",
     "exception": false,
     "start_time": "2022-02-19T10:31:15.082136",
     "status": "completed"
    },
    "tags": []
   },
   "outputs": [],
   "source": [
    "from sklearn.model_selection import train_test_split"
   ]
  },
  {
   "cell_type": "code",
   "execution_count": 34,
   "id": "980d42fa",
   "metadata": {
    "execution": {
     "iopub.execute_input": "2022-02-19T10:31:15.650883Z",
     "iopub.status.busy": "2022-02-19T10:31:15.650181Z",
     "iopub.status.idle": "2022-02-19T10:31:15.657640Z",
     "shell.execute_reply": "2022-02-19T10:31:15.657066Z",
     "shell.execute_reply.started": "2022-02-19T10:24:54.980844Z"
    },
    "papermill": {
     "duration": 0.089005,
     "end_time": "2022-02-19T10:31:15.657797",
     "exception": false,
     "start_time": "2022-02-19T10:31:15.568792",
     "status": "completed"
    },
    "tags": []
   },
   "outputs": [],
   "source": [
    "#test_data = pd.read_csv(\"/kaggle/input/titanic/test.csv\")\n",
    "#test_data.dropna()\n",
    "\n",
    "\n",
    "features = [\"Pclass\", \"Sex\", \"SibSp\", \"Parch\", \"Embarked\", \"Age\",\"Fare\"]\n",
    "#X = pd.get_dummies(titanic_df[features])\n",
    "#X_test = pd.get_dummies(test_data[features])\n",
    "\n",
    "X = pd.get_dummies(titanic_df[features],drop_first= True)\n",
    "y = titanic_df[\"Survived\"]"
   ]
  },
  {
   "cell_type": "code",
   "execution_count": 35,
   "id": "627cbd5f",
   "metadata": {
    "execution": {
     "iopub.execute_input": "2022-02-19T10:31:15.805009Z",
     "iopub.status.busy": "2022-02-19T10:31:15.804171Z",
     "iopub.status.idle": "2022-02-19T10:31:15.808533Z",
     "shell.execute_reply": "2022-02-19T10:31:15.809025Z",
     "shell.execute_reply.started": "2022-02-19T10:24:55.002117Z"
    },
    "papermill": {
     "duration": 0.079523,
     "end_time": "2022-02-19T10:31:15.809212",
     "exception": false,
     "start_time": "2022-02-19T10:31:15.729689",
     "status": "completed"
    },
    "tags": []
   },
   "outputs": [],
   "source": [
    "X_train, X_test, y_train, y_test = train_test_split(X, y, test_size=0.3, random_state=42)"
   ]
  },
  {
   "cell_type": "code",
   "execution_count": 36,
   "id": "dad3a981",
   "metadata": {
    "execution": {
     "iopub.execute_input": "2022-02-19T10:31:15.959352Z",
     "iopub.status.busy": "2022-02-19T10:31:15.958649Z",
     "iopub.status.idle": "2022-02-19T10:31:16.123841Z",
     "shell.execute_reply": "2022-02-19T10:31:16.123116Z",
     "shell.execute_reply.started": "2022-02-19T10:24:55.017697Z"
    },
    "papermill": {
     "duration": 0.241626,
     "end_time": "2022-02-19T10:31:16.124043",
     "exception": false,
     "start_time": "2022-02-19T10:31:15.882417",
     "status": "completed"
    },
    "tags": []
   },
   "outputs": [],
   "source": [
    "from sklearn.linear_model import LogisticRegression\n",
    "from sklearn.neighbors import NearestCentroid\n",
    "from sklearn.svm import SVC"
   ]
  },
  {
   "cell_type": "code",
   "execution_count": 37,
   "id": "d34eb762",
   "metadata": {
    "execution": {
     "iopub.execute_input": "2022-02-19T10:31:16.273948Z",
     "iopub.status.busy": "2022-02-19T10:31:16.272953Z",
     "iopub.status.idle": "2022-02-19T10:31:16.277732Z",
     "shell.execute_reply": "2022-02-19T10:31:16.278220Z",
     "shell.execute_reply.started": "2022-02-19T10:24:55.030592Z"
    },
    "papermill": {
     "duration": 0.081064,
     "end_time": "2022-02-19T10:31:16.278400",
     "exception": false,
     "start_time": "2022-02-19T10:31:16.197336",
     "status": "completed"
    },
    "tags": []
   },
   "outputs": [],
   "source": [
    "estimators = [('LC',LogisticRegression()),\n",
    "...               ('NC', NearestCentroid()),\n",
    "...               ('SVC', SVC(kernel='rbf',probability=True))]"
   ]
  },
  {
   "cell_type": "code",
   "execution_count": 38,
   "id": "05f56c08",
   "metadata": {
    "execution": {
     "iopub.execute_input": "2022-02-19T10:31:16.421880Z",
     "iopub.status.busy": "2022-02-19T10:31:16.420903Z",
     "iopub.status.idle": "2022-02-19T10:31:16.482665Z",
     "shell.execute_reply": "2022-02-19T10:31:16.481405Z",
     "shell.execute_reply.started": "2022-02-19T10:24:55.046300Z"
    },
    "papermill": {
     "duration": 0.134765,
     "end_time": "2022-02-19T10:31:16.482850",
     "exception": false,
     "start_time": "2022-02-19T10:31:16.348085",
     "status": "completed"
    },
    "tags": []
   },
   "outputs": [],
   "source": [
    "from sklearn.ensemble import StackingClassifier"
   ]
  },
  {
   "cell_type": "code",
   "execution_count": 39,
   "id": "1798b7a2",
   "metadata": {
    "execution": {
     "iopub.execute_input": "2022-02-19T10:31:16.628194Z",
     "iopub.status.busy": "2022-02-19T10:31:16.627168Z",
     "iopub.status.idle": "2022-02-19T10:31:16.629778Z",
     "shell.execute_reply": "2022-02-19T10:31:16.629108Z",
     "shell.execute_reply.started": "2022-02-19T10:24:55.061366Z"
    },
    "papermill": {
     "duration": 0.077069,
     "end_time": "2022-02-19T10:31:16.629923",
     "exception": false,
     "start_time": "2022-02-19T10:31:16.552854",
     "status": "completed"
    },
    "tags": []
   },
   "outputs": [],
   "source": [
    "final_estimator = LogisticRegression()\n",
    "model = StackingClassifier(estimators=estimators, final_estimator=final_estimator)"
   ]
  },
  {
   "cell_type": "code",
   "execution_count": 40,
   "id": "ac7a2fd5",
   "metadata": {
    "execution": {
     "iopub.execute_input": "2022-02-19T10:31:16.776129Z",
     "iopub.status.busy": "2022-02-19T10:31:16.775379Z",
     "iopub.status.idle": "2022-02-19T10:31:17.111462Z",
     "shell.execute_reply": "2022-02-19T10:31:17.112017Z",
     "shell.execute_reply.started": "2022-02-19T10:24:55.077521Z"
    },
    "papermill": {
     "duration": 0.411451,
     "end_time": "2022-02-19T10:31:17.112216",
     "exception": false,
     "start_time": "2022-02-19T10:31:16.700765",
     "status": "completed"
    },
    "tags": []
   },
   "outputs": [],
   "source": [
    "model = model.fit(X_train, y_train)"
   ]
  },
  {
   "cell_type": "code",
   "execution_count": 41,
   "id": "b41809ad",
   "metadata": {
    "execution": {
     "iopub.execute_input": "2022-02-19T10:31:17.254415Z",
     "iopub.status.busy": "2022-02-19T10:31:17.253410Z",
     "iopub.status.idle": "2022-02-19T10:31:17.595611Z",
     "shell.execute_reply": "2022-02-19T10:31:17.596245Z",
     "shell.execute_reply.started": "2022-02-19T10:24:55.426548Z"
    },
    "papermill": {
     "duration": 0.414594,
     "end_time": "2022-02-19T10:31:17.596429",
     "exception": false,
     "start_time": "2022-02-19T10:31:17.181835",
     "status": "completed"
    },
    "tags": []
   },
   "outputs": [
    {
     "data": {
      "text/plain": [
       "StackingClassifier(estimators=[('LC', LogisticRegression()),\n",
       "                               ('NC', NearestCentroid()),\n",
       "                               ('SVC', SVC(probability=True))],\n",
       "                   final_estimator=LogisticRegression())"
      ]
     },
     "execution_count": 41,
     "metadata": {},
     "output_type": "execute_result"
    }
   ],
   "source": [
    "model.fit(X_train, y_train)"
   ]
  },
  {
   "cell_type": "code",
   "execution_count": 42,
   "id": "8f2ae8c4",
   "metadata": {
    "execution": {
     "iopub.execute_input": "2022-02-19T10:31:17.743561Z",
     "iopub.status.busy": "2022-02-19T10:31:17.742592Z",
     "iopub.status.idle": "2022-02-19T10:31:17.754447Z",
     "shell.execute_reply": "2022-02-19T10:31:17.755022Z",
     "shell.execute_reply.started": "2022-02-19T10:24:55.783373Z"
    },
    "papermill": {
     "duration": 0.08681,
     "end_time": "2022-02-19T10:31:17.755200",
     "exception": false,
     "start_time": "2022-02-19T10:31:17.668390",
     "status": "completed"
    },
    "tags": []
   },
   "outputs": [],
   "source": [
    "y_pred = model.predict(X_test)"
   ]
  },
  {
   "cell_type": "code",
   "execution_count": 43,
   "id": "3bbb1def",
   "metadata": {
    "execution": {
     "iopub.execute_input": "2022-02-19T10:31:17.901300Z",
     "iopub.status.busy": "2022-02-19T10:31:17.900226Z",
     "iopub.status.idle": "2022-02-19T10:31:17.902239Z",
     "shell.execute_reply": "2022-02-19T10:31:17.902849Z",
     "shell.execute_reply.started": "2022-02-19T10:24:55.799696Z"
    },
    "papermill": {
     "duration": 0.078154,
     "end_time": "2022-02-19T10:31:17.903025",
     "exception": false,
     "start_time": "2022-02-19T10:31:17.824871",
     "status": "completed"
    },
    "tags": []
   },
   "outputs": [],
   "source": [
    "from sklearn.metrics import confusion_matrix,classification_report"
   ]
  },
  {
   "cell_type": "code",
   "execution_count": 44,
   "id": "27dff086",
   "metadata": {
    "execution": {
     "iopub.execute_input": "2022-02-19T10:31:18.051320Z",
     "iopub.status.busy": "2022-02-19T10:31:18.050254Z",
     "iopub.status.idle": "2022-02-19T10:31:18.322643Z",
     "shell.execute_reply": "2022-02-19T10:31:18.323157Z",
     "shell.execute_reply.started": "2022-02-19T10:24:55.806448Z"
    },
    "papermill": {
     "duration": 0.350709,
     "end_time": "2022-02-19T10:31:18.323332",
     "exception": false,
     "start_time": "2022-02-19T10:31:17.972623",
     "status": "completed"
    },
    "tags": []
   },
   "outputs": [
    {
     "name": "stdout",
     "output_type": "stream",
     "text": [
      "[[141  16]\n",
      " [ 32  79]]\n",
      "\n",
      "\n",
      "              precision    recall  f1-score   support\n",
      "\n",
      "           0       0.82      0.90      0.85       157\n",
      "           1       0.83      0.71      0.77       111\n",
      "\n",
      "    accuracy                           0.82       268\n",
      "   macro avg       0.82      0.80      0.81       268\n",
      "weighted avg       0.82      0.82      0.82       268\n",
      "\n"
     ]
    },
    {
     "data": {
      "text/plain": [
       "<AxesSubplot:>"
      ]
     },
     "execution_count": 44,
     "metadata": {},
     "output_type": "execute_result"
    },
    {
     "data": {
      "image/png": "[encoded data removed]",
      "text/plain": [
       "<Figure size 432x288 with 2 Axes>"
      ]
     },
     "metadata": {},
     "output_type": "display_data"
    }
   ],
   "source": [
    "print(confusion_matrix(y_test, y_pred))\n",
    "print('\\n')\n",
    "print(classification_report(y_test, y_pred))\n",
    "\n",
    "cm = confusion_matrix(y_test, y_pred)\n",
    "cm_matrix = pd.DataFrame(data=cm, columns=['Actual Positive:1', 'Actual Negative:0'], \n",
    "                                 index=['Predict Positive:1', 'Predict Negative:0'])\n",
    "\n",
    "sns.heatmap(cm_matrix, annot=True, fmt='d', cmap='YlGnBu')"
   ]
  },
  {
   "cell_type": "code",
   "execution_count": 45,
   "id": "e2496cc5",
   "metadata": {
    "execution": {
     "iopub.execute_input": "2022-02-19T10:31:18.473012Z",
     "iopub.status.busy": "2022-02-19T10:31:18.472202Z",
     "iopub.status.idle": "2022-02-19T10:31:18.486480Z",
     "shell.execute_reply": "2022-02-19T10:31:18.485825Z",
     "shell.execute_reply.started": "2022-02-19T10:24:56.110032Z"
    },
    "papermill": {
     "duration": 0.091422,
     "end_time": "2022-02-19T10:31:18.486659",
     "exception": false,
     "start_time": "2022-02-19T10:31:18.395237",
     "status": "completed"
    },
    "tags": []
   },
   "outputs": [],
   "source": [
    "test_data = pd.read_csv(\"/kaggle/input/titanic/test.csv\")"
   ]
  },
  {
   "cell_type": "code",
   "execution_count": 46,
   "id": "bb9122b6",
   "metadata": {
    "execution": {
     "iopub.execute_input": "2022-02-19T10:31:18.638688Z",
     "iopub.status.busy": "2022-02-19T10:31:18.637976Z",
     "iopub.status.idle": "2022-02-19T10:31:18.640579Z",
     "shell.execute_reply": "2022-02-19T10:31:18.641071Z",
     "shell.execute_reply.started": "2022-02-19T10:24:56.121576Z"
    },
    "papermill": {
     "duration": 0.082763,
     "end_time": "2022-02-19T10:31:18.641244",
     "exception": false,
     "start_time": "2022-02-19T10:31:18.558481",
     "status": "completed"
    },
    "tags": []
   },
   "outputs": [
    {
     "data": {
      "text/plain": [
       "array([34.5 , 47.  , 62.  , 27.  , 22.  , 14.  , 30.  , 26.  , 18.  ,\n",
       "       21.  ,   nan, 46.  , 23.  , 63.  , 24.  , 35.  , 45.  , 55.  ,\n",
       "        9.  , 48.  , 50.  , 22.5 , 41.  , 33.  , 18.5 , 25.  , 39.  ,\n",
       "       60.  , 36.  , 20.  , 28.  , 10.  , 17.  , 32.  , 13.  , 31.  ,\n",
       "       29.  , 28.5 , 32.5 ,  6.  , 67.  , 49.  ,  2.  , 76.  , 43.  ,\n",
       "       16.  ,  1.  , 12.  , 42.  , 53.  , 26.5 , 40.  , 61.  , 60.5 ,\n",
       "        7.  , 15.  , 54.  , 64.  , 37.  , 34.  , 11.5 ,  8.  ,  0.33,\n",
       "       38.  , 57.  , 40.5 ,  0.92, 19.  , 36.5 ,  0.75,  0.83, 58.  ,\n",
       "        0.17, 59.  , 14.5 , 44.  ,  5.  , 51.  ,  3.  , 38.5 ])"
      ]
     },
     "execution_count": 46,
     "metadata": {},
     "output_type": "execute_result"
    }
   ],
   "source": [
    "test_data.Age.unique()"
   ]
  },
  {
   "cell_type": "code",
   "execution_count": 47,
   "id": "bfdd1c0a",
   "metadata": {
    "execution": {
     "iopub.execute_input": "2022-02-19T10:31:18.792373Z",
     "iopub.status.busy": "2022-02-19T10:31:18.791639Z",
     "iopub.status.idle": "2022-02-19T10:31:18.805049Z",
     "shell.execute_reply": "2022-02-19T10:31:18.805823Z",
     "shell.execute_reply.started": "2022-02-19T10:24:56.134299Z"
    },
    "papermill": {
     "duration": 0.090458,
     "end_time": "2022-02-19T10:31:18.806080",
     "exception": false,
     "start_time": "2022-02-19T10:31:18.715622",
     "status": "completed"
    },
    "tags": []
   },
   "outputs": [
    {
     "name": "stdout",
     "output_type": "stream",
     "text": [
      "<class 'pandas.core.frame.DataFrame'>\n",
      "RangeIndex: 418 entries, 0 to 417\n",
      "Data columns (total 11 columns):\n",
      " #   Column       Non-Null Count  Dtype  \n",
      "---  ------       --------------  -----  \n",
      " 0   PassengerId  418 non-null    int64  \n",
      " 1   Pclass       418 non-null    int64  \n",
      " 2   Name         418 non-null    object \n",
      " 3   Sex          418 non-null    object \n",
      " 4   Age          332 non-null    float64\n",
      " 5   SibSp        418 non-null    int64  \n",
      " 6   Parch        418 non-null    int64  \n",
      " 7   Ticket       418 non-null    object \n",
      " 8   Fare         417 non-null    float64\n",
      " 9   Cabin        91 non-null     object \n",
      " 10  Embarked     418 non-null    object \n",
      "dtypes: float64(2), int64(4), object(5)\n",
      "memory usage: 36.0+ KB\n"
     ]
    }
   ],
   "source": [
    "test_data.info()"
   ]
  },
  {
   "cell_type": "code",
   "execution_count": 48,
   "id": "5af7d4d9",
   "metadata": {
    "execution": {
     "iopub.execute_input": "2022-02-19T10:31:18.956017Z",
     "iopub.status.busy": "2022-02-19T10:31:18.955296Z",
     "iopub.status.idle": "2022-02-19T10:31:18.984022Z",
     "shell.execute_reply": "2022-02-19T10:31:18.984694Z",
     "shell.execute_reply.started": "2022-02-19T10:24:56.153635Z"
    },
    "papermill": {
     "duration": 0.105984,
     "end_time": "2022-02-19T10:31:18.984889",
     "exception": false,
     "start_time": "2022-02-19T10:31:18.878905",
     "status": "completed"
    },
    "tags": []
   },
   "outputs": [
    {
     "data": {
      "text/html": [
       "<div>\n",
       "<style scoped>\n",
       "    .dataframe tbody tr th:only-of-type {\n",
       "        vertical-align: middle;\n",
       "    }\n",
       "\n",
       "    .dataframe tbody tr th {\n",
       "        vertical-align: top;\n",
       "    }\n",
       "\n",
       "    .dataframe thead th {\n",
       "        text-align: right;\n",
       "    }\n",
       "</style>\n",
       "<table border=\"1\" class=\"dataframe\">\n",
       "  <thead>\n",
       "    <tr style=\"text-align: right;\">\n",
       "      <th></th>\n",
       "      <th>PassengerId</th>\n",
       "      <th>Pclass</th>\n",
       "      <th>Name</th>\n",
       "      <th>Sex</th>\n",
       "      <th>Age</th>\n",
       "      <th>SibSp</th>\n",
       "      <th>Parch</th>\n",
       "      <th>Ticket</th>\n",
       "      <th>Fare</th>\n",
       "      <th>Cabin</th>\n",
       "      <th>Embarked</th>\n",
       "    </tr>\n",
       "  </thead>\n",
       "  <tbody>\n",
       "    <tr>\n",
       "      <th>0</th>\n",
       "      <td>892</td>\n",
       "      <td>3</td>\n",
       "      <td>Kelly, Mr. James</td>\n",
       "      <td>male</td>\n",
       "      <td>34.5</td>\n",
       "      <td>0</td>\n",
       "      <td>0</td>\n",
       "      <td>330911</td>\n",
       "      <td>7.8292</td>\n",
       "      <td>NaN</td>\n",
       "      <td>Q</td>\n",
       "    </tr>\n",
       "    <tr>\n",
       "      <th>1</th>\n",
       "      <td>893</td>\n",
       "      <td>3</td>\n",
       "      <td>Wilkes, Mrs. James (Ellen Needs)</td>\n",
       "      <td>female</td>\n",
       "      <td>47.0</td>\n",
       "      <td>1</td>\n",
       "      <td>0</td>\n",
       "      <td>363272</td>\n",
       "      <td>7.0000</td>\n",
       "      <td>NaN</td>\n",
       "      <td>S</td>\n",
       "    </tr>\n",
       "    <tr>\n",
       "      <th>2</th>\n",
       "      <td>894</td>\n",
       "      <td>2</td>\n",
       "      <td>Myles, Mr. Thomas Francis</td>\n",
       "      <td>male</td>\n",
       "      <td>62.0</td>\n",
       "      <td>0</td>\n",
       "      <td>0</td>\n",
       "      <td>240276</td>\n",
       "      <td>9.6875</td>\n",
       "      <td>NaN</td>\n",
       "      <td>Q</td>\n",
       "    </tr>\n",
       "    <tr>\n",
       "      <th>3</th>\n",
       "      <td>895</td>\n",
       "      <td>3</td>\n",
       "      <td>Wirz, Mr. Albert</td>\n",
       "      <td>male</td>\n",
       "      <td>27.0</td>\n",
       "      <td>0</td>\n",
       "      <td>0</td>\n",
       "      <td>315154</td>\n",
       "      <td>8.6625</td>\n",
       "      <td>NaN</td>\n",
       "      <td>S</td>\n",
       "    </tr>\n",
       "    <tr>\n",
       "      <th>4</th>\n",
       "      <td>896</td>\n",
       "      <td>3</td>\n",
       "      <td>Hirvonen, Mrs. Alexander (Helga E Lindqvist)</td>\n",
       "      <td>female</td>\n",
       "      <td>22.0</td>\n",
       "      <td>1</td>\n",
       "      <td>1</td>\n",
       "      <td>3101298</td>\n",
       "      <td>12.2875</td>\n",
       "      <td>NaN</td>\n",
       "      <td>S</td>\n",
       "    </tr>\n",
       "    <tr>\n",
       "      <th>...</th>\n",
       "      <td>...</td>\n",
       "      <td>...</td>\n",
       "      <td>...</td>\n",
       "      <td>...</td>\n",
       "      <td>...</td>\n",
       "      <td>...</td>\n",
       "      <td>...</td>\n",
       "      <td>...</td>\n",
       "      <td>...</td>\n",
       "      <td>...</td>\n",
       "      <td>...</td>\n",
       "    </tr>\n",
       "    <tr>\n",
       "      <th>413</th>\n",
       "      <td>1305</td>\n",
       "      <td>3</td>\n",
       "      <td>Spector, Mr. Woolf</td>\n",
       "      <td>male</td>\n",
       "      <td>&lt;bound method NDFrame._add_numeric_operations....</td>\n",
       "      <td>0</td>\n",
       "      <td>0</td>\n",
       "      <td>A.5. 3236</td>\n",
       "      <td>8.0500</td>\n",
       "      <td>NaN</td>\n",
       "      <td>S</td>\n",
       "    </tr>\n",
       "    <tr>\n",
       "      <th>414</th>\n",
       "      <td>1306</td>\n",
       "      <td>1</td>\n",
       "      <td>Oliva y Ocana, Dona. Fermina</td>\n",
       "      <td>female</td>\n",
       "      <td>39.0</td>\n",
       "      <td>0</td>\n",
       "      <td>0</td>\n",
       "      <td>PC 17758</td>\n",
       "      <td>108.9000</td>\n",
       "      <td>C105</td>\n",
       "      <td>C</td>\n",
       "    </tr>\n",
       "    <tr>\n",
       "      <th>415</th>\n",
       "      <td>1307</td>\n",
       "      <td>3</td>\n",
       "      <td>Saether, Mr. Simon Sivertsen</td>\n",
       "      <td>male</td>\n",
       "      <td>38.5</td>\n",
       "      <td>0</td>\n",
       "      <td>0</td>\n",
       "      <td>SOTON/O.Q. 3101262</td>\n",
       "      <td>7.2500</td>\n",
       "      <td>NaN</td>\n",
       "      <td>S</td>\n",
       "    </tr>\n",
       "    <tr>\n",
       "      <th>416</th>\n",
       "      <td>1308</td>\n",
       "      <td>3</td>\n",
       "      <td>Ware, Mr. Frederick</td>\n",
       "      <td>male</td>\n",
       "      <td>&lt;bound method NDFrame._add_numeric_operations....</td>\n",
       "      <td>0</td>\n",
       "      <td>0</td>\n",
       "      <td>359309</td>\n",
       "      <td>8.0500</td>\n",
       "      <td>NaN</td>\n",
       "      <td>S</td>\n",
       "    </tr>\n",
       "    <tr>\n",
       "      <th>417</th>\n",
       "      <td>1309</td>\n",
       "      <td>3</td>\n",
       "      <td>Peter, Master. Michael J</td>\n",
       "      <td>male</td>\n",
       "      <td>&lt;bound method NDFrame._add_numeric_operations....</td>\n",
       "      <td>1</td>\n",
       "      <td>1</td>\n",
       "      <td>2668</td>\n",
       "      <td>22.3583</td>\n",
       "      <td>NaN</td>\n",
       "      <td>C</td>\n",
       "    </tr>\n",
       "  </tbody>\n",
       "</table>\n",
       "<p>418 rows × 11 columns</p>\n",
       "</div>"
      ],
      "text/plain": [
       "     PassengerId  Pclass                                          Name  \\\n",
       "0            892       3                              Kelly, Mr. James   \n",
       "1            893       3              Wilkes, Mrs. James (Ellen Needs)   \n",
       "2            894       2                     Myles, Mr. Thomas Francis   \n",
       "3            895       3                              Wirz, Mr. Albert   \n",
       "4            896       3  Hirvonen, Mrs. Alexander (Helga E Lindqvist)   \n",
       "..           ...     ...                                           ...   \n",
       "413         1305       3                            Spector, Mr. Woolf   \n",
       "414         1306       1                  Oliva y Ocana, Dona. Fermina   \n",
       "415         1307       3                  Saether, Mr. Simon Sivertsen   \n",
       "416         1308       3                           Ware, Mr. Frederick   \n",
       "417         1309       3                      Peter, Master. Michael J   \n",
       "\n",
       "        Sex                                                Age  SibSp  Parch  \\\n",
       "0      male                                               34.5      0      0   \n",
       "1    female                                               47.0      1      0   \n",
       "2      male                                               62.0      0      0   \n",
       "3      male                                               27.0      0      0   \n",
       "4    female                                               22.0      1      1   \n",
       "..      ...                                                ...    ...    ...   \n",
       "413    male  <bound method NDFrame._add_numeric_operations....      0      0   \n",
       "414  female                                               39.0      0      0   \n",
       "415    male                                               38.5      0      0   \n",
       "416    male  <bound method NDFrame._add_numeric_operations....      0      0   \n",
       "417    male  <bound method NDFrame._add_numeric_operations....      1      1   \n",
       "\n",
       "                 Ticket      Fare Cabin Embarked  \n",
       "0                330911    7.8292   NaN        Q  \n",
       "1                363272    7.0000   NaN        S  \n",
       "2                240276    9.6875   NaN        Q  \n",
       "3                315154    8.6625   NaN        S  \n",
       "4               3101298   12.2875   NaN        S  \n",
       "..                  ...       ...   ...      ...  \n",
       "413           A.5. 3236    8.0500   NaN        S  \n",
       "414            PC 17758  108.9000  C105        C  \n",
       "415  SOTON/O.Q. 3101262    7.2500   NaN        S  \n",
       "416              359309    8.0500   NaN        S  \n",
       "417                2668   22.3583   NaN        C  \n",
       "\n",
       "[418 rows x 11 columns]"
      ]
     },
     "execution_count": 48,
     "metadata": {},
     "output_type": "execute_result"
    }
   ],
   "source": [
    "values = {\"Age\": test_data['Age'].mean}\n",
    "\n",
    "test_data.fillna(value=values)"
   ]
  },
  {
   "cell_type": "code",
   "execution_count": 49,
   "id": "6559927c",
   "metadata": {
    "execution": {
     "iopub.execute_input": "2022-02-19T10:31:19.138356Z",
     "iopub.status.busy": "2022-02-19T10:31:19.137668Z",
     "iopub.status.idle": "2022-02-19T10:31:19.144053Z",
     "shell.execute_reply": "2022-02-19T10:31:19.144677Z",
     "shell.execute_reply.started": "2022-02-19T10:24:56.187618Z"
    },
    "papermill": {
     "duration": 0.085648,
     "end_time": "2022-02-19T10:31:19.144887",
     "exception": false,
     "start_time": "2022-02-19T10:31:19.059239",
     "status": "completed"
    },
    "tags": []
   },
   "outputs": [],
   "source": [
    "test_data['Age'] = test_data['Age'].apply(lambda x: classiyfAge(x))\n",
    "test_data['Fare'] = test_data['Fare'].apply(lambda x : classifyFare(x))"
   ]
  },
  {
   "cell_type": "markdown",
   "id": "7b70bcf5",
   "metadata": {
    "papermill": {
     "duration": 0.074463,
     "end_time": "2022-02-19T10:31:19.291892",
     "exception": false,
     "start_time": "2022-02-19T10:31:19.217429",
     "status": "completed"
    },
    "tags": []
   },
   "source": []
  },
  {
   "cell_type": "code",
   "execution_count": 50,
   "id": "f8556aa5",
   "metadata": {
    "execution": {
     "iopub.execute_input": "2022-02-19T10:31:19.443329Z",
     "iopub.status.busy": "2022-02-19T10:31:19.442037Z",
     "iopub.status.idle": "2022-02-19T10:31:19.455490Z",
     "shell.execute_reply": "2022-02-19T10:31:19.454800Z",
     "shell.execute_reply.started": "2022-02-19T10:24:56.197531Z"
    },
    "papermill": {
     "duration": 0.090829,
     "end_time": "2022-02-19T10:31:19.455653",
     "exception": false,
     "start_time": "2022-02-19T10:31:19.364824",
     "status": "completed"
    },
    "tags": []
   },
   "outputs": [],
   "source": [
    "features = [\"Pclass\", \"Sex\", \"SibSp\", \"Parch\",\"Embarked\", \"Age\",\"Fare\"]\n",
    "X_test1 = pd.get_dummies(test_data[features],drop_first= True).values"
   ]
  },
  {
   "cell_type": "code",
   "execution_count": 51,
   "id": "59107b7d",
   "metadata": {
    "execution": {
     "iopub.execute_input": "2022-02-19T10:31:19.605587Z",
     "iopub.status.busy": "2022-02-19T10:31:19.604875Z",
     "iopub.status.idle": "2022-02-19T10:31:19.620876Z",
     "shell.execute_reply": "2022-02-19T10:31:19.621533Z",
     "shell.execute_reply.started": "2022-02-19T10:24:56.220137Z"
    },
    "papermill": {
     "duration": 0.093081,
     "end_time": "2022-02-19T10:31:19.621736",
     "exception": false,
     "start_time": "2022-02-19T10:31:19.528655",
     "status": "completed"
    },
    "tags": []
   },
   "outputs": [
    {
     "name": "stdout",
     "output_type": "stream",
     "text": [
      "Your submission was successfully saved!\n"
     ]
    }
   ],
   "source": [
    "#model.fit(x=X1, y = y1)\n",
    "#y_pred=(model.predict(X_test) > 0.5).astype(\"int32\")\n",
    "predictions = model.predict(X_test1)\n",
    "predictions = np.reshape(predictions, 418)\n",
    "output = pd.DataFrame({'PassengerId': test_data.PassengerId, 'Survived': predictions})\n",
    "output.to_csv('submission.csv', index=False)\n",
    "print(\"Your submission was successfully saved!\")"
   ]
  },
  {
   "cell_type": "markdown",
   "id": "971dd7eb",
   "metadata": {
    "papermill": {
     "duration": 0.074406,
     "end_time": "2022-02-19T10:31:19.770920",
     "exception": false,
     "start_time": "2022-02-19T10:31:19.696514",
     "status": "completed"
    },
    "tags": []
   },
   "source": []
  }
 ],
 "metadata": {
  "kernelspec": {
   "display_name": "Python 3",
   "language": "python",
   "name": "python3"
  },
  "language_info": {
   "codemirror_mode": {
    "name": "ipython",
    "version": 3
   },
   "file_extension": ".py",
   "mimetype": "text/x-python",
   "name": "python",
   "nbconvert_exporter": "python",
   "pygments_lexer": "ipython3",
   "version": "3.7.12"
  },
  "papermill": {
   "default_parameters": {},
   "duration": 40.107649,
   "end_time": "2022-02-19T10:31:20.756623",
   "environment_variables": {},
   "exception": null,
   "input_path": "__notebook__.ipynb",
   "output_path": "__notebook__.ipynb",
   "parameters": {},
   "start_time": "2022-02-19T10:30:40.648974",
   "version": "2.3.3"
  }
 },
 "nbformat": 4,
 "nbformat_minor": 5
}
